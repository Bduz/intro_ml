{
  "nbformat": 4,
  "nbformat_minor": 0,
  "metadata": {
    "colab": {
      "provenance": [],
      "collapsed_sections": []
    },
    "kernelspec": {
      "name": "python3",
      "display_name": "Python 3"
    },
    "language_info": {
      "name": "python"
    }
  },
  "cells": [
    {
      "cell_type": "code",
      "execution_count": null,
      "metadata": {
        "colab": {
          "base_uri": "https://localhost:8080/"
        },
        "id": "v0JpCBmt9p3b",
        "outputId": "15a5ed80-60b4-42d8-92fd-bc32115c0d15"
      },
      "outputs": [
        {
          "output_type": "stream",
          "name": "stdout",
          "text": [
            "fatal: destination path 'intro_pytorch' already exists and is not an empty directory.\n"
          ]
        }
      ],
      "source": [
        "!git clone https://github.com/Bduz/intro_pytorch.git"
      ]
    },
    {
      "cell_type": "markdown",
      "source": [
        "# 0 - Load all the Necessary Modules"
      ],
      "metadata": {
        "id": "CILaN6ZBHr9H"
      }
    },
    {
      "cell_type": "code",
      "source": [
        "import sys\n",
        "sys.path.insert(0, '/content/intro_pytorch/')"
      ],
      "metadata": {
        "id": "lWSQO88OHptv"
      },
      "execution_count": null,
      "outputs": []
    },
    {
      "cell_type": "code",
      "source": [
        "import numpy as np\n",
        "import torch\n",
        "from torch import nn\n",
        "from torch import optim\n",
        "import torch.nn.functional as F\n",
        "\n",
        "import helperfuncs"
      ],
      "metadata": {
        "id": "DpyuUrVNIBg_"
      },
      "execution_count": null,
      "outputs": []
    },
    {
      "cell_type": "markdown",
      "source": [
        "# 1 - Load and Process the Data"
      ],
      "metadata": {
        "id": "V3Dh5nGvGc5A"
      }
    },
    {
      "cell_type": "markdown",
      "source": [
        "Load the MNIST data and transform it."
      ],
      "metadata": {
        "id": "5ywgLah5Isnp"
      }
    },
    {
      "cell_type": "code",
      "source": [
        "from torchvision import datasets, transforms\n",
        "\n",
        "# Define transformations on the data\n",
        "transform  = transforms.Compose([transforms.ToTensor(), transforms.Normalize((0.5), (0.5)),])\n",
        "\n",
        "#Load the training data\n",
        "trainset = datasets.MNIST('MNIST_data/', download=True, train=True, transform=transform)\n",
        "trainloader = torch.utils.data.DataLoader(trainset, batch_size=64, shuffle=True)\n",
        "\n",
        "#Load the test data\n",
        "testset = datasets.MNIST('MNIST_data/', download=True, train=False, transform=transform)\n",
        "testloader = torch.utils.data.DataLoader(testset, batch_size=64, shuffle=True)"
      ],
      "metadata": {
        "id": "Kj7CsrEsHdTq"
      },
      "execution_count": null,
      "outputs": []
    },
    {
      "cell_type": "markdown",
      "source": [
        "# 2 - The Model of the Neural Network"
      ],
      "metadata": {
        "id": "eaNxmqZGGtx7"
      }
    },
    {
      "cell_type": "markdown",
      "source": [
        "Let's use the [LeNet](https://pytorch.org/tutorials/beginner/blitz/neural_networks_tutorial.html) model as our ConvNet."
      ],
      "metadata": {
        "id": "F0ScwGoApKfd"
      }
    },
    {
      "cell_type": "code",
      "source": [
        "class MnistModel(nn.Module):\n",
        "  def __init__(self):\n",
        "    super().__init__()\n",
        "    # 1 input image channel, 6 output channels, 5x5 square convolution\n",
        "    # kernel\n",
        "    self.conv1 = nn.Conv2d(1, 6, 5, padding=2)\n",
        "    self.conv2 = nn.Conv2d(6, 16, 5)\n",
        "    # an affine operation: y = Wx + b\n",
        "    self.fc1 = nn.Linear(16 * 5 * 5, 120)  # 5*5 from image dimension\n",
        "    self.fc2 = nn.Linear(120, 84)\n",
        "    self.fc3 = nn.Linear(84, 10)\n",
        "\n",
        "  def forward(self, x):\n",
        "      # Max pooling over a (2, 2) window\n",
        "      x = F.max_pool2d(F.relu(self.conv1(x)), (2, 2))\n",
        "      # If the size is a square, you can specify with a single number\n",
        "      x = F.max_pool2d(F.relu(self.conv2(x)), 2)\n",
        "      x = torch.flatten(x, 1) # flatten all dimensions except the batch dimension\n",
        "      x = F.relu(self.fc1(x))\n",
        "      x = F.relu(self.fc2(x))\n",
        "      x = self.fc3(x)\n",
        "      return x\n",
        "\n",
        "\n",
        "model = MnistModel()\n",
        "model\n"
      ],
      "metadata": {
        "colab": {
          "base_uri": "https://localhost:8080/"
        },
        "id": "zimiGxvWLeBJ",
        "outputId": "7b12e987-76f2-45d7-aecf-4b50c20fc613"
      },
      "execution_count": null,
      "outputs": [
        {
          "output_type": "execute_result",
          "data": {
            "text/plain": [
              "MnistModel(\n",
              "  (conv1): Conv2d(1, 6, kernel_size=(5, 5), stride=(1, 1), padding=(2, 2))\n",
              "  (conv2): Conv2d(6, 16, kernel_size=(5, 5), stride=(1, 1))\n",
              "  (fc1): Linear(in_features=400, out_features=120, bias=True)\n",
              "  (fc2): Linear(in_features=120, out_features=84, bias=True)\n",
              "  (fc3): Linear(in_features=84, out_features=10, bias=True)\n",
              ")"
            ]
          },
          "metadata": {},
          "execution_count": 36
        }
      ]
    },
    {
      "cell_type": "markdown",
      "source": [
        "# 3 - Train the Model"
      ],
      "metadata": {
        "id": "16Km_6QWHAIF"
      }
    },
    {
      "cell_type": "code",
      "source": [
        "# Implement a function for the validation pass\n",
        "def validation(model, testloader, criterion):\n",
        "    test_loss = 0\n",
        "    accuracy = 0\n",
        "    for images, labels in testloader:\n",
        "\n",
        "        output = model.forward(images)\n",
        "        test_loss += criterion(output, labels).item()\n",
        "\n",
        "        ps = torch.exp(output)\n",
        "        equality = (labels.data == ps.max(dim=1)[1])\n",
        "        accuracy += equality.type(torch.FloatTensor).mean()\n",
        "    \n",
        "    return test_loss, accuracy"
      ],
      "metadata": {
        "id": "uIs3mn7pd6ez"
      },
      "execution_count": null,
      "outputs": []
    },
    {
      "cell_type": "code",
      "source": [
        "criterion = nn.CrossEntropyLoss()\n",
        "optimizer = optim.SGD(model.parameters(), lr=0.01)\n",
        "\n",
        "epochs = 5\n",
        "print_every = 40\n",
        "steps = 0\n",
        "for e in range(epochs):\n",
        "  running_loss = 0\n",
        "  for images, labels in iter(trainloader):\n",
        "    steps += 1\n",
        "\n",
        "    optimizer.zero_grad()\n",
        "\n",
        "    output = model.forward(images)\n",
        "    loss = criterion(output, labels)\n",
        "    loss.backward()\n",
        "    optimizer.step()\n",
        "\n",
        "    running_loss += loss.item()\n",
        "\n",
        "    if steps % print_every == 0:\n",
        "      # Make sure network is in eval mode for inference\n",
        "      model.eval()\n",
        "      \n",
        "      # Turn off gradients for validation, saves memory and computations\n",
        "      with torch.no_grad():\n",
        "          test_loss, accuracy = validation(model, testloader, criterion)\n",
        "          \n",
        "      print(\"Epoch: {}/{}.. \".format(e+1, epochs),\n",
        "            \"Training Loss: {:.3f}.. \".format(running_loss/print_every),\n",
        "            \"Test Loss: {:.3f}.. \".format(test_loss/len(testloader)),\n",
        "            \"Test Accuracy: {:.3f}\".format(accuracy/len(testloader)))\n",
        "      \n",
        "      running_loss = 0\n",
        "      \n",
        "      # Make sure training is back on\n",
        "      model.train()\n"
      ],
      "metadata": {
        "colab": {
          "base_uri": "https://localhost:8080/"
        },
        "id": "0neziT7ER5Fs",
        "outputId": "b14194d4-125e-4603-a780-4454459cd548"
      },
      "execution_count": null,
      "outputs": [
        {
          "output_type": "stream",
          "name": "stdout",
          "text": [
            "Epoch: 1/10..  Training Loss: 2.214..  Test Loss: 2.193..  Test Accuracy: 0.397\n",
            "Epoch: 1/10..  Training Loss: 2.168..  Test Loss: 2.133..  Test Accuracy: 0.385\n",
            "Epoch: 1/10..  Training Loss: 2.097..  Test Loss: 2.024..  Test Accuracy: 0.391\n",
            "Epoch: 1/10..  Training Loss: 1.926..  Test Loss: 1.814..  Test Accuracy: 0.402\n",
            "Epoch: 1/10..  Training Loss: 1.681..  Test Loss: 1.517..  Test Accuracy: 0.568\n",
            "Epoch: 1/10..  Training Loss: 1.371..  Test Loss: 1.231..  Test Accuracy: 0.665\n",
            "Epoch: 1/10..  Training Loss: 1.114..  Test Loss: 1.008..  Test Accuracy: 0.690\n",
            "Epoch: 1/10..  Training Loss: 0.888..  Test Loss: 0.782..  Test Accuracy: 0.765\n",
            "Epoch: 1/10..  Training Loss: 0.736..  Test Loss: 0.697..  Test Accuracy: 0.780\n",
            "Epoch: 1/10..  Training Loss: 0.637..  Test Loss: 0.608..  Test Accuracy: 0.810\n",
            "Epoch: 1/10..  Training Loss: 0.602..  Test Loss: 0.501..  Test Accuracy: 0.847\n",
            "Epoch: 1/10..  Training Loss: 0.531..  Test Loss: 0.475..  Test Accuracy: 0.854\n",
            "Epoch: 1/10..  Training Loss: 0.502..  Test Loss: 0.425..  Test Accuracy: 0.873\n",
            "Epoch: 1/10..  Training Loss: 0.447..  Test Loss: 0.399..  Test Accuracy: 0.876\n",
            "Epoch: 1/10..  Training Loss: 0.405..  Test Loss: 0.380..  Test Accuracy: 0.887\n",
            "Epoch: 1/10..  Training Loss: 0.411..  Test Loss: 0.395..  Test Accuracy: 0.877\n",
            "Epoch: 1/10..  Training Loss: 0.366..  Test Loss: 0.343..  Test Accuracy: 0.895\n",
            "Epoch: 1/10..  Training Loss: 0.366..  Test Loss: 0.352..  Test Accuracy: 0.893\n",
            "Epoch: 1/10..  Training Loss: 0.343..  Test Loss: 0.315..  Test Accuracy: 0.907\n",
            "Epoch: 1/10..  Training Loss: 0.364..  Test Loss: 0.370..  Test Accuracy: 0.886\n",
            "Epoch: 1/10..  Training Loss: 0.360..  Test Loss: 0.306..  Test Accuracy: 0.908\n",
            "Epoch: 1/10..  Training Loss: 0.312..  Test Loss: 0.278..  Test Accuracy: 0.914\n",
            "Epoch: 1/10..  Training Loss: 0.320..  Test Loss: 0.282..  Test Accuracy: 0.912\n",
            "Epoch: 2/10..  Training Loss: 0.144..  Test Loss: 0.263..  Test Accuracy: 0.917\n",
            "Epoch: 2/10..  Training Loss: 0.278..  Test Loss: 0.251..  Test Accuracy: 0.926\n",
            "Epoch: 2/10..  Training Loss: 0.254..  Test Loss: 0.246..  Test Accuracy: 0.927\n",
            "Epoch: 2/10..  Training Loss: 0.252..  Test Loss: 0.258..  Test Accuracy: 0.920\n",
            "Epoch: 2/10..  Training Loss: 0.275..  Test Loss: 0.233..  Test Accuracy: 0.929\n",
            "Epoch: 2/10..  Training Loss: 0.264..  Test Loss: 0.230..  Test Accuracy: 0.930\n",
            "Epoch: 2/10..  Training Loss: 0.243..  Test Loss: 0.221..  Test Accuracy: 0.933\n",
            "Epoch: 2/10..  Training Loss: 0.247..  Test Loss: 0.225..  Test Accuracy: 0.929\n",
            "Epoch: 2/10..  Training Loss: 0.228..  Test Loss: 0.206..  Test Accuracy: 0.936\n",
            "Epoch: 2/10..  Training Loss: 0.228..  Test Loss: 0.200..  Test Accuracy: 0.940\n",
            "Epoch: 2/10..  Training Loss: 0.231..  Test Loss: 0.202..  Test Accuracy: 0.940\n",
            "Epoch: 2/10..  Training Loss: 0.226..  Test Loss: 0.193..  Test Accuracy: 0.942\n",
            "Epoch: 2/10..  Training Loss: 0.222..  Test Loss: 0.191..  Test Accuracy: 0.944\n",
            "Epoch: 2/10..  Training Loss: 0.206..  Test Loss: 0.200..  Test Accuracy: 0.938\n",
            "Epoch: 2/10..  Training Loss: 0.204..  Test Loss: 0.188..  Test Accuracy: 0.943\n",
            "Epoch: 2/10..  Training Loss: 0.210..  Test Loss: 0.218..  Test Accuracy: 0.932\n",
            "Epoch: 2/10..  Training Loss: 0.213..  Test Loss: 0.173..  Test Accuracy: 0.946\n",
            "Epoch: 2/10..  Training Loss: 0.191..  Test Loss: 0.173..  Test Accuracy: 0.948\n",
            "Epoch: 2/10..  Training Loss: 0.205..  Test Loss: 0.165..  Test Accuracy: 0.950\n",
            "Epoch: 2/10..  Training Loss: 0.176..  Test Loss: 0.164..  Test Accuracy: 0.951\n",
            "Epoch: 2/10..  Training Loss: 0.188..  Test Loss: 0.189..  Test Accuracy: 0.944\n",
            "Epoch: 2/10..  Training Loss: 0.180..  Test Loss: 0.153..  Test Accuracy: 0.954\n",
            "Epoch: 2/10..  Training Loss: 0.162..  Test Loss: 0.156..  Test Accuracy: 0.954\n",
            "Epoch: 3/10..  Training Loss: 0.021..  Test Loss: 0.151..  Test Accuracy: 0.954\n",
            "Epoch: 3/10..  Training Loss: 0.179..  Test Loss: 0.154..  Test Accuracy: 0.953\n",
            "Epoch: 3/10..  Training Loss: 0.153..  Test Loss: 0.156..  Test Accuracy: 0.953\n",
            "Epoch: 3/10..  Training Loss: 0.161..  Test Loss: 0.146..  Test Accuracy: 0.955\n",
            "Epoch: 3/10..  Training Loss: 0.183..  Test Loss: 0.161..  Test Accuracy: 0.947\n",
            "Epoch: 3/10..  Training Loss: 0.164..  Test Loss: 0.142..  Test Accuracy: 0.956\n",
            "Epoch: 3/10..  Training Loss: 0.168..  Test Loss: 0.177..  Test Accuracy: 0.946\n",
            "Epoch: 3/10..  Training Loss: 0.176..  Test Loss: 0.150..  Test Accuracy: 0.955\n",
            "Epoch: 3/10..  Training Loss: 0.143..  Test Loss: 0.140..  Test Accuracy: 0.956\n",
            "Epoch: 3/10..  Training Loss: 0.171..  Test Loss: 0.139..  Test Accuracy: 0.958\n",
            "Epoch: 3/10..  Training Loss: 0.155..  Test Loss: 0.137..  Test Accuracy: 0.959\n",
            "Epoch: 3/10..  Training Loss: 0.151..  Test Loss: 0.145..  Test Accuracy: 0.955\n",
            "Epoch: 3/10..  Training Loss: 0.144..  Test Loss: 0.134..  Test Accuracy: 0.959\n",
            "Epoch: 3/10..  Training Loss: 0.178..  Test Loss: 0.152..  Test Accuracy: 0.952\n",
            "Epoch: 3/10..  Training Loss: 0.155..  Test Loss: 0.126..  Test Accuracy: 0.963\n",
            "Epoch: 3/10..  Training Loss: 0.130..  Test Loss: 0.131..  Test Accuracy: 0.957\n",
            "Epoch: 3/10..  Training Loss: 0.151..  Test Loss: 0.130..  Test Accuracy: 0.960\n",
            "Epoch: 3/10..  Training Loss: 0.136..  Test Loss: 0.126..  Test Accuracy: 0.961\n",
            "Epoch: 3/10..  Training Loss: 0.156..  Test Loss: 0.136..  Test Accuracy: 0.957\n",
            "Epoch: 3/10..  Training Loss: 0.136..  Test Loss: 0.127..  Test Accuracy: 0.960\n",
            "Epoch: 3/10..  Training Loss: 0.136..  Test Loss: 0.119..  Test Accuracy: 0.963\n",
            "Epoch: 3/10..  Training Loss: 0.117..  Test Loss: 0.121..  Test Accuracy: 0.961\n",
            "Epoch: 3/10..  Training Loss: 0.147..  Test Loss: 0.118..  Test Accuracy: 0.963\n",
            "Epoch: 3/10..  Training Loss: 0.151..  Test Loss: 0.139..  Test Accuracy: 0.959\n",
            "Epoch: 4/10..  Training Loss: 0.074..  Test Loss: 0.119..  Test Accuracy: 0.965\n",
            "Epoch: 4/10..  Training Loss: 0.157..  Test Loss: 0.117..  Test Accuracy: 0.963\n",
            "Epoch: 4/10..  Training Loss: 0.124..  Test Loss: 0.112..  Test Accuracy: 0.964\n",
            "Epoch: 4/10..  Training Loss: 0.131..  Test Loss: 0.110..  Test Accuracy: 0.966\n",
            "Epoch: 4/10..  Training Loss: 0.132..  Test Loss: 0.108..  Test Accuracy: 0.967\n",
            "Epoch: 4/10..  Training Loss: 0.130..  Test Loss: 0.113..  Test Accuracy: 0.963\n",
            "Epoch: 4/10..  Training Loss: 0.124..  Test Loss: 0.107..  Test Accuracy: 0.966\n",
            "Epoch: 4/10..  Training Loss: 0.122..  Test Loss: 0.110..  Test Accuracy: 0.967\n",
            "Epoch: 4/10..  Training Loss: 0.137..  Test Loss: 0.114..  Test Accuracy: 0.963\n",
            "Epoch: 4/10..  Training Loss: 0.127..  Test Loss: 0.107..  Test Accuracy: 0.965\n",
            "Epoch: 4/10..  Training Loss: 0.120..  Test Loss: 0.112..  Test Accuracy: 0.964\n",
            "Epoch: 4/10..  Training Loss: 0.120..  Test Loss: 0.125..  Test Accuracy: 0.959\n",
            "Epoch: 4/10..  Training Loss: 0.115..  Test Loss: 0.113..  Test Accuracy: 0.963\n",
            "Epoch: 4/10..  Training Loss: 0.157..  Test Loss: 0.104..  Test Accuracy: 0.968\n",
            "Epoch: 4/10..  Training Loss: 0.121..  Test Loss: 0.112..  Test Accuracy: 0.964\n",
            "Epoch: 4/10..  Training Loss: 0.130..  Test Loss: 0.104..  Test Accuracy: 0.968\n",
            "Epoch: 4/10..  Training Loss: 0.102..  Test Loss: 0.105..  Test Accuracy: 0.968\n",
            "Epoch: 4/10..  Training Loss: 0.108..  Test Loss: 0.111..  Test Accuracy: 0.965\n",
            "Epoch: 4/10..  Training Loss: 0.141..  Test Loss: 0.112..  Test Accuracy: 0.966\n",
            "Epoch: 4/10..  Training Loss: 0.104..  Test Loss: 0.109..  Test Accuracy: 0.965\n",
            "Epoch: 4/10..  Training Loss: 0.103..  Test Loss: 0.098..  Test Accuracy: 0.969\n",
            "Epoch: 4/10..  Training Loss: 0.106..  Test Loss: 0.102..  Test Accuracy: 0.966\n",
            "Epoch: 4/10..  Training Loss: 0.116..  Test Loss: 0.128..  Test Accuracy: 0.962\n",
            "Epoch: 5/10..  Training Loss: 0.022..  Test Loss: 0.112..  Test Accuracy: 0.964\n",
            "Epoch: 5/10..  Training Loss: 0.114..  Test Loss: 0.104..  Test Accuracy: 0.967\n",
            "Epoch: 5/10..  Training Loss: 0.116..  Test Loss: 0.100..  Test Accuracy: 0.970\n",
            "Epoch: 5/10..  Training Loss: 0.103..  Test Loss: 0.097..  Test Accuracy: 0.971\n",
            "Epoch: 5/10..  Training Loss: 0.109..  Test Loss: 0.101..  Test Accuracy: 0.969\n",
            "Epoch: 5/10..  Training Loss: 0.091..  Test Loss: 0.099..  Test Accuracy: 0.972\n",
            "Epoch: 5/10..  Training Loss: 0.102..  Test Loss: 0.097..  Test Accuracy: 0.969\n",
            "Epoch: 5/10..  Training Loss: 0.097..  Test Loss: 0.095..  Test Accuracy: 0.971\n",
            "Epoch: 5/10..  Training Loss: 0.130..  Test Loss: 0.097..  Test Accuracy: 0.973\n",
            "Epoch: 5/10..  Training Loss: 0.101..  Test Loss: 0.090..  Test Accuracy: 0.974\n",
            "Epoch: 5/10..  Training Loss: 0.096..  Test Loss: 0.109..  Test Accuracy: 0.966\n",
            "Epoch: 5/10..  Training Loss: 0.096..  Test Loss: 0.095..  Test Accuracy: 0.971\n",
            "Epoch: 5/10..  Training Loss: 0.111..  Test Loss: 0.107..  Test Accuracy: 0.967\n",
            "Epoch: 5/10..  Training Loss: 0.104..  Test Loss: 0.086..  Test Accuracy: 0.973\n",
            "Epoch: 5/10..  Training Loss: 0.105..  Test Loss: 0.086..  Test Accuracy: 0.975\n",
            "Epoch: 5/10..  Training Loss: 0.103..  Test Loss: 0.090..  Test Accuracy: 0.972\n",
            "Epoch: 5/10..  Training Loss: 0.087..  Test Loss: 0.093..  Test Accuracy: 0.971\n",
            "Epoch: 5/10..  Training Loss: 0.095..  Test Loss: 0.088..  Test Accuracy: 0.971\n",
            "Epoch: 5/10..  Training Loss: 0.104..  Test Loss: 0.091..  Test Accuracy: 0.970\n",
            "Epoch: 5/10..  Training Loss: 0.109..  Test Loss: 0.096..  Test Accuracy: 0.968\n",
            "Epoch: 5/10..  Training Loss: 0.100..  Test Loss: 0.094..  Test Accuracy: 0.968\n",
            "Epoch: 5/10..  Training Loss: 0.119..  Test Loss: 0.088..  Test Accuracy: 0.974\n",
            "Epoch: 5/10..  Training Loss: 0.106..  Test Loss: 0.089..  Test Accuracy: 0.969\n",
            "Epoch: 5/10..  Training Loss: 0.090..  Test Loss: 0.082..  Test Accuracy: 0.974\n",
            "Epoch: 6/10..  Training Loss: 0.058..  Test Loss: 0.083..  Test Accuracy: 0.974\n",
            "Epoch: 6/10..  Training Loss: 0.092..  Test Loss: 0.100..  Test Accuracy: 0.969\n",
            "Epoch: 6/10..  Training Loss: 0.100..  Test Loss: 0.107..  Test Accuracy: 0.964\n",
            "Epoch: 6/10..  Training Loss: 0.101..  Test Loss: 0.080..  Test Accuracy: 0.976\n",
            "Epoch: 6/10..  Training Loss: 0.084..  Test Loss: 0.086..  Test Accuracy: 0.975\n",
            "Epoch: 6/10..  Training Loss: 0.102..  Test Loss: 0.090..  Test Accuracy: 0.973\n",
            "Epoch: 6/10..  Training Loss: 0.084..  Test Loss: 0.083..  Test Accuracy: 0.975\n",
            "Epoch: 6/10..  Training Loss: 0.091..  Test Loss: 0.079..  Test Accuracy: 0.975\n",
            "Epoch: 6/10..  Training Loss: 0.091..  Test Loss: 0.090..  Test Accuracy: 0.971\n",
            "Epoch: 6/10..  Training Loss: 0.109..  Test Loss: 0.092..  Test Accuracy: 0.971\n",
            "Epoch: 6/10..  Training Loss: 0.088..  Test Loss: 0.087..  Test Accuracy: 0.972\n",
            "Epoch: 6/10..  Training Loss: 0.076..  Test Loss: 0.085..  Test Accuracy: 0.976\n",
            "Epoch: 6/10..  Training Loss: 0.086..  Test Loss: 0.079..  Test Accuracy: 0.975\n",
            "Epoch: 6/10..  Training Loss: 0.093..  Test Loss: 0.087..  Test Accuracy: 0.973\n",
            "Epoch: 6/10..  Training Loss: 0.087..  Test Loss: 0.080..  Test Accuracy: 0.975\n",
            "Epoch: 6/10..  Training Loss: 0.091..  Test Loss: 0.077..  Test Accuracy: 0.974\n",
            "Epoch: 6/10..  Training Loss: 0.092..  Test Loss: 0.088..  Test Accuracy: 0.971\n",
            "Epoch: 6/10..  Training Loss: 0.085..  Test Loss: 0.080..  Test Accuracy: 0.977\n",
            "Epoch: 6/10..  Training Loss: 0.085..  Test Loss: 0.076..  Test Accuracy: 0.976\n",
            "Epoch: 6/10..  Training Loss: 0.099..  Test Loss: 0.077..  Test Accuracy: 0.976\n",
            "Epoch: 6/10..  Training Loss: 0.082..  Test Loss: 0.074..  Test Accuracy: 0.977\n",
            "Epoch: 6/10..  Training Loss: 0.062..  Test Loss: 0.076..  Test Accuracy: 0.977\n",
            "Epoch: 6/10..  Training Loss: 0.094..  Test Loss: 0.075..  Test Accuracy: 0.976\n",
            "Epoch: 7/10..  Training Loss: 0.029..  Test Loss: 0.074..  Test Accuracy: 0.978\n",
            "Epoch: 7/10..  Training Loss: 0.070..  Test Loss: 0.078..  Test Accuracy: 0.976\n",
            "Epoch: 7/10..  Training Loss: 0.087..  Test Loss: 0.076..  Test Accuracy: 0.976\n",
            "Epoch: 7/10..  Training Loss: 0.092..  Test Loss: 0.077..  Test Accuracy: 0.977\n",
            "Epoch: 7/10..  Training Loss: 0.078..  Test Loss: 0.081..  Test Accuracy: 0.972\n",
            "Epoch: 7/10..  Training Loss: 0.085..  Test Loss: 0.078..  Test Accuracy: 0.976\n",
            "Epoch: 7/10..  Training Loss: 0.085..  Test Loss: 0.076..  Test Accuracy: 0.977\n",
            "Epoch: 7/10..  Training Loss: 0.086..  Test Loss: 0.096..  Test Accuracy: 0.969\n",
            "Epoch: 7/10..  Training Loss: 0.090..  Test Loss: 0.072..  Test Accuracy: 0.978\n",
            "Epoch: 7/10..  Training Loss: 0.068..  Test Loss: 0.072..  Test Accuracy: 0.976\n",
            "Epoch: 7/10..  Training Loss: 0.088..  Test Loss: 0.073..  Test Accuracy: 0.979\n",
            "Epoch: 7/10..  Training Loss: 0.081..  Test Loss: 0.074..  Test Accuracy: 0.975\n",
            "Epoch: 7/10..  Training Loss: 0.083..  Test Loss: 0.071..  Test Accuracy: 0.976\n",
            "Epoch: 7/10..  Training Loss: 0.067..  Test Loss: 0.076..  Test Accuracy: 0.976\n",
            "Epoch: 7/10..  Training Loss: 0.104..  Test Loss: 0.069..  Test Accuracy: 0.979\n",
            "Epoch: 7/10..  Training Loss: 0.072..  Test Loss: 0.073..  Test Accuracy: 0.978\n",
            "Epoch: 7/10..  Training Loss: 0.074..  Test Loss: 0.067..  Test Accuracy: 0.979\n",
            "Epoch: 7/10..  Training Loss: 0.073..  Test Loss: 0.071..  Test Accuracy: 0.978\n",
            "Epoch: 7/10..  Training Loss: 0.066..  Test Loss: 0.070..  Test Accuracy: 0.977\n",
            "Epoch: 7/10..  Training Loss: 0.082..  Test Loss: 0.079..  Test Accuracy: 0.974\n",
            "Epoch: 7/10..  Training Loss: 0.072..  Test Loss: 0.072..  Test Accuracy: 0.978\n",
            "Epoch: 7/10..  Training Loss: 0.078..  Test Loss: 0.079..  Test Accuracy: 0.975\n",
            "Epoch: 7/10..  Training Loss: 0.072..  Test Loss: 0.067..  Test Accuracy: 0.979\n",
            "Epoch: 7/10..  Training Loss: 0.071..  Test Loss: 0.075..  Test Accuracy: 0.976\n",
            "Epoch: 8/10..  Training Loss: 0.057..  Test Loss: 0.092..  Test Accuracy: 0.972\n",
            "Epoch: 8/10..  Training Loss: 0.066..  Test Loss: 0.065..  Test Accuracy: 0.979\n",
            "Epoch: 8/10..  Training Loss: 0.077..  Test Loss: 0.076..  Test Accuracy: 0.975\n",
            "Epoch: 8/10..  Training Loss: 0.067..  Test Loss: 0.076..  Test Accuracy: 0.978\n",
            "Epoch: 8/10..  Training Loss: 0.079..  Test Loss: 0.071..  Test Accuracy: 0.978\n",
            "Epoch: 8/10..  Training Loss: 0.065..  Test Loss: 0.075..  Test Accuracy: 0.977\n",
            "Epoch: 8/10..  Training Loss: 0.063..  Test Loss: 0.069..  Test Accuracy: 0.977\n",
            "Epoch: 8/10..  Training Loss: 0.075..  Test Loss: 0.065..  Test Accuracy: 0.979\n",
            "Epoch: 8/10..  Training Loss: 0.074..  Test Loss: 0.073..  Test Accuracy: 0.976\n",
            "Epoch: 8/10..  Training Loss: 0.068..  Test Loss: 0.064..  Test Accuracy: 0.979\n",
            "Epoch: 8/10..  Training Loss: 0.070..  Test Loss: 0.069..  Test Accuracy: 0.979\n",
            "Epoch: 8/10..  Training Loss: 0.069..  Test Loss: 0.068..  Test Accuracy: 0.979\n",
            "Epoch: 8/10..  Training Loss: 0.081..  Test Loss: 0.067..  Test Accuracy: 0.978\n",
            "Epoch: 8/10..  Training Loss: 0.068..  Test Loss: 0.068..  Test Accuracy: 0.979\n",
            "Epoch: 8/10..  Training Loss: 0.054..  Test Loss: 0.075..  Test Accuracy: 0.977\n",
            "Epoch: 8/10..  Training Loss: 0.076..  Test Loss: 0.063..  Test Accuracy: 0.979\n",
            "Epoch: 8/10..  Training Loss: 0.070..  Test Loss: 0.063..  Test Accuracy: 0.980\n",
            "Epoch: 8/10..  Training Loss: 0.070..  Test Loss: 0.070..  Test Accuracy: 0.978\n",
            "Epoch: 8/10..  Training Loss: 0.080..  Test Loss: 0.070..  Test Accuracy: 0.979\n",
            "Epoch: 8/10..  Training Loss: 0.077..  Test Loss: 0.065..  Test Accuracy: 0.980\n",
            "Epoch: 8/10..  Training Loss: 0.087..  Test Loss: 0.065..  Test Accuracy: 0.979\n",
            "Epoch: 8/10..  Training Loss: 0.076..  Test Loss: 0.062..  Test Accuracy: 0.980\n",
            "Epoch: 8/10..  Training Loss: 0.066..  Test Loss: 0.064..  Test Accuracy: 0.979\n",
            "Epoch: 9/10..  Training Loss: 0.023..  Test Loss: 0.059..  Test Accuracy: 0.981\n",
            "Epoch: 9/10..  Training Loss: 0.071..  Test Loss: 0.062..  Test Accuracy: 0.980\n",
            "Epoch: 9/10..  Training Loss: 0.068..  Test Loss: 0.062..  Test Accuracy: 0.980\n",
            "Epoch: 9/10..  Training Loss: 0.061..  Test Loss: 0.066..  Test Accuracy: 0.981\n",
            "Epoch: 9/10..  Training Loss: 0.068..  Test Loss: 0.062..  Test Accuracy: 0.982\n",
            "Epoch: 9/10..  Training Loss: 0.058..  Test Loss: 0.063..  Test Accuracy: 0.980\n",
            "Epoch: 9/10..  Training Loss: 0.050..  Test Loss: 0.060..  Test Accuracy: 0.979\n",
            "Epoch: 9/10..  Training Loss: 0.056..  Test Loss: 0.059..  Test Accuracy: 0.980\n",
            "Epoch: 9/10..  Training Loss: 0.068..  Test Loss: 0.087..  Test Accuracy: 0.971\n",
            "Epoch: 9/10..  Training Loss: 0.060..  Test Loss: 0.059..  Test Accuracy: 0.981\n",
            "Epoch: 9/10..  Training Loss: 0.076..  Test Loss: 0.070..  Test Accuracy: 0.978\n",
            "Epoch: 9/10..  Training Loss: 0.057..  Test Loss: 0.062..  Test Accuracy: 0.979\n",
            "Epoch: 9/10..  Training Loss: 0.051..  Test Loss: 0.062..  Test Accuracy: 0.980\n",
            "Epoch: 9/10..  Training Loss: 0.055..  Test Loss: 0.062..  Test Accuracy: 0.979\n",
            "Epoch: 9/10..  Training Loss: 0.064..  Test Loss: 0.059..  Test Accuracy: 0.980\n",
            "Epoch: 9/10..  Training Loss: 0.074..  Test Loss: 0.062..  Test Accuracy: 0.979\n",
            "Epoch: 9/10..  Training Loss: 0.064..  Test Loss: 0.060..  Test Accuracy: 0.982\n",
            "Epoch: 9/10..  Training Loss: 0.072..  Test Loss: 0.059..  Test Accuracy: 0.981\n",
            "Epoch: 9/10..  Training Loss: 0.068..  Test Loss: 0.059..  Test Accuracy: 0.981\n",
            "Epoch: 9/10..  Training Loss: 0.080..  Test Loss: 0.058..  Test Accuracy: 0.981\n",
            "Epoch: 9/10..  Training Loss: 0.055..  Test Loss: 0.057..  Test Accuracy: 0.981\n",
            "Epoch: 9/10..  Training Loss: 0.071..  Test Loss: 0.066..  Test Accuracy: 0.978\n",
            "Epoch: 9/10..  Training Loss: 0.056..  Test Loss: 0.063..  Test Accuracy: 0.979\n",
            "Epoch: 9/10..  Training Loss: 0.070..  Test Loss: 0.062..  Test Accuracy: 0.981\n",
            "Epoch: 10/10..  Training Loss: 0.056..  Test Loss: 0.056..  Test Accuracy: 0.981\n",
            "Epoch: 10/10..  Training Loss: 0.060..  Test Loss: 0.055..  Test Accuracy: 0.982\n",
            "Epoch: 10/10..  Training Loss: 0.065..  Test Loss: 0.058..  Test Accuracy: 0.981\n",
            "Epoch: 10/10..  Training Loss: 0.080..  Test Loss: 0.060..  Test Accuracy: 0.981\n",
            "Epoch: 10/10..  Training Loss: 0.058..  Test Loss: 0.067..  Test Accuracy: 0.979\n",
            "Epoch: 10/10..  Training Loss: 0.053..  Test Loss: 0.058..  Test Accuracy: 0.981\n",
            "Epoch: 10/10..  Training Loss: 0.054..  Test Loss: 0.062..  Test Accuracy: 0.980\n",
            "Epoch: 10/10..  Training Loss: 0.060..  Test Loss: 0.054..  Test Accuracy: 0.983\n",
            "Epoch: 10/10..  Training Loss: 0.064..  Test Loss: 0.061..  Test Accuracy: 0.979\n",
            "Epoch: 10/10..  Training Loss: 0.065..  Test Loss: 0.054..  Test Accuracy: 0.982\n",
            "Epoch: 10/10..  Training Loss: 0.054..  Test Loss: 0.052..  Test Accuracy: 0.982\n",
            "Epoch: 10/10..  Training Loss: 0.052..  Test Loss: 0.062..  Test Accuracy: 0.980\n",
            "Epoch: 10/10..  Training Loss: 0.059..  Test Loss: 0.053..  Test Accuracy: 0.982\n",
            "Epoch: 10/10..  Training Loss: 0.057..  Test Loss: 0.054..  Test Accuracy: 0.984\n",
            "Epoch: 10/10..  Training Loss: 0.070..  Test Loss: 0.056..  Test Accuracy: 0.982\n",
            "Epoch: 10/10..  Training Loss: 0.045..  Test Loss: 0.059..  Test Accuracy: 0.981\n",
            "Epoch: 10/10..  Training Loss: 0.055..  Test Loss: 0.056..  Test Accuracy: 0.981\n",
            "Epoch: 10/10..  Training Loss: 0.058..  Test Loss: 0.052..  Test Accuracy: 0.982\n",
            "Epoch: 10/10..  Training Loss: 0.062..  Test Loss: 0.054..  Test Accuracy: 0.982\n",
            "Epoch: 10/10..  Training Loss: 0.051..  Test Loss: 0.051..  Test Accuracy: 0.983\n",
            "Epoch: 10/10..  Training Loss: 0.063..  Test Loss: 0.052..  Test Accuracy: 0.983\n",
            "Epoch: 10/10..  Training Loss: 0.057..  Test Loss: 0.055..  Test Accuracy: 0.983\n",
            "Epoch: 10/10..  Training Loss: 0.058..  Test Loss: 0.062..  Test Accuracy: 0.980\n"
          ]
        }
      ]
    },
    {
      "cell_type": "markdown",
      "source": [
        "# 4 - Analyze the Results"
      ],
      "metadata": {
        "id": "BloSpo5WHLku"
      }
    },
    {
      "cell_type": "code",
      "source": [
        "images, labels = next(iter(testloader))\n",
        "\n",
        "with torch.no_grad():\n",
        "  logits = model.forward(images)\n",
        "\n",
        "ps = F.softmax(logits, dim=1)"
      ],
      "metadata": {
        "id": "TNK4vAYnGjGc"
      },
      "execution_count": null,
      "outputs": []
    },
    {
      "cell_type": "code",
      "source": [
        "index = 20\n",
        "helperfuncs.view_classify(images[index], ps[index])"
      ],
      "metadata": {
        "colab": {
          "base_uri": "https://localhost:8080/",
          "height": 253
        },
        "id": "GfIj0rvikoBR",
        "outputId": "1c493f8c-3fa0-4b0c-90e1-43f130e3ae5e"
      },
      "execution_count": null,
      "outputs": [
        {
          "output_type": "display_data",
          "data": {
            "text/plain": [
              "<Figure size 432x648 with 2 Axes>"
            ],
            "image/png": "[encoded data removed]"
          },
          "metadata": {
            "needs_background": "light"
          }
        }
      ]
    }
  ]
}