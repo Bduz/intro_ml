{
  "cells": [
    {
      "cell_type": "markdown",
      "metadata": {
        "id": "view-in-github",
        "colab_type": "text"
      },
      "source": [
        "<a href=\"https://colab.research.google.com/github/Bduz/intro_ml/blob/main/intro_rl/dqn/Deep_Q_Network.ipynb\" target=\"_parent\"><img src=\"https://colab.research.google.com/assets/colab-badge.svg\" alt=\"Open In Colab\"/></a>"
      ]
    },
    {
      "cell_type": "markdown",
      "metadata": {
        "id": "MttJCHmJFwlA"
      },
      "source": [
        "# Deep Q-Network (DQN)\n",
        "---\n",
        "In this notebook, you will implement a DQN agent with OpenAI Gym's [LunarLander-v2](https://gymnasium.farama.org/environments/box2d/lunar_lander/) environment.\n",
        "\n",
        "### 1. Import the Necessary Packages"
      ]
    },
    {
      "cell_type": "code",
      "source": [
        "!git clone https://github.com/Bduz/intro_ml.git"
      ],
      "metadata": {
        "colab": {
          "base_uri": "https://localhost:8080/"
        },
        "id": "Uu0MKV6uYXTc",
        "outputId": "7b1a4f8d-71f8-4b80-ac42-8c2feb848c6b"
      },
      "execution_count": 1,
      "outputs": [
        {
          "output_type": "stream",
          "name": "stdout",
          "text": [
            "Cloning into 'intro_ml'...\n",
            "remote: Enumerating objects: 562, done.\u001b[K\n",
            "remote: Counting objects: 100% (272/272), done.\u001b[K\n",
            "remote: Compressing objects: 100% (211/211), done.\u001b[K\n",
            "remote: Total 562 (delta 134), reused 131 (delta 56), pack-reused 290\u001b[K\n",
            "Receiving objects: 100% (562/562), 52.66 MiB | 28.47 MiB/s, done.\n",
            "Resolving deltas: 100% (280/280), done.\n"
          ]
        }
      ]
    },
    {
      "cell_type": "code",
      "source": [
        "import sys\n",
        "sys.path.insert(0, '/content/intro_ml/intro_rl/dqn/')"
      ],
      "metadata": {
        "id": "Ni24Un8hYywh"
      },
      "execution_count": 2,
      "outputs": []
    },
    {
      "cell_type": "code",
      "execution_count": 3,
      "metadata": {
        "colab": {
          "base_uri": "https://localhost:8080/"
        },
        "id": "5rilelZSFwlC",
        "outputId": "1f3c2cb8-ab24-4372-c400-a69e31e25904"
      },
      "outputs": [
        {
          "output_type": "stream",
          "name": "stdout",
          "text": [
            "Collecting swig\n",
            "  Downloading swig-4.2.1-py2.py3-none-manylinux_2_5_x86_64.manylinux1_x86_64.whl (1.9 MB)\n",
            "\u001b[2K     \u001b[90m━━━━━━━━━━━━━━━━━━━━━━━━━━━━━━━━━━━━━━━━\u001b[0m \u001b[32m1.9/1.9 MB\u001b[0m \u001b[31m9.0 MB/s\u001b[0m eta \u001b[36m0:00:00\u001b[0m\n",
            "\u001b[?25hInstalling collected packages: swig\n",
            "Successfully installed swig-4.2.1\n",
            "Collecting gymnasium[box2d]\n",
            "  Downloading gymnasium-0.29.1-py3-none-any.whl (953 kB)\n",
            "\u001b[2K     \u001b[90m━━━━━━━━━━━━━━━━━━━━━━━━━━━━━━━━━━━━━━━━\u001b[0m \u001b[32m953.9/953.9 kB\u001b[0m \u001b[31m5.3 MB/s\u001b[0m eta \u001b[36m0:00:00\u001b[0m\n",
            "\u001b[?25hRequirement already satisfied: numpy>=1.21.0 in /usr/local/lib/python3.10/dist-packages (from gymnasium[box2d]) (1.25.2)\n",
            "Requirement already satisfied: cloudpickle>=1.2.0 in /usr/local/lib/python3.10/dist-packages (from gymnasium[box2d]) (2.2.1)\n",
            "Requirement already satisfied: typing-extensions>=4.3.0 in /usr/local/lib/python3.10/dist-packages (from gymnasium[box2d]) (4.11.0)\n",
            "Collecting farama-notifications>=0.0.1 (from gymnasium[box2d])\n",
            "  Downloading Farama_Notifications-0.0.4-py3-none-any.whl (2.5 kB)\n",
            "Collecting box2d-py==2.3.5 (from gymnasium[box2d])\n",
            "  Downloading box2d-py-2.3.5.tar.gz (374 kB)\n",
            "\u001b[2K     \u001b[90m━━━━━━━━━━━━━━━━━━━━━━━━━━━━━━━━━━━━━━━━\u001b[0m \u001b[32m374.4/374.4 kB\u001b[0m \u001b[31m31.4 MB/s\u001b[0m eta \u001b[36m0:00:00\u001b[0m\n",
            "\u001b[?25h  Preparing metadata (setup.py) ... \u001b[?25l\u001b[?25hdone\n",
            "Requirement already satisfied: pygame>=2.1.3 in /usr/local/lib/python3.10/dist-packages (from gymnasium[box2d]) (2.5.2)\n",
            "Requirement already satisfied: swig==4.* in /usr/local/lib/python3.10/dist-packages (from gymnasium[box2d]) (4.2.1)\n",
            "Building wheels for collected packages: box2d-py\n",
            "  Building wheel for box2d-py (setup.py) ... \u001b[?25l\u001b[?25hdone\n",
            "  Created wheel for box2d-py: filename=box2d_py-2.3.5-cp310-cp310-linux_x86_64.whl size=2376099 sha256=33963fde16614bedc7f1a57c524a2260b24fc2ec8ed42e81e706ba1fc76baa33\n",
            "  Stored in directory: /root/.cache/pip/wheels/db/8f/6a/eaaadf056fba10a98d986f6dce954e6201ba3126926fc5ad9e\n",
            "Successfully built box2d-py\n",
            "Installing collected packages: farama-notifications, box2d-py, gymnasium\n",
            "Successfully installed box2d-py-2.3.5 farama-notifications-0.0.4 gymnasium-0.29.1\n"
          ]
        }
      ],
      "source": [
        "import random\n",
        "import torch\n",
        "import numpy as np\n",
        "from collections import deque\n",
        "import matplotlib.pyplot as plt\n",
        "%matplotlib inline\n",
        "!pip install swig\n",
        "!pip install gymnasium[box2d]\n",
        "import gymnasium as gym"
      ]
    },
    {
      "cell_type": "code",
      "source": [
        "import os\n",
        "os.environ['SDL_VIDEODRIVER']='dummy'\n",
        "import pygame\n",
        "pygame.display.set_mode((640,480))"
      ],
      "metadata": {
        "colab": {
          "base_uri": "https://localhost:8080/"
        },
        "id": "emSyVEPaK7Qy",
        "outputId": "20a7af56-2065-4cdc-b45d-ea2628d7ce8e"
      },
      "execution_count": 4,
      "outputs": [
        {
          "output_type": "execute_result",
          "data": {
            "text/plain": [
              "<Surface(640x480x32 SW)>"
            ]
          },
          "metadata": {},
          "execution_count": 4
        }
      ]
    },
    {
      "cell_type": "markdown",
      "metadata": {
        "id": "ApYW-XwzFwlC"
      },
      "source": [
        "### 2. Instantiate the Environment and Agent\n",
        "\n",
        "Initialize the environment in the code cell below."
      ]
    },
    {
      "cell_type": "code",
      "execution_count": 5,
      "metadata": {
        "colab": {
          "base_uri": "https://localhost:8080/"
        },
        "id": "82-W9DBNFwlC",
        "outputId": "1a99bbb0-4587-4302-8d46-15611790f238"
      },
      "outputs": [
        {
          "output_type": "stream",
          "name": "stdout",
          "text": [
            "State shape:  (4,)\n",
            "Number of actions:  2\n"
          ]
        }
      ],
      "source": [
        "env_name = \"CartPole-v1\"\n",
        "reward_threshold = 500\n",
        "env = gym.make(env_name)\n",
        "env_seed = 0\n",
        "print('State shape: ', env.observation_space.shape)\n",
        "print('Number of actions: ', env.action_space.n)"
      ]
    },
    {
      "cell_type": "markdown",
      "metadata": {
        "id": "NFXZ0d0SFwlD"
      },
      "source": [
        "Please refer to the instructions in `Deep_Q_Network.ipynb` if you would like to write your own DQN agent.  Otherwise, run the code cell below to load the solution files."
      ]
    },
    {
      "cell_type": "code",
      "execution_count": 6,
      "metadata": {
        "colab": {
          "base_uri": "https://localhost:8080/"
        },
        "id": "Xu57pbSDFwlD",
        "outputId": "ddafc443-7116-4c2a-9c3d-2ea37671623b"
      },
      "outputs": [
        {
          "output_type": "stream",
          "name": "stderr",
          "text": [
            "/usr/local/lib/python3.10/dist-packages/gymnasium/envs/classic_control/cartpole.py:215: UserWarning: \u001b[33mWARN: You are calling render method without specifying any render mode. You can specify the render_mode at initialization, e.g. gym.make(\"CartPole-v1\", render_mode=\"rgb_array\")\u001b[0m\n",
            "  gym.logger.warn(\n"
          ]
        }
      ],
      "source": [
        "from dqn_agent import Agent\n",
        "\n",
        "agent = Agent(state_size=env.observation_space.shape[0], action_size=env.action_space.n, seed=1)\n",
        "\n",
        "# watch an untrained agent\n",
        "state, info = env.reset(seed=env_seed)\n",
        "for j in range(200):\n",
        "    action = agent.act(state)\n",
        "    env.render()\n",
        "    state, reward, terminated, truncated, info= env.step(action)\n",
        "    if terminated or truncated:\n",
        "        break\n",
        "\n",
        "env.close()"
      ]
    },
    {
      "cell_type": "markdown",
      "metadata": {
        "id": "b0F3-pcsFwlE"
      },
      "source": [
        "### 3. Train the Agent with DQN\n",
        "\n",
        "Run the code cell below to train the agent from scratch.  You are welcome to amend the supplied values of the parameters in the function, to try to see if you can get better performance!\n",
        "\n",
        "Alternatively, you can skip to the next step below (**4. Watch a Smart Agent!**), to load the saved model weights from a pre-trained agent."
      ]
    },
    {
      "cell_type": "code",
      "execution_count": 8,
      "metadata": {
        "colab": {
          "base_uri": "https://localhost:8080/",
          "height": 744
        },
        "id": "X_uYCw-BFwlE",
        "outputId": "02caf1ce-f1ff-4e87-da8e-8a6f55b3da68"
      },
      "outputs": [
        {
          "output_type": "stream",
          "name": "stdout",
          "text": [
            "Episode 100\tAverage Score: 75.70\tEpsilon: 0.4710\n",
            "Episode 200\tAverage Score: 151.10\tEpsilon: 0.2219\n",
            "Episode 300\tAverage Score: 188.10\tEpsilon: 0.1045\n",
            "Episode 400\tAverage Score: 227.50\tEpsilon: 0.0492\n",
            "Episode 500\tAverage Score: 203.30\tEpsilon: 0.0232\n",
            "Episode 600\tAverage Score: 205.30\tEpsilon: 0.0109\n",
            "Episode 700\tAverage Score: 208.00\tEpsilon: 0.0100\n",
            "Episode 800\tAverage Score: 180.70\tEpsilon: 0.0100\n",
            "Episode 900\tAverage Score: 226.40\tEpsilon: 0.0100\n",
            "Episode 1000\tAverage Score: 407.80\tEpsilon: 0.0100\n",
            "Episode 1100\tAverage Score: 320.70\tEpsilon: 0.0100\n",
            "Episode 1200\tAverage Score: 358.50\tEpsilon: 0.0100\n",
            "Episode 1300\tAverage Score: 423.80\tEpsilon: 0.0100\n",
            "Episode 1400\tAverage Score: 403.50\tEpsilon: 0.0100\n",
            "Episode 1500\tAverage Score: 450.20\tEpsilon: 0.0100\n",
            "Episode 1551\tAverage Score: 500.00\n",
            "Environment solved in 1451 episodes!\tAverage Score: 500.00\n"
          ]
        },
        {
          "output_type": "display_data",
          "data": {
            "text/plain": [
              "<Figure size 640x480 with 1 Axes>"
            ],
            "image/png": "[encoded data removed]"
          },
          "metadata": {}
        }
      ],
      "source": [
        "def dqn(n_episodes=2000, max_t=1000, eps_start=1.0, eps_end=0.01, eps_decay=0.995):\n",
        "    \"\"\"Deep Q-Learning.\n",
        "\n",
        "    Params\n",
        "    ======\n",
        "        n_episodes (int): maximum number of training episodes\n",
        "        max_t (int): maximum number of timesteps per episode\n",
        "        eps_start (float): starting value of epsilon, for epsilon-greedy action selection\n",
        "        eps_end (float): minimum value of epsilon\n",
        "        eps_decay (float): multiplicative factor (per episode) for decreasing epsilon\n",
        "    \"\"\"\n",
        "    env = gym.make(env_name)\n",
        "    scores = []                        # list containing scores from each episode\n",
        "    scores_window = deque(maxlen=10)  # last 100 scores\n",
        "    eps = eps_start                    # initialize epsilon\n",
        "    for i_episode in range(1, n_episodes+1):\n",
        "        state, info = env.reset(seed=env_seed)\n",
        "        score = 0\n",
        "        for t in range(max_t):\n",
        "            action = agent.act(state, eps)\n",
        "            next_state, reward, terminated, truncated, info = env.step(action)\n",
        "            done = terminated or truncated\n",
        "            agent.step(state, action, reward, next_state, done)\n",
        "            state = next_state\n",
        "            score += reward\n",
        "            if terminated or truncated:\n",
        "                break\n",
        "        scores_window.append(score)       # save most recent score\n",
        "        scores.append(score)              # save most recent score\n",
        "        eps = max(eps_end, eps_decay*eps) # decrease epsilon\n",
        "        print('\\rEpisode {}\\tAverage Score: {:.2f}'.format(i_episode, np.mean(scores_window)), end=\"\")\n",
        "\n",
        "        if score >= reward_threshold:\n",
        "          print(f'\\nSaving the agent since the score is {score} >= {reward_threshold} at episode {i_episode}')\n",
        "          torch.save(agent.qnetwork_local.state_dict(), 'checkpoint.pth')\n",
        "\n",
        "        if i_episode % 100 == 0:\n",
        "            print(f'\\rEpisode {i_episode}\\tAverage Score: {np.mean(scores_window):.2f}\\tEpsilon: {eps:.4f}')\n",
        "        if np.mean(scores_window) >= reward_threshold:\n",
        "            print('\\nEnvironment solved in {:d} episodes!\\tAverage Score: {:.2f}'.format(i_episode-100, np.mean(scores_window)))\n",
        "            torch.save(agent.qnetwork_local.state_dict(), 'checkpoint.pth')\n",
        "            break\n",
        "    return scores\n",
        "\n",
        "scores = dqn(n_episodes=2000, max_t=500, eps_start=1.0, eps_end=0.01, eps_decay=0.9925)\n",
        "\n",
        "# plot the scores\n",
        "fig = plt.figure()\n",
        "ax = fig.add_subplot(111)\n",
        "plt.plot(np.arange(len(scores)), scores)\n",
        "plt.ylabel('Score')\n",
        "plt.xlabel('Episode #')\n",
        "plt.show()"
      ]
    },
    {
      "cell_type": "markdown",
      "metadata": {
        "id": "lPlxEnQBFwlE"
      },
      "source": [
        "### 4. Watch a Smart Agent!\n",
        "\n",
        "In the next code cell, you will load the trained weights from file to watch a smart agent!"
      ]
    },
    {
      "cell_type": "code",
      "execution_count": 9,
      "metadata": {
        "id": "6P1J82xkFwlF",
        "colab": {
          "base_uri": "https://localhost:8080/"
        },
        "outputId": "d834c9ed-d05d-4b03-dc26-8c31000e548d"
      },
      "outputs": [
        {
          "output_type": "stream",
          "name": "stderr",
          "text": [
            "/usr/local/lib/python3.10/dist-packages/gymnasium/envs/classic_control/cartpole.py:215: UserWarning: \u001b[33mWARN: You are calling render method without specifying any render mode. You can specify the render_mode at initialization, e.g. gym.make(\"CartPole-v1\", render_mode=\"rgb_array\")\u001b[0m\n",
            "  gym.logger.warn(\n"
          ]
        }
      ],
      "source": [
        "# load the weights from file\n",
        "agent.qnetwork_local.load_state_dict(torch.load('checkpoint.pth'))\n",
        "\n",
        "for i in range(3):\n",
        "    state, info = env.reset()\n",
        "    for j in range(200):\n",
        "        action = agent.act(state)\n",
        "        env.render()\n",
        "        state, reward, terminated, truncated, info = env.step(action)\n",
        "        if terminated or truncated:\n",
        "            break\n",
        "\n",
        "env.close()"
      ]
    },
    {
      "cell_type": "markdown",
      "source": [
        "### 5. Animate it with Video"
      ],
      "metadata": {
        "id": "XgFY8W0UiRg-"
      }
    },
    {
      "cell_type": "code",
      "source": [
        "from gym.wrappers.monitoring import video_recorder\n",
        "from IPython.display import HTML\n",
        "from IPython import display\n",
        "import glob\n",
        "import io\n",
        "import base64\n",
        "\n",
        "def show_video(env_name):\n",
        "    mp4list = glob.glob('*.mp4')\n",
        "    if len(mp4list) > 0:\n",
        "        mp4 = '{}.mp4'.format(env_name)\n",
        "        video = io.open(mp4, 'r+b').read()\n",
        "        encoded = base64.b64encode(video)\n",
        "        display.display(HTML(data='''<video alt=\"test\" autoplay\n",
        "                loop controls style=\"height: 400px;\">\n",
        "                <source src=\"data:video/mp4;base64,{0}\" type=\"video/mp4\" />\n",
        "             </video>'''.format(encoded.decode('ascii'))))\n",
        "    else:\n",
        "        print(\"Could not find video\")\n",
        "\n",
        "def show_video_of_model(agent, env_name):\n",
        "    env = gym.make(env_name, render_mode=\"rgb_array\")\n",
        "    vid = video_recorder.VideoRecorder(env, path=\"{}.mp4\".format(env_name))\n",
        "    agent.qnetwork_local.load_state_dict(torch.load('checkpoint.pth'))\n",
        "    state,info = env.reset()\n",
        "    done = False\n",
        "    while not done:\n",
        "        frame = env.render()\n",
        "        vid.capture_frame()\n",
        "        action = agent.act(state)\n",
        "        state, reward, terminated, truncated, info = env.step(action)\n",
        "        done = terminated or truncated\n",
        "    env.close()"
      ],
      "metadata": {
        "id": "Q4Bfm-kNialr"
      },
      "execution_count": 13,
      "outputs": []
    },
    {
      "cell_type": "code",
      "source": [
        "agent = Agent(state_size=env.observation_space.shape[0], action_size=env.action_space.n, seed=0)\n",
        "show_video_of_model(agent, env_name)"
      ],
      "metadata": {
        "id": "iiU3DyZfihi3",
        "outputId": "a9357aca-b60a-4554-9928-2c8e99542019",
        "colab": {
          "base_uri": "https://localhost:8080/"
        }
      },
      "execution_count": 16,
      "outputs": [
        {
          "output_type": "stream",
          "name": "stderr",
          "text": [
            "/usr/lib/python3.10/subprocess.py:1796: RuntimeWarning: os.fork() was called. os.fork() is incompatible with multithreaded code, and JAX is multithreaded, so this will likely lead to a deadlock.\n",
            "  self.pid = _posixsubprocess.fork_exec(\n"
          ]
        }
      ]
    },
    {
      "cell_type": "code",
      "source": [
        "show_video(env_name)"
      ],
      "metadata": {
        "id": "dWhpDt5Ji42s",
        "outputId": "16ffd109-f98d-4445-d546-464595d708bc",
        "colab": {
          "base_uri": "https://localhost:8080/",
          "height": 422
        }
      },
      "execution_count": 17,
      "outputs": [
        {
          "output_type": "display_data",
          "data": {
            "text/plain": [
              "<IPython.core.display.HTML object>"
            ],
            "text/html": [
              "<video alt=\"test\" autoplay \n",
              "                loop controls style=\"height: 400px;\">\n",
              "                <source src=\"data:video/mp4;base64,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\" type=\"video/mp4\" />\n",
              "             </video>"
            ]
          },
          "metadata": {}
        }
      ]
    },
    {
      "cell_type": "markdown",
      "metadata": {
        "id": "QW7Z_Er2FwlF"
      },
      "source": [
        "### 6. Explore\n",
        "\n",
        "In this exercise, you have implemented a DQN agent and demonstrated how to use it to solve an OpenAI Gym environment.  To continue your learning, you are encouraged to complete any (or all!) of the following tasks:\n",
        "- Amend the various hyperparameters and network architecture to see if you can get your agent to solve the environment faster.  Once you build intuition for the hyperparameters that work well with this environment, try solving a different OpenAI Gym task with discrete actions!\n",
        "- You may like to implement some improvements such as prioritized experience replay, Double DQN, or Dueling DQN. See [OpenAI DQN blog](https://openai.com/research/openai-baselines-dqn) for more info.\n",
        "- Write a blog post explaining the intuition behind the DQN algorithm and demonstrating how to use it to solve an RL environment of your choosing.  "
      ]
    },
    {
      "cell_type": "code",
      "source": [],
      "metadata": {
        "id": "3TPxKDewXKEV"
      },
      "execution_count": null,
      "outputs": []
    }
  ],
  "metadata": {
    "kernelspec": {
      "display_name": "drlnd",
      "language": "python",
      "name": "drlnd"
    },
    "language_info": {
      "codemirror_mode": {
        "name": "ipython",
        "version": 3
      },
      "file_extension": ".py",
      "mimetype": "text/x-python",
      "name": "python",
      "nbconvert_exporter": "python",
      "pygments_lexer": "ipython3",
      "version": "3.6.13"
    },
    "colab": {
      "provenance": [],
      "include_colab_link": true
    },
    "gpuClass": "standard",
    "accelerator": "GPU"
  },
  "nbformat": 4,
  "nbformat_minor": 0
}