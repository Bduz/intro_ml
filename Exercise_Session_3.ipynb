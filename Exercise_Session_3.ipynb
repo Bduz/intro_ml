{
  "nbformat": 4,
  "nbformat_minor": 0,
  "metadata": {
    "colab": {
      "provenance": [],
      "collapsed_sections": [],
      "authorship_tag": "ABX9TyMVNy7OLvyHphvb2LRM9n8d",
      "include_colab_link": true
    },
    "kernelspec": {
      "name": "python3",
      "display_name": "Python 3"
    },
    "language_info": {
      "name": "python"
    },
    "gpuClass": "standard"
  },
  "cells": [
    {
      "cell_type": "markdown",
      "metadata": {
        "id": "view-in-github",
        "colab_type": "text"
      },
      "source": [
        "<a href=\"https://colab.research.google.com/github/Bduz/intro_pytorch/blob/main/Exercise_Session_3.ipynb\" target=\"_parent\"><img src=\"https://colab.research.google.com/assets/colab-badge.svg\" alt=\"Open In Colab\"/></a>"
      ]
    },
    {
      "cell_type": "markdown",
      "source": [
        "# 0 - Load all the Necessary Modules"
      ],
      "metadata": {
        "id": "CILaN6ZBHr9H"
      }
    },
    {
      "cell_type": "code",
      "source": [
        "import numpy as np\n",
        "import torch\n",
        "from torch import nn\n",
        "from torch import optim\n",
        "import torch.nn.functional as F"
      ],
      "metadata": {
        "id": "DpyuUrVNIBg_"
      },
      "execution_count": null,
      "outputs": []
    },
    {
      "cell_type": "markdown",
      "source": [
        "# 1 - Load and Process the Data"
      ],
      "metadata": {
        "id": "V3Dh5nGvGc5A"
      }
    },
    {
      "cell_type": "markdown",
      "source": [
        "Generally, when you have to deal with image, text, audio or video data, you can use standard python packages that load data into a numpy array. Then you can convert this array into a `torch.*Tensor`.\n",
        "\n",
        "*   For images, packages such as Pillow, OpenCV are useful\n",
        "*   For audio, packages such as scipy and librosa\n",
        "*   For text, either raw Python or Cython based loading, or NLTK and SpaCy are useful\n",
        "\n",
        "Specifically for vision, we have created a package called `torchvision`, that has data loaders for common datasets such as ImageNet, CIFAR10, MNIST, etc. and data transformers for images, viz., `torchvision.datasets` and `torch.utils.data.DataLoader`.\n",
        "\n",
        "This provides a huge convenience and avoids writing boilerplate code.\n",
        "\n",
        "For this tutorial, we will use the  [CIFAR10](https://www.cs.toronto.edu/~kriz/cifar.html) dataset. It has the classes: ‘airplane’, ‘automobile’, ‘bird’, ‘cat’, ‘deer’, ‘dog’, ‘frog’, ‘horse’, ‘ship’, ‘truck’. The images in CIFAR-10 are of size 3x32x32, i.e. 3-channel color images of 32x32 pixels in size."
      ],
      "metadata": {
        "id": "Gob042ezhpoy"
      }
    },
    {
      "cell_type": "markdown",
      "source": [
        "Using [torchvision](https://pytorch.org/vision/stable/index.html), it’s extremely easy to load CIFAR10. The output of torchvision datasets are PILImage images of range [0, 1]. We transform them to Tensors of normalized range [-1, 1].\n",
        "\n",
        "\n",
        "\n"
      ],
      "metadata": {
        "id": "5ywgLah5Isnp"
      }
    },
    {
      "cell_type": "code",
      "source": [
        "from torchvision import datasets, transforms\n",
        "\n",
        "# Define transformations on the data\n",
        "transform = transforms.Compose([transforms.ToTensor(), transforms.Normalize((0.5, 0.5, 0.5), (0.5, 0.5, 0.5))])\n",
        "\n",
        "batch_size = 8\n",
        "\n",
        "#Load the training data\n",
        "trainset = datasets.CIFAR10(root='CIFAR10_data/', train=True, download=True, transform=transform)\n",
        "trainloader = torch.utils.data.DataLoader(trainset, batch_size=batch_size, shuffle=True, num_workers=2)\n",
        "\n",
        "#Load the test data\n",
        "testset = datasets.CIFAR10(root='CIFAR10_data/', train=False, download=True, transform=transform)\n",
        "testloader = torch.utils.data.DataLoader(testset, batch_size=batch_size, shuffle=False, num_workers=2)\n",
        "\n",
        "classes = ('plane', 'car', 'bird', 'cat',\n",
        "           'deer', 'dog', 'frog', 'horse', 'ship', 'truck')"
      ],
      "metadata": {
        "colab": {
          "base_uri": "https://localhost:8080/"
        },
        "id": "Kj7CsrEsHdTq",
        "outputId": "7bf2596d-f97a-4ee0-8b74-4c803d905386"
      },
      "execution_count": null,
      "outputs": [
        {
          "output_type": "stream",
          "name": "stdout",
          "text": [
            "Files already downloaded and verified\n",
            "Files already downloaded and verified\n"
          ]
        }
      ]
    },
    {
      "cell_type": "markdown",
      "source": [
        "Let us show some of the training images, for fun."
      ],
      "metadata": {
        "id": "XiL0GYOTj1Kp"
      }
    },
    {
      "cell_type": "code",
      "source": [
        "import matplotlib.pyplot as plt\n",
        "from torchvision import utils\n",
        "\n",
        "# functions to show an image\n",
        "def imshow(img):\n",
        "    img = img / 2 + 0.5     # unnormalize\n",
        "    npimg = img.numpy()\n",
        "    plt.figure(figsize = (16,4))\n",
        "    plt.imshow(np.transpose(npimg, (1, 2, 0)), interpolation='nearest')\n",
        "    plt.show()\n",
        "\n",
        "# get some random training images\n",
        "dataiter = iter(trainloader)\n",
        "images, labels = next(dataiter)\n",
        "\n",
        "# show images\n",
        "imshow(utils.make_grid(images))\n",
        "# print labels\n",
        "print(' '.join(f'{classes[labels[j]]:5s}' for j in range(batch_size)))"
      ],
      "metadata": {
        "colab": {
          "base_uri": "https://localhost:8080/",
          "height": 185
        },
        "id": "R7OTvbUrj2YI",
        "outputId": "d5f83de3-7a44-42bb-8175-6b91aae35ac9"
      },
      "execution_count": null,
      "outputs": [
        {
          "output_type": "display_data",
          "data": {
            "text/plain": [
              "<Figure size 1152x288 with 1 Axes>"
            ],
            "image/png": "[encoded data removed]"
          },
          "metadata": {
            "needs_background": "light"
          }
        },
        {
          "output_type": "stream",
          "name": "stdout",
          "text": [
            "truck car   deer  plane horse frog  plane deer \n"
          ]
        }
      ]
    },
    {
      "cell_type": "markdown",
      "source": [
        "# 2 - The Model of the Neural Network"
      ],
      "metadata": {
        "id": "eaNxmqZGGtx7"
      }
    },
    {
      "cell_type": "code",
      "source": [
        "class Net(nn.Module):\n",
        "    def __init__(self):\n",
        "        super().__init__()\n",
        "        self.conv1 = nn.Conv2d(3, 6, 5)\n",
        "        self.pool = nn.MaxPool2d(2, 2)\n",
        "        self.conv2 = nn.Conv2d(6, 16, 5)\n",
        "        self.fc1 = nn.Linear(16 * 5 * 5, 120)\n",
        "        self.fc2 = nn.Linear(120, 84)\n",
        "        self.fc3 = nn.Linear(84, 10)\n",
        "\n",
        "    def forward(self, x):\n",
        "        x = self.pool(F.relu(self.conv1(x)))\n",
        "        x = self.pool(F.relu(self.conv2(x)))\n",
        "        x = torch.flatten(x, 1) # flatten all dimensions except batch\n",
        "        x = F.relu(self.fc1(x))\n",
        "        x = F.relu(self.fc2(x))\n",
        "        x = self.fc3(x)\n",
        "        return x\n",
        "\n",
        "\n",
        "model = Net()\n",
        "model\n"
      ],
      "metadata": {
        "colab": {
          "base_uri": "https://localhost:8080/"
        },
        "id": "zimiGxvWLeBJ",
        "outputId": "b295e329-0e04-441a-ae7c-b1690977d53e"
      },
      "execution_count": null,
      "outputs": [
        {
          "output_type": "execute_result",
          "data": {
            "text/plain": [
              "Net(\n",
              "  (conv1): Conv2d(3, 6, kernel_size=(5, 5), stride=(1, 1))\n",
              "  (pool): MaxPool2d(kernel_size=2, stride=2, padding=0, dilation=1, ceil_mode=False)\n",
              "  (conv2): Conv2d(6, 16, kernel_size=(5, 5), stride=(1, 1))\n",
              "  (fc1): Linear(in_features=400, out_features=120, bias=True)\n",
              "  (fc2): Linear(in_features=120, out_features=84, bias=True)\n",
              "  (fc3): Linear(in_features=84, out_features=10, bias=True)\n",
              ")"
            ]
          },
          "metadata": {},
          "execution_count": 37
        }
      ]
    },
    {
      "cell_type": "markdown",
      "source": [
        "Let's take a look at the summary of our ConvNet."
      ],
      "metadata": {
        "id": "u8ihzDDUnE3-"
      }
    },
    {
      "cell_type": "code",
      "source": [
        "!pip install torchsummary"
      ],
      "metadata": {
        "colab": {
          "base_uri": "https://localhost:8080/"
        },
        "id": "sg-u883anKRm",
        "outputId": "81847352-d7f3-47fd-ff07-cea219f434ec"
      },
      "execution_count": null,
      "outputs": [
        {
          "output_type": "stream",
          "name": "stdout",
          "text": [
            "Looking in indexes: https://pypi.org/simple, https://us-python.pkg.dev/colab-wheels/public/simple/\n",
            "Requirement already satisfied: torchsummary in /usr/local/lib/python3.7/dist-packages (1.5.1)\n"
          ]
        }
      ]
    },
    {
      "cell_type": "code",
      "source": [
        "from torchsummary import summary\n",
        "summary(model, (3, 32, 32), batch_size)"
      ],
      "metadata": {
        "colab": {
          "base_uri": "https://localhost:8080/"
        },
        "id": "YANw8oNEnYat",
        "outputId": "536c2c7d-6eec-4206-f826-7cea103f8f5a"
      },
      "execution_count": null,
      "outputs": [
        {
          "output_type": "stream",
          "name": "stdout",
          "text": [
            "----------------------------------------------------------------\n",
            "        Layer (type)               Output Shape         Param #\n",
            "================================================================\n",
            "            Conv2d-1             [4, 6, 28, 28]             456\n",
            "         MaxPool2d-2             [4, 6, 14, 14]               0\n",
            "            Conv2d-3            [4, 16, 10, 10]           2,416\n",
            "         MaxPool2d-4              [4, 16, 5, 5]               0\n",
            "            Linear-5                   [4, 120]          48,120\n",
            "            Linear-6                    [4, 84]          10,164\n",
            "            Linear-7                    [4, 10]             850\n",
            "================================================================\n",
            "Total params: 62,006\n",
            "Trainable params: 62,006\n",
            "Non-trainable params: 0\n",
            "----------------------------------------------------------------\n",
            "Input size (MB): 0.05\n",
            "Forward/backward pass size (MB): 0.25\n",
            "Params size (MB): 0.24\n",
            "Estimated Total Size (MB): 0.53\n",
            "----------------------------------------------------------------\n"
          ]
        }
      ]
    },
    {
      "cell_type": "markdown",
      "source": [
        "# 3 - Train the Model"
      ],
      "metadata": {
        "id": "16Km_6QWHAIF"
      }
    },
    {
      "cell_type": "code",
      "source": [
        "# Implement a function for the validation pass\n",
        "def validation(model, testloader, criterion):\n",
        "    test_loss = 0\n",
        "    accuracy = 0\n",
        "    for images, labels in testloader:\n",
        "\n",
        "        output = model.forward(images)\n",
        "        test_loss += criterion(output, labels).item()\n",
        "\n",
        "        ps = torch.exp(output)\n",
        "        equality = (labels.data == ps.max(dim=1)[1])\n",
        "        accuracy += equality.type(torch.FloatTensor).mean()\n",
        "    \n",
        "    return test_loss, accuracy"
      ],
      "metadata": {
        "id": "g9qe-FGflI_A"
      },
      "execution_count": null,
      "outputs": []
    },
    {
      "cell_type": "code",
      "source": [
        "criterion = nn.CrossEntropyLoss()\n",
        "optimizer = optim.SGD(model.parameters(), lr=0.005)\n",
        "\n",
        "epochs = 5\n",
        "print_every = 1000\n",
        "steps = 0\n",
        "for e in range(epochs):\n",
        "  running_loss = 0\n",
        "  for images, labels in iter(trainloader):\n",
        "    steps += 1\n",
        "\n",
        "    optimizer.zero_grad()\n",
        "\n",
        "    output = model.forward(images)\n",
        "    loss = criterion(output, labels)\n",
        "    loss.backward()\n",
        "    optimizer.step()\n",
        "\n",
        "    running_loss += loss.item()\n",
        "\n",
        "    if steps % print_every == 0:\n",
        "      # Make sure network is in eval mode for inference\n",
        "      model.eval()\n",
        "      \n",
        "      # Turn off gradients for validation, saves memory and computations\n",
        "      with torch.no_grad():\n",
        "          test_loss, accuracy = validation(model, testloader, criterion)\n",
        "          \n",
        "      print(\"Epoch: {}/{}.. \".format(e+1, epochs),\n",
        "            \"Training Loss: {:.3f}.. \".format(running_loss/print_every),\n",
        "            \"Test Loss: {:.3f}.. \".format(test_loss/len(testloader)),\n",
        "            \"Test Accuracy: {:.3f}\".format(accuracy/len(testloader)))\n",
        "      \n",
        "      running_loss = 0\n",
        "      \n",
        "      # Make sure training is back on\n",
        "      model.train()\n",
        "\n",
        "\n",
        "\n",
        "\n"
      ],
      "metadata": {
        "colab": {
          "base_uri": "https://localhost:8080/"
        },
        "id": "0neziT7ER5Fs",
        "outputId": "b362fe6b-7ce8-4c78-886f-43cbd92656c3"
      },
      "execution_count": null,
      "outputs": [
        {
          "output_type": "stream",
          "name": "stdout",
          "text": [
            "Epoch: 1/5..  Training Loss: 1.112..  Test Loss: 1.205..  Test Accuracy: 0.574\n",
            "Epoch: 1/5..  Training Loss: 1.094..  Test Loss: 1.163..  Test Accuracy: 0.593\n",
            "Epoch: 1/5..  Training Loss: 1.101..  Test Loss: 1.139..  Test Accuracy: 0.604\n",
            "Epoch: 1/5..  Training Loss: 1.108..  Test Loss: 1.137..  Test Accuracy: 0.599\n",
            "Epoch: 1/5..  Training Loss: 1.078..  Test Loss: 1.144..  Test Accuracy: 0.598\n",
            "Epoch: 1/5..  Training Loss: 1.084..  Test Loss: 1.139..  Test Accuracy: 0.601\n",
            "Epoch: 2/5..  Training Loss: 0.791..  Test Loss: 1.134..  Test Accuracy: 0.608\n",
            "Epoch: 2/5..  Training Loss: 1.031..  Test Loss: 1.106..  Test Accuracy: 0.614\n",
            "Epoch: 2/5..  Training Loss: 1.034..  Test Loss: 1.125..  Test Accuracy: 0.611\n",
            "Epoch: 2/5..  Training Loss: 1.050..  Test Loss: 1.169..  Test Accuracy: 0.591\n",
            "Epoch: 2/5..  Training Loss: 1.057..  Test Loss: 1.145..  Test Accuracy: 0.599\n",
            "Epoch: 2/5..  Training Loss: 1.036..  Test Loss: 1.129..  Test Accuracy: 0.604\n",
            "Epoch: 3/5..  Training Loss: 0.488..  Test Loss: 1.100..  Test Accuracy: 0.617\n",
            "Epoch: 3/5..  Training Loss: 0.983..  Test Loss: 1.098..  Test Accuracy: 0.614\n",
            "Epoch: 3/5..  Training Loss: 0.987..  Test Loss: 1.132..  Test Accuracy: 0.607\n",
            "Epoch: 3/5..  Training Loss: 1.002..  Test Loss: 1.122..  Test Accuracy: 0.614\n",
            "Epoch: 3/5..  Training Loss: 1.005..  Test Loss: 1.125..  Test Accuracy: 0.609\n",
            "Epoch: 3/5..  Training Loss: 1.004..  Test Loss: 1.065..  Test Accuracy: 0.627\n",
            "Epoch: 4/5..  Training Loss: 0.231..  Test Loss: 1.103..  Test Accuracy: 0.622\n",
            "Epoch: 4/5..  Training Loss: 0.949..  Test Loss: 1.112..  Test Accuracy: 0.614\n",
            "Epoch: 4/5..  Training Loss: 0.942..  Test Loss: 1.126..  Test Accuracy: 0.615\n",
            "Epoch: 4/5..  Training Loss: 0.947..  Test Loss: 1.102..  Test Accuracy: 0.623\n",
            "Epoch: 4/5..  Training Loss: 0.973..  Test Loss: 1.088..  Test Accuracy: 0.624\n",
            "Epoch: 4/5..  Training Loss: 0.947..  Test Loss: 1.091..  Test Accuracy: 0.618\n",
            "Epoch: 4/5..  Training Loss: 0.976..  Test Loss: 1.065..  Test Accuracy: 0.633\n",
            "Epoch: 5/5..  Training Loss: 0.890..  Test Loss: 1.057..  Test Accuracy: 0.626\n",
            "Epoch: 5/5..  Training Loss: 0.907..  Test Loss: 1.088..  Test Accuracy: 0.630\n",
            "Epoch: 5/5..  Training Loss: 0.911..  Test Loss: 1.061..  Test Accuracy: 0.632\n",
            "Epoch: 5/5..  Training Loss: 0.918..  Test Loss: 1.053..  Test Accuracy: 0.634\n",
            "Epoch: 5/5..  Training Loss: 0.928..  Test Loss: 1.037..  Test Accuracy: 0.643\n",
            "Epoch: 5/5..  Training Loss: 0.936..  Test Loss: 1.057..  Test Accuracy: 0.639\n"
          ]
        }
      ]
    },
    {
      "cell_type": "markdown",
      "source": [
        "# 4 - Analyze the Results"
      ],
      "metadata": {
        "id": "BloSpo5WHLku"
      }
    },
    {
      "cell_type": "code",
      "source": [
        "images, labels = next(iter(testloader))\n",
        "\n",
        "with torch.no_grad():\n",
        "  logits = model.forward(images)\n",
        "\n",
        "probabilities = F.softmax(logits, dim=1)\n",
        "probabilities"
      ],
      "metadata": {
        "colab": {
          "base_uri": "https://localhost:8080/"
        },
        "id": "TNK4vAYnGjGc",
        "outputId": "449849be-42f8-4e77-e49e-1e885da741fc"
      },
      "execution_count": null,
      "outputs": [
        {
          "output_type": "execute_result",
          "data": {
            "text/plain": [
              "tensor([[2.9723e-02, 1.1817e-03, 1.5318e-01, 4.2654e-01, 3.9552e-02, 2.6788e-01,\n",
              "         5.5315e-02, 4.5898e-03, 2.1063e-02, 9.7360e-04],\n",
              "        [2.5894e-02, 7.0013e-01, 3.4102e-04, 5.9169e-05, 2.7705e-05, 4.1090e-05,\n",
              "         8.1633e-05, 3.3341e-05, 2.3034e-01, 4.3045e-02],\n",
              "        [1.2148e-01, 2.5684e-01, 1.0888e-02, 6.9184e-03, 2.8679e-03, 5.4811e-03,\n",
              "         2.9058e-03, 3.5506e-03, 5.1220e-01, 7.6871e-02],\n",
              "        [6.8759e-01, 1.6065e-02, 3.0256e-02, 2.3491e-03, 2.2347e-03, 5.0694e-04,\n",
              "         1.4350e-03, 5.9032e-04, 2.5098e-01, 7.9972e-03],\n",
              "        [4.9454e-04, 8.5082e-04, 7.4152e-02, 1.5224e-01, 1.1926e-01, 4.8955e-02,\n",
              "         6.0156e-01, 1.1403e-03, 8.3646e-04, 5.0858e-04],\n",
              "        [4.5451e-02, 5.5879e-02, 6.4766e-02, 4.3622e-02, 7.8341e-02, 4.0547e-02,\n",
              "         5.9764e-01, 1.5242e-02, 1.4098e-02, 4.4411e-02],\n",
              "        [1.2505e-02, 6.2772e-02, 1.1593e-01, 2.7310e-01, 3.6010e-03, 4.8410e-01,\n",
              "         4.0276e-02, 1.9701e-03, 8.5359e-04, 4.8798e-03],\n",
              "        [1.1026e-02, 4.4294e-04, 4.2347e-01, 3.4026e-02, 2.6997e-01, 1.1772e-02,\n",
              "         2.3999e-01, 7.2028e-03, 1.3769e-03, 7.2500e-04]])"
            ]
          },
          "metadata": {},
          "execution_count": 32
        }
      ]
    },
    {
      "cell_type": "markdown",
      "source": [
        "The outputs are probabilities for the 10 classes. The higher the probability for a class, the more the network thinks that the image is of the particular class. So, let’s get the index of the highest probability:"
      ],
      "metadata": {
        "id": "_Ei7AzEAssz2"
      }
    },
    {
      "cell_type": "code",
      "source": [
        "_, predicted = torch.max(probabilities, 1)\n",
        "predicted"
      ],
      "metadata": {
        "colab": {
          "base_uri": "https://localhost:8080/"
        },
        "id": "cnenI7Y2r2E6",
        "outputId": "fe12b567-b710-4d69-8d15-2505d5161776"
      },
      "execution_count": null,
      "outputs": [
        {
          "output_type": "execute_result",
          "data": {
            "text/plain": [
              "tensor([3, 1, 8, 0, 6, 6, 5, 2])"
            ]
          },
          "metadata": {},
          "execution_count": 33
        }
      ]
    },
    {
      "cell_type": "code",
      "source": [
        "imshow(utils.make_grid(images))\n",
        "print('GroundTruth: ', ' '.join(f'{classes[labels[j]]:5s}' for j in range(batch_size)))\n",
        "print('Predicted: ', ' '.join(f'{classes[predicted[j]]:5s}' for j in range(batch_size)))"
      ],
      "metadata": {
        "colab": {
          "base_uri": "https://localhost:8080/",
          "height": 203
        },
        "id": "UAmI-yP5pohf",
        "outputId": "c3fabdca-e9be-4096-d153-ec0edb01f8c8"
      },
      "execution_count": null,
      "outputs": [
        {
          "output_type": "display_data",
          "data": {
            "text/plain": [
              "<Figure size 1152x288 with 1 Axes>"
            ],
            "image/png": "[encoded data removed]"
          },
          "metadata": {
            "needs_background": "light"
          }
        },
        {
          "output_type": "stream",
          "name": "stdout",
          "text": [
            "GroundTruth:  cat   ship  ship  plane frog  frog  car   frog \n",
            "Predicted:  cat   car   ship  plane frog  frog  dog   bird \n"
          ]
        }
      ]
    },
    {
      "cell_type": "code",
      "source": [
        "# prepare to count predictions for each class\n",
        "correct_pred = {classname: 0 for classname in classes}\n",
        "total_pred = {classname: 0 for classname in classes}\n",
        "\n",
        "# again no gradients needed\n",
        "with torch.no_grad():\n",
        "    for data in testloader:\n",
        "        images, labels = data\n",
        "        logits = model(images)\n",
        "        probabilities = F.softmax(logits, dim=1)\n",
        "        _, predictions = torch.max(probabilities, 1)\n",
        "        # collect the correct predictions for each class\n",
        "        for label, prediction in zip(labels, predictions):\n",
        "            if label == prediction:\n",
        "                correct_pred[classes[label]] += 1\n",
        "            total_pred[classes[label]] += 1\n",
        "\n",
        "\n",
        "# print accuracy for each class\n",
        "for classname, correct_count in correct_pred.items():\n",
        "    accuracy = 100 * float(correct_count) / total_pred[classname]\n",
        "    print(f'Accuracy for class: {classname:5s} is {accuracy:.1f} %')"
      ],
      "metadata": {
        "colab": {
          "base_uri": "https://localhost:8080/"
        },
        "id": "RTl_MUMcso21",
        "outputId": "c11b8f87-2d2b-4bb6-9d7e-535eea742aec"
      },
      "execution_count": null,
      "outputs": [
        {
          "output_type": "stream",
          "name": "stdout",
          "text": [
            "Accuracy for class: plane is 58.2 %\n",
            "Accuracy for class: car   is 72.5 %\n",
            "Accuracy for class: bird  is 54.8 %\n",
            "Accuracy for class: cat   is 26.7 %\n",
            "Accuracy for class: deer  is 46.5 %\n",
            "Accuracy for class: dog   is 59.7 %\n",
            "Accuracy for class: frog  is 76.0 %\n",
            "Accuracy for class: horse is 59.7 %\n",
            "Accuracy for class: ship  is 75.9 %\n",
            "Accuracy for class: truck is 55.3 %\n"
          ]
        }
      ]
    },
    {
      "cell_type": "markdown",
      "source": [
        "# Training on GPU\n",
        "\n",
        "Just like how you transfer a Tensor onto the GPU, you transfer the neural net onto the GPU.\n",
        "\n",
        "Let’s first define our device as the first visible cuda device if we have CUDA available:"
      ],
      "metadata": {
        "id": "4OSPxaL8obcs"
      }
    },
    {
      "cell_type": "code",
      "source": [
        "device = torch.device('cuda:0' if torch.cuda.is_available() else 'cpu')\n",
        "\n",
        "# Assuming that we are on a CUDA machine, this should print a CUDA device:\n",
        "\n",
        "print(device)"
      ],
      "metadata": {
        "colab": {
          "base_uri": "https://localhost:8080/"
        },
        "id": "sknxElnZoMtN",
        "outputId": "d84c55d9-8868-45ca-8e36-64495e3ccfb6"
      },
      "execution_count": null,
      "outputs": [
        {
          "output_type": "stream",
          "name": "stdout",
          "text": [
            "cuda:0\n"
          ]
        }
      ]
    },
    {
      "cell_type": "markdown",
      "source": [],
      "metadata": {
        "id": "19Q5-4Rzoa27"
      }
    }
  ]
}