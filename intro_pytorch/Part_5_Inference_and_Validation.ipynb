{
  "cells": [
    {
      "cell_type": "markdown",
      "metadata": {
        "id": "view-in-github",
        "colab_type": "text"
      },
      "source": [
        "<a href=\"https://colab.research.google.com/github/Bduz/intro_ml/blob/main/intro_pytorch/Part_5_Inference_and_Validation.ipynb\" target=\"_parent\"><img src=\"https://colab.research.google.com/assets/colab-badge.svg\" alt=\"Open In Colab\"/></a>"
      ]
    },
    {
      "cell_type": "markdown",
      "metadata": {
        "id": "VcqOd7aewV4G"
      },
      "source": [
        "# Inference and Validation\n",
        "\n",
        "Now that you have a trained network, you can use it for making predictions. This is typically called **inference**, a term borrowed from statistics. However, neural networks have a tendency to perform *too well* on the training data and aren't able to generalize to data that hasn't been seen before. This is called **overfitting** and it impairs inference performance. To test for overfitting while training, we measure the performance on data not in the training set called the **validation** dataset. We avoid overfitting through regularization such as dropout while monitoring the validation performance during training. In this notebook, I'll show you how to do this in PyTorch."
      ]
    },
    {
      "cell_type": "markdown",
      "metadata": {
        "id": "rjE36p_NwxaP"
      },
      "source": [
        "First we clone the git repository, and add it to our path"
      ]
    },
    {
      "cell_type": "code",
      "execution_count": 1,
      "metadata": {
        "colab": {
          "base_uri": "https://localhost:8080/"
        },
        "id": "Atl4YeNUwxaQ",
        "outputId": "6d1a5e50-dd36-43bf-f50c-de492695a124"
      },
      "outputs": [
        {
          "output_type": "stream",
          "name": "stdout",
          "text": [
            "Cloning into 'intro_ml'...\n",
            "remote: Enumerating objects: 447, done.\u001b[K\n",
            "remote: Counting objects: 100% (157/157), done.\u001b[K\n",
            "remote: Compressing objects: 100% (153/153), done.\u001b[K\n",
            "remote: Total 447 (delta 72), reused 0 (delta 0), pack-reused 290\u001b[K\n",
            "Receiving objects: 100% (447/447), 51.95 MiB | 42.73 MiB/s, done.\n",
            "Resolving deltas: 100% (218/218), done.\n"
          ]
        }
      ],
      "source": [
        "!git clone https://github.com/Bduz/intro_ml.git"
      ]
    },
    {
      "cell_type": "code",
      "execution_count": 2,
      "metadata": {
        "id": "AYcuOim8wxaQ"
      },
      "outputs": [],
      "source": [
        "import sys\n",
        "sys.path.insert(0, '/content/intro_ml/intro_pytorch/')"
      ]
    },
    {
      "cell_type": "markdown",
      "metadata": {
        "id": "5DHpTni9wxaR"
      },
      "source": [
        "First off, I'll implement my own feedforward network for the exercise you worked on in part 4 using the Fashion-MNIST dataset.\n",
        "\n",
        "As usual, let's start by loading the dataset through torchvision. You'll learn more about torchvision and loading data in a later part."
      ]
    },
    {
      "cell_type": "code",
      "execution_count": 3,
      "metadata": {
        "id": "NjS2M1Z9wV4L"
      },
      "outputs": [],
      "source": [
        "%matplotlib inline\n",
        "%config InlineBackend.figure_format = 'retina'\n",
        "\n",
        "import matplotlib.pyplot as plt\n",
        "import numpy as np\n",
        "import time\n",
        "\n",
        "import torch\n",
        "from torch import nn\n",
        "from torch import optim\n",
        "import torch.nn.functional as F\n",
        "from torchvision import datasets, transforms\n",
        "\n",
        "import helperfuncs"
      ]
    },
    {
      "cell_type": "code",
      "execution_count": 4,
      "metadata": {
        "id": "s3TjSg2KwV4N",
        "colab": {
          "base_uri": "https://localhost:8080/"
        },
        "outputId": "e7b657a4-a590-41ff-f79c-8ab3c6d366f4"
      },
      "outputs": [
        {
          "output_type": "stream",
          "name": "stdout",
          "text": [
            "Downloading http://fashion-mnist.s3-website.eu-central-1.amazonaws.com/train-images-idx3-ubyte.gz\n",
            "Downloading http://fashion-mnist.s3-website.eu-central-1.amazonaws.com/train-images-idx3-ubyte.gz to F_MNIST_data/FashionMNIST/raw/train-images-idx3-ubyte.gz\n"
          ]
        },
        {
          "output_type": "stream",
          "name": "stderr",
          "text": [
            "100%|██████████| 26421880/26421880 [00:01<00:00, 22296452.77it/s]\n"
          ]
        },
        {
          "output_type": "stream",
          "name": "stdout",
          "text": [
            "Extracting F_MNIST_data/FashionMNIST/raw/train-images-idx3-ubyte.gz to F_MNIST_data/FashionMNIST/raw\n",
            "\n",
            "Downloading http://fashion-mnist.s3-website.eu-central-1.amazonaws.com/train-labels-idx1-ubyte.gz\n",
            "Downloading http://fashion-mnist.s3-website.eu-central-1.amazonaws.com/train-labels-idx1-ubyte.gz to F_MNIST_data/FashionMNIST/raw/train-labels-idx1-ubyte.gz\n"
          ]
        },
        {
          "output_type": "stream",
          "name": "stderr",
          "text": [
            "100%|██████████| 29515/29515 [00:00<00:00, 335758.64it/s]\n"
          ]
        },
        {
          "output_type": "stream",
          "name": "stdout",
          "text": [
            "Extracting F_MNIST_data/FashionMNIST/raw/train-labels-idx1-ubyte.gz to F_MNIST_data/FashionMNIST/raw\n",
            "\n",
            "Downloading http://fashion-mnist.s3-website.eu-central-1.amazonaws.com/t10k-images-idx3-ubyte.gz\n",
            "Downloading http://fashion-mnist.s3-website.eu-central-1.amazonaws.com/t10k-images-idx3-ubyte.gz to F_MNIST_data/FashionMNIST/raw/t10k-images-idx3-ubyte.gz\n"
          ]
        },
        {
          "output_type": "stream",
          "name": "stderr",
          "text": [
            "100%|██████████| 4422102/4422102 [00:00<00:00, 6118574.96it/s]\n"
          ]
        },
        {
          "output_type": "stream",
          "name": "stdout",
          "text": [
            "Extracting F_MNIST_data/FashionMNIST/raw/t10k-images-idx3-ubyte.gz to F_MNIST_data/FashionMNIST/raw\n",
            "\n",
            "Downloading http://fashion-mnist.s3-website.eu-central-1.amazonaws.com/t10k-labels-idx1-ubyte.gz\n",
            "Downloading http://fashion-mnist.s3-website.eu-central-1.amazonaws.com/t10k-labels-idx1-ubyte.gz to F_MNIST_data/FashionMNIST/raw/t10k-labels-idx1-ubyte.gz\n"
          ]
        },
        {
          "output_type": "stream",
          "name": "stderr",
          "text": [
            "100%|██████████| 5148/5148 [00:00<00:00, 8216239.34it/s]"
          ]
        },
        {
          "output_type": "stream",
          "name": "stdout",
          "text": [
            "Extracting F_MNIST_data/FashionMNIST/raw/t10k-labels-idx1-ubyte.gz to F_MNIST_data/FashionMNIST/raw\n",
            "\n"
          ]
        },
        {
          "output_type": "stream",
          "name": "stderr",
          "text": [
            "\n"
          ]
        }
      ],
      "source": [
        "# Define a transform to normalize the data\n",
        "transform = transforms.Compose([transforms.ToTensor(),\n",
        "                                transforms.Normalize((0.5), (0.5))])\n",
        "# Download and load the training data\n",
        "trainset = datasets.FashionMNIST('F_MNIST_data/', download=True, train=True, transform=transform)\n",
        "trainloader = torch.utils.data.DataLoader(trainset, batch_size=64, shuffle=True)\n",
        "\n",
        "# Download and load the test data\n",
        "testset = datasets.FashionMNIST('F_MNIST_data/', download=True, train=False, transform=transform)\n",
        "testloader = torch.utils.data.DataLoader(testset, batch_size=64, shuffle=True)"
      ]
    },
    {
      "cell_type": "markdown",
      "metadata": {
        "id": "dBcurQM1wV4O"
      },
      "source": [
        "## Building the network\n",
        "\n",
        "As with MNIST, each image in Fashion-MNIST is 28x28 which is a total of 784 pixels, and there are 10 classes. I'm going to get a bit more advanced here, I want to be able to build a network with an arbitrary number of hidden layers. That is, I want to pass in a parameter like `hidden_layers = [512, 256, 128]` and the network is contructed with three hidden layers have 512, 256, and 128 units respectively. To do this, I'll use `nn.ModuleList` to allow for an arbitrary number of hidden layers. Using `nn.ModuleList` works pretty much the same as a normal Python list, except that it registers each hidden layer `Linear` module properly so the model is aware of the layers.\n",
        "\n",
        "The issue here is I need a way to define each `nn.Linear` module with the appropriate layer sizes. Since each `nn.Linear` operation needs an input size and an output size, I need something that looks like this:\n",
        "\n",
        "```python\n",
        "# Create ModuleList and add input layer\n",
        "hidden_layers = nn.ModuleList([nn.Linear(input_size, hidden_layers[0])])\n",
        "# Add hidden layers to the ModuleList\n",
        "hidden_layers.extend([nn.Linear(h1, h2) for h1, h2 in layer_sizes])\n",
        "```\n",
        "\n",
        "Getting these pairs of input and output sizes can be done with a handy trick using `zip`.\n",
        "\n",
        "```python\n",
        "hidden_layers = [512, 256, 128, 64]\n",
        "layer_sizes = zip(hidden_layers[:-1], hidden_layers[1:])\n",
        "for each in layer_sizes:\n",
        "    print(each)\n",
        "\n",
        ">> (512, 256)\n",
        ">> (256, 128)\n",
        ">> (128, 64)\n",
        "```\n",
        "\n",
        "I also have the `forward` method returning the log-softmax for the output. Since softmax is a probability distibution over the classes, the log-softmax is a log probability which comes with a [lot of benefits](https://en.wikipedia.org/wiki/Log_probability). Using the log probability, computations are often faster and more accurate. To get the class probabilities later, I'll need to take the exponential (`torch.exp`) of the output. Algebra refresher... the exponential function is the inverse of the log function:\n",
        "\n",
        "$$ \\large{e^{\\ln{x}} = x }$$\n",
        "\n",
        "We can include dropout in our network with [`nn.Dropout`](http://pytorch.org/docs/master/nn.html#dropout). This works similar to other modules such as `nn.Linear`. It also takes the dropout probability as an input which we can pass as an input to the network."
      ]
    },
    {
      "cell_type": "code",
      "execution_count": 5,
      "metadata": {
        "id": "o8V-4FEnwV4Q"
      },
      "outputs": [],
      "source": [
        "class Network(nn.Module):\n",
        "    def __init__(self, input_size, output_size, hidden_layers, drop_p=0.5):\n",
        "        ''' Builds a feedforward network with arbitrary hidden layers.\n",
        "\n",
        "            Arguments\n",
        "            ---------\n",
        "            input_size: integer, size of the input\n",
        "            output_size: integer, size of the output layer\n",
        "            hidden_layers: list of integers, the sizes of the hidden layers\n",
        "            drop_p: float between 0 and 1, dropout probability\n",
        "        '''\n",
        "        super().__init__()\n",
        "        # Add the first layer, input to a hidden layer\n",
        "        self.hidden_layers = nn.ModuleList([nn.Linear(input_size, hidden_layers[0])])\n",
        "\n",
        "        # Add a variable number of more hidden layers\n",
        "        layer_sizes = zip(hidden_layers[:-1], hidden_layers[1:])\n",
        "        self.hidden_layers.extend([nn.Linear(h1, h2) for h1, h2 in layer_sizes])\n",
        "\n",
        "        self.output = nn.Linear(hidden_layers[-1], output_size)\n",
        "\n",
        "        self.dropout = nn.Dropout(p=drop_p)\n",
        "\n",
        "    def forward(self, x):\n",
        "        ''' Forward pass through the network, returns the output logits '''\n",
        "\n",
        "        # Forward through each layer in `hidden_layers`, with ReLU activation and dropout\n",
        "        for linear in self.hidden_layers:\n",
        "            x = F.relu(linear(x))\n",
        "            x = self.dropout(x)\n",
        "\n",
        "        x = self.output(x)\n",
        "\n",
        "        return F.log_softmax(x, dim=1)"
      ]
    },
    {
      "cell_type": "markdown",
      "metadata": {
        "id": "PU6NEildwV4R"
      },
      "source": [
        "# Train the network\n",
        "\n",
        "Since the model's forward method returns the log-softmax, I used the [negative log loss](http://pytorch.org/docs/master/nn.html#nllloss) as my criterion, `nn.NLLLoss()`. I also chose to use the [Adam optimizer](http://pytorch.org/docs/master/optim.html#torch.optim.Adam). This is a variant of stochastic gradient descent which includes momentum and in general trains faster than your basic SGD.\n",
        "\n",
        "I've also included a block to measure the validation loss and accuracy. Since I'm using dropout in the network, I need to turn it off during inference. Otherwise, the network will appear to perform poorly because many of the connections are turned off. PyTorch allows you to set a model in \"training\" or \"evaluation\" modes with `model.train()` and `model.eval()`, respectively. In training mode, dropout is turned on, while in evaluation mode, dropout is turned off. This effects other modules as well that should be on during training but off during inference.\n",
        "\n",
        "The validation code consists of a forward pass through the validation set (also split into batches). With the log-softmax output, I calculate the loss on the validation set, as well as the prediction accuracy."
      ]
    },
    {
      "cell_type": "code",
      "execution_count": 6,
      "metadata": {
        "id": "_7EBgVAZwV4S"
      },
      "outputs": [],
      "source": [
        "# Create the network, define the criterion and optimizer\n",
        "model = Network(784, 10, [516, 256], drop_p=0.5)\n",
        "criterion = nn.NLLLoss()\n",
        "optimizer = optim.Adam(model.parameters(), lr=0.001)"
      ]
    },
    {
      "cell_type": "code",
      "execution_count": 7,
      "metadata": {
        "id": "OvOyv25qwV4T"
      },
      "outputs": [],
      "source": [
        "# Implement a function for the validation pass\n",
        "def validation(model, testloader, criterion):\n",
        "    test_loss = 0\n",
        "    accuracy = 0\n",
        "    for images, labels in testloader:\n",
        "\n",
        "        images.resize_(images.shape[0], 784)\n",
        "\n",
        "        output = model.forward(images)\n",
        "        test_loss += criterion(output, labels).item()\n",
        "\n",
        "        ps = torch.exp(output)\n",
        "        equality = (labels.data == ps.max(dim=1)[1])\n",
        "        accuracy += equality.type(torch.FloatTensor).mean()\n",
        "\n",
        "    return test_loss, accuracy"
      ]
    },
    {
      "cell_type": "code",
      "execution_count": 8,
      "metadata": {
        "id": "vef5j19xwV4U",
        "colab": {
          "base_uri": "https://localhost:8080/"
        },
        "outputId": "643a3689-2695-40c8-f6b4-c7941ace14ec"
      },
      "outputs": [
        {
          "output_type": "stream",
          "name": "stdout",
          "text": [
            "Epoch: 1/2..  Training Loss: 1.308..  Test Loss: 0.749..  Test Accuracy: 0.735\n",
            "Epoch: 1/2..  Training Loss: 0.820..  Test Loss: 0.691..  Test Accuracy: 0.738\n",
            "Epoch: 1/2..  Training Loss: 0.754..  Test Loss: 0.620..  Test Accuracy: 0.772\n",
            "Epoch: 1/2..  Training Loss: 0.699..  Test Loss: 0.596..  Test Accuracy: 0.779\n",
            "Epoch: 1/2..  Training Loss: 0.646..  Test Loss: 0.598..  Test Accuracy: 0.773\n",
            "Epoch: 1/2..  Training Loss: 0.623..  Test Loss: 0.544..  Test Accuracy: 0.793\n",
            "Epoch: 1/2..  Training Loss: 0.623..  Test Loss: 0.564..  Test Accuracy: 0.792\n",
            "Epoch: 1/2..  Training Loss: 0.556..  Test Loss: 0.517..  Test Accuracy: 0.810\n",
            "Epoch: 1/2..  Training Loss: 0.594..  Test Loss: 0.517..  Test Accuracy: 0.812\n",
            "Epoch: 1/2..  Training Loss: 0.562..  Test Loss: 0.519..  Test Accuracy: 0.806\n",
            "Epoch: 1/2..  Training Loss: 0.579..  Test Loss: 0.500..  Test Accuracy: 0.818\n",
            "Epoch: 1/2..  Training Loss: 0.561..  Test Loss: 0.508..  Test Accuracy: 0.810\n",
            "Epoch: 1/2..  Training Loss: 0.581..  Test Loss: 0.525..  Test Accuracy: 0.801\n",
            "Epoch: 1/2..  Training Loss: 0.551..  Test Loss: 0.490..  Test Accuracy: 0.820\n",
            "Epoch: 1/2..  Training Loss: 0.538..  Test Loss: 0.504..  Test Accuracy: 0.819\n",
            "Epoch: 1/2..  Training Loss: 0.549..  Test Loss: 0.473..  Test Accuracy: 0.827\n",
            "Epoch: 1/2..  Training Loss: 0.543..  Test Loss: 0.483..  Test Accuracy: 0.823\n",
            "Epoch: 1/2..  Training Loss: 0.546..  Test Loss: 0.480..  Test Accuracy: 0.821\n",
            "Epoch: 1/2..  Training Loss: 0.535..  Test Loss: 0.473..  Test Accuracy: 0.826\n",
            "Epoch: 1/2..  Training Loss: 0.507..  Test Loss: 0.467..  Test Accuracy: 0.832\n",
            "Epoch: 1/2..  Training Loss: 0.492..  Test Loss: 0.474..  Test Accuracy: 0.829\n",
            "Epoch: 1/2..  Training Loss: 0.542..  Test Loss: 0.462..  Test Accuracy: 0.832\n",
            "Epoch: 1/2..  Training Loss: 0.518..  Test Loss: 0.458..  Test Accuracy: 0.830\n",
            "Epoch: 2/2..  Training Loss: 0.512..  Test Loss: 0.459..  Test Accuracy: 0.834\n",
            "Epoch: 2/2..  Training Loss: 0.500..  Test Loss: 0.457..  Test Accuracy: 0.828\n",
            "Epoch: 2/2..  Training Loss: 0.523..  Test Loss: 0.437..  Test Accuracy: 0.840\n",
            "Epoch: 2/2..  Training Loss: 0.499..  Test Loss: 0.468..  Test Accuracy: 0.827\n",
            "Epoch: 2/2..  Training Loss: 0.497..  Test Loss: 0.462..  Test Accuracy: 0.824\n",
            "Epoch: 2/2..  Training Loss: 0.490..  Test Loss: 0.450..  Test Accuracy: 0.837\n",
            "Epoch: 2/2..  Training Loss: 0.506..  Test Loss: 0.451..  Test Accuracy: 0.832\n",
            "Epoch: 2/2..  Training Loss: 0.480..  Test Loss: 0.453..  Test Accuracy: 0.834\n",
            "Epoch: 2/2..  Training Loss: 0.511..  Test Loss: 0.483..  Test Accuracy: 0.822\n",
            "Epoch: 2/2..  Training Loss: 0.486..  Test Loss: 0.452..  Test Accuracy: 0.834\n",
            "Epoch: 2/2..  Training Loss: 0.514..  Test Loss: 0.449..  Test Accuracy: 0.831\n",
            "Epoch: 2/2..  Training Loss: 0.455..  Test Loss: 0.435..  Test Accuracy: 0.843\n",
            "Epoch: 2/2..  Training Loss: 0.476..  Test Loss: 0.470..  Test Accuracy: 0.826\n",
            "Epoch: 2/2..  Training Loss: 0.474..  Test Loss: 0.444..  Test Accuracy: 0.839\n",
            "Epoch: 2/2..  Training Loss: 0.459..  Test Loss: 0.436..  Test Accuracy: 0.844\n",
            "Epoch: 2/2..  Training Loss: 0.467..  Test Loss: 0.446..  Test Accuracy: 0.841\n",
            "Epoch: 2/2..  Training Loss: 0.506..  Test Loss: 0.440..  Test Accuracy: 0.841\n",
            "Epoch: 2/2..  Training Loss: 0.473..  Test Loss: 0.428..  Test Accuracy: 0.842\n",
            "Epoch: 2/2..  Training Loss: 0.493..  Test Loss: 0.445..  Test Accuracy: 0.834\n",
            "Epoch: 2/2..  Training Loss: 0.460..  Test Loss: 0.461..  Test Accuracy: 0.830\n",
            "Epoch: 2/2..  Training Loss: 0.490..  Test Loss: 0.440..  Test Accuracy: 0.841\n",
            "Epoch: 2/2..  Training Loss: 0.479..  Test Loss: 0.431..  Test Accuracy: 0.844\n",
            "Epoch: 2/2..  Training Loss: 0.466..  Test Loss: 0.417..  Test Accuracy: 0.848\n"
          ]
        }
      ],
      "source": [
        "epochs = 2\n",
        "steps = 0\n",
        "running_loss = 0\n",
        "print_every = 40\n",
        "for e in range(epochs):\n",
        "    model.train()\n",
        "    for images, labels in trainloader:\n",
        "        steps += 1\n",
        "\n",
        "        # Flatten images into a 784 long vector\n",
        "        images.resize_(images.size()[0], 784)\n",
        "\n",
        "        optimizer.zero_grad()\n",
        "\n",
        "        output = model.forward(images)\n",
        "        loss = criterion(output, labels)\n",
        "        loss.backward()\n",
        "        optimizer.step()\n",
        "\n",
        "        running_loss += loss.item()\n",
        "\n",
        "        if steps % print_every == 0:\n",
        "            # Make sure network is in eval mode for inference\n",
        "            model.eval()\n",
        "\n",
        "            # Turn off gradients for validation, saves memory and computations\n",
        "            with torch.no_grad():\n",
        "                test_loss, accuracy = validation(model, testloader, criterion)\n",
        "\n",
        "            print(\"Epoch: {}/{}.. \".format(e+1, epochs),\n",
        "                  \"Training Loss: {:.3f}.. \".format(running_loss/print_every),\n",
        "                  \"Test Loss: {:.3f}.. \".format(test_loss/len(testloader)),\n",
        "                  \"Test Accuracy: {:.3f}\".format(accuracy/len(testloader)))\n",
        "\n",
        "            running_loss = 0\n",
        "\n",
        "            # Make sure training is back on\n",
        "            model.train()"
      ]
    },
    {
      "cell_type": "markdown",
      "metadata": {
        "id": "MAaXsgsBwV4V"
      },
      "source": [
        "## Inference\n",
        "\n",
        "Now that the model is trained, we can use it for inference. We've done this before, but now we need to remember to set the model in inference mode with `model.eval()`. You'll also want to turn off autograd with the `torch.no_grad()` context."
      ]
    },
    {
      "cell_type": "code",
      "execution_count": 10,
      "metadata": {
        "id": "Tano3-xlwV4V",
        "colab": {
          "base_uri": "https://localhost:8080/",
          "height": 318
        },
        "outputId": "840118b8-6be6-4d4a-bbd1-083a98012a43"
      },
      "outputs": [
        {
          "output_type": "display_data",
          "data": {
            "text/plain": [
              "<Figure size 600x900 with 2 Axes>"
            ],
            "image/png": "[encoded data removed]"
          },
          "metadata": {
            "image/png": {
              "width": 589,
              "height": 301
            }
          }
        }
      ],
      "source": [
        "# Test out your network!\n",
        "\n",
        "model.eval()\n",
        "\n",
        "dataiter = iter(testloader)\n",
        "images, labels = next(dataiter)\n",
        "img = images[0]\n",
        "# Convert 2D image to 1D vector\n",
        "img = img.view(1, 784)\n",
        "\n",
        "# Calculate the class probabilities (softmax) for img\n",
        "with torch.no_grad():\n",
        "    output = model.forward(img)\n",
        "\n",
        "ps = torch.exp(output)\n",
        "\n",
        "# Plot the image and probabilities\n",
        "helperfuncs.view_classify(img.view(1, 28, 28), ps, version='Fashion')"
      ]
    },
    {
      "cell_type": "markdown",
      "metadata": {
        "id": "xJ-xIJHJwV4W"
      },
      "source": [
        "## Next Up!\n",
        "\n",
        "In the next part, I'll show you how to save your trained models. In general, you won't want to train a model everytime you need it. Instead, you'll train once, save it, then load the model when you want to train more or use if for inference."
      ]
    }
  ],
  "metadata": {
    "colab": {
      "provenance": [],
      "include_colab_link": true
    },
    "kernelspec": {
      "display_name": "Python 3",
      "name": "python3"
    },
    "language_info": {
      "name": "python"
    }
  },
  "nbformat": 4,
  "nbformat_minor": 0
}