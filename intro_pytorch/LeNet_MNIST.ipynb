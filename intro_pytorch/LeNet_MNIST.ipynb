{
  "nbformat": 4,
  "nbformat_minor": 0,
  "metadata": {
    "colab": {
      "provenance": [],
      "include_colab_link": true
    },
    "kernelspec": {
      "name": "python3",
      "display_name": "Python 3"
    },
    "language_info": {
      "name": "python"
    }
  },
  "cells": [
    {
      "cell_type": "markdown",
      "metadata": {
        "id": "view-in-github",
        "colab_type": "text"
      },
      "source": [
        "<a href=\"https://colab.research.google.com/github/Bduz/intro_ml/blob/main/intro_pytorch/LeNet_MNIST.ipynb\" target=\"_parent\"><img src=\"https://colab.research.google.com/assets/colab-badge.svg\" alt=\"Open In Colab\"/></a>"
      ]
    },
    {
      "cell_type": "code",
      "execution_count": null,
      "metadata": {
        "colab": {
          "base_uri": "https://localhost:8080/"
        },
        "id": "v0JpCBmt9p3b",
        "outputId": "2233caaa-514a-4ce3-c4ad-c5c00dfebd01"
      },
      "outputs": [
        {
          "output_type": "stream",
          "name": "stdout",
          "text": [
            "Cloning into 'intro_ml'...\n",
            "remote: Enumerating objects: 527, done.\u001b[K\n",
            "remote: Counting objects: 100% (237/237), done.\u001b[K\n",
            "remote: Compressing objects: 100% (176/176), done.\u001b[K\n",
            "remote: Total 527 (delta 117), reused 131 (delta 56), pack-reused 290\u001b[K\n",
            "Receiving objects: 100% (527/527), 51.97 MiB | 36.08 MiB/s, done.\n",
            "Resolving deltas: 100% (263/263), done.\n"
          ]
        }
      ],
      "source": [
        "!git clone https://github.com/Bduz/intro_ml.git"
      ]
    },
    {
      "cell_type": "markdown",
      "source": [
        "# 0 - Load all the Necessary Modules"
      ],
      "metadata": {
        "id": "CILaN6ZBHr9H"
      }
    },
    {
      "cell_type": "code",
      "source": [
        "import sys\n",
        "sys.path.insert(0, '/content/intro_ml/intro_pytorch/')"
      ],
      "metadata": {
        "id": "lWSQO88OHptv"
      },
      "execution_count": null,
      "outputs": []
    },
    {
      "cell_type": "code",
      "source": [
        "import numpy as np\n",
        "import torch\n",
        "from torch import nn\n",
        "from torch import optim\n",
        "import torch.nn.functional as F\n",
        "\n",
        "import helperfuncs"
      ],
      "metadata": {
        "id": "DpyuUrVNIBg_"
      },
      "execution_count": null,
      "outputs": []
    },
    {
      "cell_type": "markdown",
      "source": [
        "# 1 - Load and Process the Data"
      ],
      "metadata": {
        "id": "V3Dh5nGvGc5A"
      }
    },
    {
      "cell_type": "markdown",
      "source": [
        "Load the MNIST data and transform it."
      ],
      "metadata": {
        "id": "5ywgLah5Isnp"
      }
    },
    {
      "cell_type": "code",
      "source": [
        "from torchvision import datasets, transforms\n",
        "\n",
        "# Define transformations on the data\n",
        "transform  = transforms.Compose([transforms.ToTensor(), transforms.Normalize((0.5), (0.5)),])\n",
        "\n",
        "#Load the training data\n",
        "trainset = datasets.MNIST('MNIST_data/', download=True, train=True, transform=transform)\n",
        "trainloader = torch.utils.data.DataLoader(trainset, batch_size=64, shuffle=True)\n",
        "\n",
        "#Load the test data\n",
        "testset = datasets.MNIST('MNIST_data/', download=True, train=False, transform=transform)\n",
        "testloader = torch.utils.data.DataLoader(testset, batch_size=64, shuffle=True)"
      ],
      "metadata": {
        "id": "Kj7CsrEsHdTq",
        "outputId": "e897aa86-cd53-4341-ba07-3b7d041a749a",
        "colab": {
          "base_uri": "https://localhost:8080/"
        }
      },
      "execution_count": null,
      "outputs": [
        {
          "output_type": "stream",
          "name": "stdout",
          "text": [
            "Downloading http://yann.lecun.com/exdb/mnist/train-images-idx3-ubyte.gz\n",
            "Downloading http://yann.lecun.com/exdb/mnist/train-images-idx3-ubyte.gz to MNIST_data/MNIST/raw/train-images-idx3-ubyte.gz\n"
          ]
        },
        {
          "output_type": "stream",
          "name": "stderr",
          "text": [
            "100%|██████████| 9912422/9912422 [00:00<00:00, 139842891.74it/s]"
          ]
        },
        {
          "output_type": "stream",
          "name": "stdout",
          "text": [
            "Extracting MNIST_data/MNIST/raw/train-images-idx3-ubyte.gz to MNIST_data/MNIST/raw\n"
          ]
        },
        {
          "output_type": "stream",
          "name": "stderr",
          "text": [
            "\n"
          ]
        },
        {
          "output_type": "stream",
          "name": "stdout",
          "text": [
            "\n",
            "Downloading http://yann.lecun.com/exdb/mnist/train-labels-idx1-ubyte.gz\n",
            "Downloading http://yann.lecun.com/exdb/mnist/train-labels-idx1-ubyte.gz to MNIST_data/MNIST/raw/train-labels-idx1-ubyte.gz\n"
          ]
        },
        {
          "output_type": "stream",
          "name": "stderr",
          "text": [
            "100%|██████████| 28881/28881 [00:00<00:00, 28034180.47it/s]\n"
          ]
        },
        {
          "output_type": "stream",
          "name": "stdout",
          "text": [
            "Extracting MNIST_data/MNIST/raw/train-labels-idx1-ubyte.gz to MNIST_data/MNIST/raw\n",
            "\n",
            "Downloading http://yann.lecun.com/exdb/mnist/t10k-images-idx3-ubyte.gz\n",
            "Downloading http://yann.lecun.com/exdb/mnist/t10k-images-idx3-ubyte.gz to MNIST_data/MNIST/raw/t10k-images-idx3-ubyte.gz\n"
          ]
        },
        {
          "output_type": "stream",
          "name": "stderr",
          "text": [
            "100%|██████████| 1648877/1648877 [00:00<00:00, 31901781.00it/s]"
          ]
        },
        {
          "output_type": "stream",
          "name": "stdout",
          "text": [
            "Extracting MNIST_data/MNIST/raw/t10k-images-idx3-ubyte.gz to MNIST_data/MNIST/raw\n"
          ]
        },
        {
          "output_type": "stream",
          "name": "stderr",
          "text": [
            "\n"
          ]
        },
        {
          "output_type": "stream",
          "name": "stdout",
          "text": [
            "\n",
            "Downloading http://yann.lecun.com/exdb/mnist/t10k-labels-idx1-ubyte.gz\n",
            "Downloading http://yann.lecun.com/exdb/mnist/t10k-labels-idx1-ubyte.gz to MNIST_data/MNIST/raw/t10k-labels-idx1-ubyte.gz\n"
          ]
        },
        {
          "output_type": "stream",
          "name": "stderr",
          "text": [
            "100%|██████████| 4542/4542 [00:00<00:00, 32454052.42it/s]\n"
          ]
        },
        {
          "output_type": "stream",
          "name": "stdout",
          "text": [
            "Extracting MNIST_data/MNIST/raw/t10k-labels-idx1-ubyte.gz to MNIST_data/MNIST/raw\n",
            "\n"
          ]
        }
      ]
    },
    {
      "cell_type": "markdown",
      "source": [
        "# 2 - The Model of the Neural Network"
      ],
      "metadata": {
        "id": "eaNxmqZGGtx7"
      }
    },
    {
      "cell_type": "markdown",
      "source": [
        "Let's use the [LeNet](https://pytorch.org/tutorials/beginner/blitz/neural_networks_tutorial.html) model as our ConvNet."
      ],
      "metadata": {
        "id": "F0ScwGoApKfd"
      }
    },
    {
      "cell_type": "code",
      "source": [
        "class MnistModel(nn.Module):\n",
        "  def __init__(self):\n",
        "    super().__init__()\n",
        "    # 1 input image channel, 6 output channels, 5x5 square convolution\n",
        "    # kernel\n",
        "    self.conv1 = nn.Conv2d(1, 6, 5, padding=2)\n",
        "    self.conv2 = nn.Conv2d(6, 16, 5)\n",
        "    # an affine operation: y = Wx + b\n",
        "    self.fc1 = nn.Linear(16 * 5 * 5, 120)  # 5*5 from image dimension\n",
        "    self.fc2 = nn.Linear(120, 84)\n",
        "    self.fc3 = nn.Linear(84, 10)\n",
        "\n",
        "  def forward(self, x):\n",
        "      # Max pooling over a (2, 2) window\n",
        "      x = F.max_pool2d(F.relu(self.conv1(x)), (2, 2))\n",
        "      # If the size is a square, you can specify with a single number\n",
        "      x = F.max_pool2d(F.relu(self.conv2(x)), 2)\n",
        "      x = torch.flatten(x, 1) # flatten all dimensions except the batch dimension\n",
        "      x = F.relu(self.fc1(x))\n",
        "      x = F.relu(self.fc2(x))\n",
        "      x = self.fc3(x)\n",
        "      return x\n",
        "\n",
        "\n",
        "model = MnistModel()\n",
        "model\n"
      ],
      "metadata": {
        "colab": {
          "base_uri": "https://localhost:8080/"
        },
        "id": "zimiGxvWLeBJ",
        "outputId": "63e6bbd0-146a-4acd-d228-b223b90dd010"
      },
      "execution_count": null,
      "outputs": [
        {
          "output_type": "execute_result",
          "data": {
            "text/plain": [
              "MnistModel(\n",
              "  (conv1): Conv2d(1, 6, kernel_size=(5, 5), stride=(1, 1), padding=(2, 2))\n",
              "  (conv2): Conv2d(6, 16, kernel_size=(5, 5), stride=(1, 1))\n",
              "  (fc1): Linear(in_features=400, out_features=120, bias=True)\n",
              "  (fc2): Linear(in_features=120, out_features=84, bias=True)\n",
              "  (fc3): Linear(in_features=84, out_features=10, bias=True)\n",
              ")"
            ]
          },
          "metadata": {},
          "execution_count": 5
        }
      ]
    },
    {
      "cell_type": "markdown",
      "source": [
        "# 3 - Train the Model"
      ],
      "metadata": {
        "id": "16Km_6QWHAIF"
      }
    },
    {
      "cell_type": "code",
      "source": [
        "# Implement a function for the validation pass\n",
        "def validation(model, testloader, criterion):\n",
        "    test_loss = 0\n",
        "    accuracy = 0\n",
        "    for images, labels in testloader:\n",
        "\n",
        "        output = model.forward(images)\n",
        "        test_loss += criterion(output, labels).item()\n",
        "\n",
        "        ps = torch.exp(output)\n",
        "        equality = (labels.data == ps.max(dim=1)[1])\n",
        "        accuracy += equality.type(torch.FloatTensor).mean()\n",
        "\n",
        "    return test_loss, accuracy"
      ],
      "metadata": {
        "id": "uIs3mn7pd6ez"
      },
      "execution_count": null,
      "outputs": []
    },
    {
      "cell_type": "code",
      "source": [
        "criterion = nn.CrossEntropyLoss()\n",
        "optimizer = optim.SGD(model.parameters(), lr=0.01)\n",
        "\n",
        "epochs = 5\n",
        "print_every = 40\n",
        "steps = 0\n",
        "for e in range(epochs):\n",
        "  running_loss = 0\n",
        "  for images, labels in iter(trainloader):\n",
        "    steps += 1\n",
        "\n",
        "    optimizer.zero_grad()\n",
        "\n",
        "    output = model.forward(images)\n",
        "    loss = criterion(output, labels)\n",
        "    loss.backward()\n",
        "    optimizer.step()\n",
        "\n",
        "    running_loss += loss.item()\n",
        "\n",
        "    if steps % print_every == 0:\n",
        "      # Make sure network is in eval mode for inference\n",
        "      model.eval()\n",
        "\n",
        "      # Turn off gradients for validation, saves memory and computations\n",
        "      with torch.no_grad():\n",
        "          test_loss, accuracy = validation(model, testloader, criterion)\n",
        "\n",
        "      print(\"Epoch: {}/{}.. \".format(e+1, epochs),\n",
        "            \"Training Loss: {:.3f}.. \".format(running_loss/print_every),\n",
        "            \"Test Loss: {:.3f}.. \".format(test_loss/len(testloader)),\n",
        "            \"Test Accuracy: {:.3f}\".format(accuracy/len(testloader)))\n",
        "\n",
        "      running_loss = 0\n",
        "\n",
        "      # Make sure training is back on\n",
        "      model.train()\n"
      ],
      "metadata": {
        "colab": {
          "base_uri": "https://localhost:8080/"
        },
        "id": "0neziT7ER5Fs",
        "outputId": "1ae9f735-c905-4fd7-cd46-df563db92036"
      },
      "execution_count": null,
      "outputs": [
        {
          "output_type": "stream",
          "name": "stdout",
          "text": [
            "Epoch: 1/5..  Training Loss: 2.304..  Test Loss: 2.304..  Test Accuracy: 0.095\n",
            "Epoch: 1/5..  Training Loss: 2.304..  Test Loss: 2.301..  Test Accuracy: 0.109\n",
            "Epoch: 1/5..  Training Loss: 2.299..  Test Loss: 2.299..  Test Accuracy: 0.137\n",
            "Epoch: 1/5..  Training Loss: 2.300..  Test Loss: 2.296..  Test Accuracy: 0.165\n",
            "Epoch: 1/5..  Training Loss: 2.296..  Test Loss: 2.293..  Test Accuracy: 0.177\n",
            "Epoch: 1/5..  Training Loss: 2.293..  Test Loss: 2.291..  Test Accuracy: 0.213\n",
            "Epoch: 1/5..  Training Loss: 2.288..  Test Loss: 2.287..  Test Accuracy: 0.213\n",
            "Epoch: 1/5..  Training Loss: 2.286..  Test Loss: 2.284..  Test Accuracy: 0.315\n",
            "Epoch: 1/5..  Training Loss: 2.282..  Test Loss: 2.279..  Test Accuracy: 0.289\n",
            "Epoch: 1/5..  Training Loss: 2.276..  Test Loss: 2.273..  Test Accuracy: 0.336\n",
            "Epoch: 1/5..  Training Loss: 2.269..  Test Loss: 2.264..  Test Accuracy: 0.345\n",
            "Epoch: 1/5..  Training Loss: 2.262..  Test Loss: 2.252..  Test Accuracy: 0.351\n",
            "Epoch: 1/5..  Training Loss: 2.244..  Test Loss: 2.232..  Test Accuracy: 0.315\n",
            "Epoch: 1/5..  Training Loss: 2.221..  Test Loss: 2.201..  Test Accuracy: 0.355\n",
            "Epoch: 1/5..  Training Loss: 2.178..  Test Loss: 2.146..  Test Accuracy: 0.382\n",
            "Epoch: 1/5..  Training Loss: 2.102..  Test Loss: 2.045..  Test Accuracy: 0.421\n",
            "Epoch: 1/5..  Training Loss: 1.977..  Test Loss: 1.876..  Test Accuracy: 0.458\n",
            "Epoch: 1/5..  Training Loss: 1.756..  Test Loss: 1.614..  Test Accuracy: 0.553\n",
            "Epoch: 1/5..  Training Loss: 1.479..  Test Loss: 1.304..  Test Accuracy: 0.640\n",
            "Epoch: 1/5..  Training Loss: 1.190..  Test Loss: 0.999..  Test Accuracy: 0.726\n",
            "Epoch: 1/5..  Training Loss: 0.963..  Test Loss: 0.844..  Test Accuracy: 0.735\n",
            "Epoch: 1/5..  Training Loss: 0.782..  Test Loss: 0.675..  Test Accuracy: 0.792\n",
            "Epoch: 1/5..  Training Loss: 0.673..  Test Loss: 0.629..  Test Accuracy: 0.792\n",
            "Epoch: 2/5..  Training Loss: 0.318..  Test Loss: 0.549..  Test Accuracy: 0.816\n",
            "Epoch: 2/5..  Training Loss: 0.537..  Test Loss: 0.481..  Test Accuracy: 0.853\n",
            "Epoch: 2/5..  Training Loss: 0.478..  Test Loss: 0.464..  Test Accuracy: 0.855\n",
            "Epoch: 2/5..  Training Loss: 0.479..  Test Loss: 0.425..  Test Accuracy: 0.871\n",
            "Epoch: 2/5..  Training Loss: 0.463..  Test Loss: 0.458..  Test Accuracy: 0.862\n",
            "Epoch: 2/5..  Training Loss: 0.418..  Test Loss: 0.366..  Test Accuracy: 0.889\n",
            "Epoch: 2/5..  Training Loss: 0.389..  Test Loss: 0.353..  Test Accuracy: 0.894\n",
            "Epoch: 2/5..  Training Loss: 0.374..  Test Loss: 0.371..  Test Accuracy: 0.882\n",
            "Epoch: 2/5..  Training Loss: 0.381..  Test Loss: 0.332..  Test Accuracy: 0.898\n",
            "Epoch: 2/5..  Training Loss: 0.344..  Test Loss: 0.329..  Test Accuracy: 0.902\n",
            "Epoch: 2/5..  Training Loss: 0.342..  Test Loss: 0.320..  Test Accuracy: 0.904\n",
            "Epoch: 2/5..  Training Loss: 0.329..  Test Loss: 0.286..  Test Accuracy: 0.915\n",
            "Epoch: 2/5..  Training Loss: 0.278..  Test Loss: 0.298..  Test Accuracy: 0.907\n",
            "Epoch: 2/5..  Training Loss: 0.315..  Test Loss: 0.322..  Test Accuracy: 0.899\n",
            "Epoch: 2/5..  Training Loss: 0.276..  Test Loss: 0.259..  Test Accuracy: 0.920\n",
            "Epoch: 2/5..  Training Loss: 0.272..  Test Loss: 0.243..  Test Accuracy: 0.927\n",
            "Epoch: 2/5..  Training Loss: 0.274..  Test Loss: 0.250..  Test Accuracy: 0.922\n",
            "Epoch: 2/5..  Training Loss: 0.229..  Test Loss: 0.227..  Test Accuracy: 0.931\n",
            "Epoch: 2/5..  Training Loss: 0.269..  Test Loss: 0.228..  Test Accuracy: 0.929\n",
            "Epoch: 2/5..  Training Loss: 0.243..  Test Loss: 0.215..  Test Accuracy: 0.934\n",
            "Epoch: 2/5..  Training Loss: 0.224..  Test Loss: 0.217..  Test Accuracy: 0.934\n",
            "Epoch: 2/5..  Training Loss: 0.235..  Test Loss: 0.200..  Test Accuracy: 0.939\n",
            "Epoch: 2/5..  Training Loss: 0.203..  Test Loss: 0.227..  Test Accuracy: 0.930\n",
            "Epoch: 3/5..  Training Loss: 0.026..  Test Loss: 0.197..  Test Accuracy: 0.940\n",
            "Epoch: 3/5..  Training Loss: 0.205..  Test Loss: 0.193..  Test Accuracy: 0.939\n",
            "Epoch: 3/5..  Training Loss: 0.210..  Test Loss: 0.203..  Test Accuracy: 0.939\n",
            "Epoch: 3/5..  Training Loss: 0.203..  Test Loss: 0.184..  Test Accuracy: 0.945\n",
            "Epoch: 3/5..  Training Loss: 0.190..  Test Loss: 0.180..  Test Accuracy: 0.943\n",
            "Epoch: 3/5..  Training Loss: 0.212..  Test Loss: 0.178..  Test Accuracy: 0.945\n",
            "Epoch: 3/5..  Training Loss: 0.189..  Test Loss: 0.170..  Test Accuracy: 0.947\n",
            "Epoch: 3/5..  Training Loss: 0.182..  Test Loss: 0.164..  Test Accuracy: 0.950\n",
            "Epoch: 3/5..  Training Loss: 0.166..  Test Loss: 0.160..  Test Accuracy: 0.951\n",
            "Epoch: 3/5..  Training Loss: 0.171..  Test Loss: 0.154..  Test Accuracy: 0.953\n",
            "Epoch: 3/5..  Training Loss: 0.156..  Test Loss: 0.152..  Test Accuracy: 0.951\n",
            "Epoch: 3/5..  Training Loss: 0.161..  Test Loss: 0.148..  Test Accuracy: 0.955\n",
            "Epoch: 3/5..  Training Loss: 0.151..  Test Loss: 0.150..  Test Accuracy: 0.954\n",
            "Epoch: 3/5..  Training Loss: 0.163..  Test Loss: 0.148..  Test Accuracy: 0.954\n",
            "Epoch: 3/5..  Training Loss: 0.178..  Test Loss: 0.138..  Test Accuracy: 0.957\n",
            "Epoch: 3/5..  Training Loss: 0.175..  Test Loss: 0.146..  Test Accuracy: 0.956\n",
            "Epoch: 3/5..  Training Loss: 0.175..  Test Loss: 0.133..  Test Accuracy: 0.959\n",
            "Epoch: 3/5..  Training Loss: 0.156..  Test Loss: 0.140..  Test Accuracy: 0.956\n",
            "Epoch: 3/5..  Training Loss: 0.151..  Test Loss: 0.126..  Test Accuracy: 0.960\n",
            "Epoch: 3/5..  Training Loss: 0.133..  Test Loss: 0.124..  Test Accuracy: 0.960\n",
            "Epoch: 3/5..  Training Loss: 0.141..  Test Loss: 0.127..  Test Accuracy: 0.959\n",
            "Epoch: 3/5..  Training Loss: 0.127..  Test Loss: 0.117..  Test Accuracy: 0.965\n",
            "Epoch: 3/5..  Training Loss: 0.135..  Test Loss: 0.123..  Test Accuracy: 0.962\n",
            "Epoch: 3/5..  Training Loss: 0.119..  Test Loss: 0.139..  Test Accuracy: 0.956\n",
            "Epoch: 4/5..  Training Loss: 0.077..  Test Loss: 0.113..  Test Accuracy: 0.964\n",
            "Epoch: 4/5..  Training Loss: 0.138..  Test Loss: 0.117..  Test Accuracy: 0.964\n",
            "Epoch: 4/5..  Training Loss: 0.120..  Test Loss: 0.111..  Test Accuracy: 0.965\n",
            "Epoch: 4/5..  Training Loss: 0.128..  Test Loss: 0.111..  Test Accuracy: 0.965\n",
            "Epoch: 4/5..  Training Loss: 0.124..  Test Loss: 0.107..  Test Accuracy: 0.967\n",
            "Epoch: 4/5..  Training Loss: 0.127..  Test Loss: 0.118..  Test Accuracy: 0.961\n",
            "Epoch: 4/5..  Training Loss: 0.121..  Test Loss: 0.106..  Test Accuracy: 0.968\n",
            "Epoch: 4/5..  Training Loss: 0.111..  Test Loss: 0.103..  Test Accuracy: 0.968\n",
            "Epoch: 4/5..  Training Loss: 0.140..  Test Loss: 0.105..  Test Accuracy: 0.968\n",
            "Epoch: 4/5..  Training Loss: 0.125..  Test Loss: 0.099..  Test Accuracy: 0.971\n",
            "Epoch: 4/5..  Training Loss: 0.105..  Test Loss: 0.111..  Test Accuracy: 0.964\n",
            "Epoch: 4/5..  Training Loss: 0.112..  Test Loss: 0.103..  Test Accuracy: 0.967\n",
            "Epoch: 4/5..  Training Loss: 0.120..  Test Loss: 0.105..  Test Accuracy: 0.968\n",
            "Epoch: 4/5..  Training Loss: 0.102..  Test Loss: 0.101..  Test Accuracy: 0.969\n",
            "Epoch: 4/5..  Training Loss: 0.117..  Test Loss: 0.095..  Test Accuracy: 0.972\n",
            "Epoch: 4/5..  Training Loss: 0.108..  Test Loss: 0.097..  Test Accuracy: 0.971\n",
            "Epoch: 4/5..  Training Loss: 0.098..  Test Loss: 0.094..  Test Accuracy: 0.969\n",
            "Epoch: 4/5..  Training Loss: 0.112..  Test Loss: 0.098..  Test Accuracy: 0.969\n",
            "Epoch: 4/5..  Training Loss: 0.099..  Test Loss: 0.093..  Test Accuracy: 0.970\n",
            "Epoch: 4/5..  Training Loss: 0.123..  Test Loss: 0.093..  Test Accuracy: 0.971\n",
            "Epoch: 4/5..  Training Loss: 0.099..  Test Loss: 0.100..  Test Accuracy: 0.970\n",
            "Epoch: 4/5..  Training Loss: 0.100..  Test Loss: 0.096..  Test Accuracy: 0.969\n",
            "Epoch: 4/5..  Training Loss: 0.089..  Test Loss: 0.090..  Test Accuracy: 0.972\n",
            "Epoch: 5/5..  Training Loss: 0.016..  Test Loss: 0.092..  Test Accuracy: 0.970\n",
            "Epoch: 5/5..  Training Loss: 0.080..  Test Loss: 0.088..  Test Accuracy: 0.974\n",
            "Epoch: 5/5..  Training Loss: 0.108..  Test Loss: 0.084..  Test Accuracy: 0.975\n",
            "Epoch: 5/5..  Training Loss: 0.108..  Test Loss: 0.084..  Test Accuracy: 0.973\n",
            "Epoch: 5/5..  Training Loss: 0.081..  Test Loss: 0.083..  Test Accuracy: 0.975\n",
            "Epoch: 5/5..  Training Loss: 0.082..  Test Loss: 0.088..  Test Accuracy: 0.971\n",
            "Epoch: 5/5..  Training Loss: 0.110..  Test Loss: 0.081..  Test Accuracy: 0.975\n",
            "Epoch: 5/5..  Training Loss: 0.104..  Test Loss: 0.080..  Test Accuracy: 0.975\n",
            "Epoch: 5/5..  Training Loss: 0.099..  Test Loss: 0.078..  Test Accuracy: 0.976\n",
            "Epoch: 5/5..  Training Loss: 0.085..  Test Loss: 0.083..  Test Accuracy: 0.974\n",
            "Epoch: 5/5..  Training Loss: 0.087..  Test Loss: 0.085..  Test Accuracy: 0.973\n",
            "Epoch: 5/5..  Training Loss: 0.110..  Test Loss: 0.084..  Test Accuracy: 0.974\n",
            "Epoch: 5/5..  Training Loss: 0.098..  Test Loss: 0.082..  Test Accuracy: 0.976\n",
            "Epoch: 5/5..  Training Loss: 0.083..  Test Loss: 0.075..  Test Accuracy: 0.977\n",
            "Epoch: 5/5..  Training Loss: 0.104..  Test Loss: 0.080..  Test Accuracy: 0.976\n",
            "Epoch: 5/5..  Training Loss: 0.108..  Test Loss: 0.076..  Test Accuracy: 0.977\n",
            "Epoch: 5/5..  Training Loss: 0.088..  Test Loss: 0.078..  Test Accuracy: 0.975\n",
            "Epoch: 5/5..  Training Loss: 0.083..  Test Loss: 0.074..  Test Accuracy: 0.977\n",
            "Epoch: 5/5..  Training Loss: 0.091..  Test Loss: 0.081..  Test Accuracy: 0.973\n",
            "Epoch: 5/5..  Training Loss: 0.091..  Test Loss: 0.071..  Test Accuracy: 0.977\n",
            "Epoch: 5/5..  Training Loss: 0.072..  Test Loss: 0.072..  Test Accuracy: 0.977\n",
            "Epoch: 5/5..  Training Loss: 0.077..  Test Loss: 0.072..  Test Accuracy: 0.975\n",
            "Epoch: 5/5..  Training Loss: 0.083..  Test Loss: 0.071..  Test Accuracy: 0.978\n",
            "Epoch: 5/5..  Training Loss: 0.082..  Test Loss: 0.072..  Test Accuracy: 0.977\n"
          ]
        }
      ]
    },
    {
      "cell_type": "markdown",
      "source": [
        "# 4 - Analyze the Results"
      ],
      "metadata": {
        "id": "BloSpo5WHLku"
      }
    },
    {
      "cell_type": "code",
      "source": [
        "images, labels = next(iter(testloader))\n",
        "\n",
        "with torch.no_grad():\n",
        "  logits = model.forward(images)\n",
        "\n",
        "ps = F.softmax(logits, dim=1)"
      ],
      "metadata": {
        "id": "TNK4vAYnGjGc"
      },
      "execution_count": null,
      "outputs": []
    },
    {
      "cell_type": "code",
      "source": [
        "index = 1\n",
        "helperfuncs.view_classify(images[index], ps[index])"
      ],
      "metadata": {
        "colab": {
          "base_uri": "https://localhost:8080/",
          "height": 345
        },
        "id": "GfIj0rvikoBR",
        "outputId": "65073fc6-ff9a-48fc-d70a-f8e6040d00ef"
      },
      "execution_count": null,
      "outputs": [
        {
          "output_type": "display_data",
          "data": {
            "text/plain": [
              "<Figure size 600x900 with 2 Axes>"
            ],
            "image/png": "[encoded data removed]"
          },
          "metadata": {}
        }
      ]
    }
  ]
}