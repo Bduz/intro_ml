{
  "nbformat": 4,
  "nbformat_minor": 0,
  "metadata": {
    "colab": {
      "provenance": [],
      "collapsed_sections": []
    },
    "kernelspec": {
      "name": "python3",
      "display_name": "Python 3"
    },
    "language_info": {
      "name": "python"
    },
    "accelerator": "GPU",
    "gpuClass": "standard",
    "widgets": {
      "application/vnd.jupyter.widget-state+json": {
        "27f78afa79e541b797951215403727d8": {
          "model_module": "@jupyter-widgets/controls",
          "model_name": "HBoxModel",
          "model_module_version": "1.5.0",
          "state": {
            "_dom_classes": [],
            "_model_module": "@jupyter-widgets/controls",
            "_model_module_version": "1.5.0",
            "_model_name": "HBoxModel",
            "_view_count": null,
            "_view_module": "@jupyter-widgets/controls",
            "_view_module_version": "1.5.0",
            "_view_name": "HBoxView",
            "box_style": "",
            "children": [
              "IPY_MODEL_f526275b642348848c49c1573746acea",
              "IPY_MODEL_e9d68c080f75495c93d23804c7d6e4d4",
              "IPY_MODEL_278e6cb6179845809ab99a77d384b743"
            ],
            "layout": "IPY_MODEL_b1a95c3b797b4b32b7aa48e230fe2ef8"
          }
        },
        "f526275b642348848c49c1573746acea": {
          "model_module": "@jupyter-widgets/controls",
          "model_name": "HTMLModel",
          "model_module_version": "1.5.0",
          "state": {
            "_dom_classes": [],
            "_model_module": "@jupyter-widgets/controls",
            "_model_module_version": "1.5.0",
            "_model_name": "HTMLModel",
            "_view_count": null,
            "_view_module": "@jupyter-widgets/controls",
            "_view_module_version": "1.5.0",
            "_view_name": "HTMLView",
            "description": "",
            "description_tooltip": null,
            "layout": "IPY_MODEL_ff9736b72ab54000a581446a6a9d9f4d",
            "placeholder": "​",
            "style": "IPY_MODEL_50a50262bd7c4616a7b4eab5a3ecf6ac",
            "value": "100%"
          }
        },
        "e9d68c080f75495c93d23804c7d6e4d4": {
          "model_module": "@jupyter-widgets/controls",
          "model_name": "FloatProgressModel",
          "model_module_version": "1.5.0",
          "state": {
            "_dom_classes": [],
            "_model_module": "@jupyter-widgets/controls",
            "_model_module_version": "1.5.0",
            "_model_name": "FloatProgressModel",
            "_view_count": null,
            "_view_module": "@jupyter-widgets/controls",
            "_view_module_version": "1.5.0",
            "_view_name": "ProgressView",
            "bar_style": "success",
            "description": "",
            "description_tooltip": null,
            "layout": "IPY_MODEL_7893b443771543d791ce3f8c9336f8ab",
            "max": 170498071,
            "min": 0,
            "orientation": "horizontal",
            "style": "IPY_MODEL_3af73775466c4d7686ec965fa3593826",
            "value": 170498071
          }
        },
        "278e6cb6179845809ab99a77d384b743": {
          "model_module": "@jupyter-widgets/controls",
          "model_name": "HTMLModel",
          "model_module_version": "1.5.0",
          "state": {
            "_dom_classes": [],
            "_model_module": "@jupyter-widgets/controls",
            "_model_module_version": "1.5.0",
            "_model_name": "HTMLModel",
            "_view_count": null,
            "_view_module": "@jupyter-widgets/controls",
            "_view_module_version": "1.5.0",
            "_view_name": "HTMLView",
            "description": "",
            "description_tooltip": null,
            "layout": "IPY_MODEL_8d360b5a9d8247938670719ac0fe261e",
            "placeholder": "​",
            "style": "IPY_MODEL_3774d1df50ee4be295af41f7506c99b8",
            "value": " 170498071/170498071 [00:04&lt;00:00, 46784562.44it/s]"
          }
        },
        "b1a95c3b797b4b32b7aa48e230fe2ef8": {
          "model_module": "@jupyter-widgets/base",
          "model_name": "LayoutModel",
          "model_module_version": "1.2.0",
          "state": {
            "_model_module": "@jupyter-widgets/base",
            "_model_module_version": "1.2.0",
            "_model_name": "LayoutModel",
            "_view_count": null,
            "_view_module": "@jupyter-widgets/base",
            "_view_module_version": "1.2.0",
            "_view_name": "LayoutView",
            "align_content": null,
            "align_items": null,
            "align_self": null,
            "border": null,
            "bottom": null,
            "display": null,
            "flex": null,
            "flex_flow": null,
            "grid_area": null,
            "grid_auto_columns": null,
            "grid_auto_flow": null,
            "grid_auto_rows": null,
            "grid_column": null,
            "grid_gap": null,
            "grid_row": null,
            "grid_template_areas": null,
            "grid_template_columns": null,
            "grid_template_rows": null,
            "height": null,
            "justify_content": null,
            "justify_items": null,
            "left": null,
            "margin": null,
            "max_height": null,
            "max_width": null,
            "min_height": null,
            "min_width": null,
            "object_fit": null,
            "object_position": null,
            "order": null,
            "overflow": null,
            "overflow_x": null,
            "overflow_y": null,
            "padding": null,
            "right": null,
            "top": null,
            "visibility": null,
            "width": null
          }
        },
        "ff9736b72ab54000a581446a6a9d9f4d": {
          "model_module": "@jupyter-widgets/base",
          "model_name": "LayoutModel",
          "model_module_version": "1.2.0",
          "state": {
            "_model_module": "@jupyter-widgets/base",
            "_model_module_version": "1.2.0",
            "_model_name": "LayoutModel",
            "_view_count": null,
            "_view_module": "@jupyter-widgets/base",
            "_view_module_version": "1.2.0",
            "_view_name": "LayoutView",
            "align_content": null,
            "align_items": null,
            "align_self": null,
            "border": null,
            "bottom": null,
            "display": null,
            "flex": null,
            "flex_flow": null,
            "grid_area": null,
            "grid_auto_columns": null,
            "grid_auto_flow": null,
            "grid_auto_rows": null,
            "grid_column": null,
            "grid_gap": null,
            "grid_row": null,
            "grid_template_areas": null,
            "grid_template_columns": null,
            "grid_template_rows": null,
            "height": null,
            "justify_content": null,
            "justify_items": null,
            "left": null,
            "margin": null,
            "max_height": null,
            "max_width": null,
            "min_height": null,
            "min_width": null,
            "object_fit": null,
            "object_position": null,
            "order": null,
            "overflow": null,
            "overflow_x": null,
            "overflow_y": null,
            "padding": null,
            "right": null,
            "top": null,
            "visibility": null,
            "width": null
          }
        },
        "50a50262bd7c4616a7b4eab5a3ecf6ac": {
          "model_module": "@jupyter-widgets/controls",
          "model_name": "DescriptionStyleModel",
          "model_module_version": "1.5.0",
          "state": {
            "_model_module": "@jupyter-widgets/controls",
            "_model_module_version": "1.5.0",
            "_model_name": "DescriptionStyleModel",
            "_view_count": null,
            "_view_module": "@jupyter-widgets/base",
            "_view_module_version": "1.2.0",
            "_view_name": "StyleView",
            "description_width": ""
          }
        },
        "7893b443771543d791ce3f8c9336f8ab": {
          "model_module": "@jupyter-widgets/base",
          "model_name": "LayoutModel",
          "model_module_version": "1.2.0",
          "state": {
            "_model_module": "@jupyter-widgets/base",
            "_model_module_version": "1.2.0",
            "_model_name": "LayoutModel",
            "_view_count": null,
            "_view_module": "@jupyter-widgets/base",
            "_view_module_version": "1.2.0",
            "_view_name": "LayoutView",
            "align_content": null,
            "align_items": null,
            "align_self": null,
            "border": null,
            "bottom": null,
            "display": null,
            "flex": null,
            "flex_flow": null,
            "grid_area": null,
            "grid_auto_columns": null,
            "grid_auto_flow": null,
            "grid_auto_rows": null,
            "grid_column": null,
            "grid_gap": null,
            "grid_row": null,
            "grid_template_areas": null,
            "grid_template_columns": null,
            "grid_template_rows": null,
            "height": null,
            "justify_content": null,
            "justify_items": null,
            "left": null,
            "margin": null,
            "max_height": null,
            "max_width": null,
            "min_height": null,
            "min_width": null,
            "object_fit": null,
            "object_position": null,
            "order": null,
            "overflow": null,
            "overflow_x": null,
            "overflow_y": null,
            "padding": null,
            "right": null,
            "top": null,
            "visibility": null,
            "width": null
          }
        },
        "3af73775466c4d7686ec965fa3593826": {
          "model_module": "@jupyter-widgets/controls",
          "model_name": "ProgressStyleModel",
          "model_module_version": "1.5.0",
          "state": {
            "_model_module": "@jupyter-widgets/controls",
            "_model_module_version": "1.5.0",
            "_model_name": "ProgressStyleModel",
            "_view_count": null,
            "_view_module": "@jupyter-widgets/base",
            "_view_module_version": "1.2.0",
            "_view_name": "StyleView",
            "bar_color": null,
            "description_width": ""
          }
        },
        "8d360b5a9d8247938670719ac0fe261e": {
          "model_module": "@jupyter-widgets/base",
          "model_name": "LayoutModel",
          "model_module_version": "1.2.0",
          "state": {
            "_model_module": "@jupyter-widgets/base",
            "_model_module_version": "1.2.0",
            "_model_name": "LayoutModel",
            "_view_count": null,
            "_view_module": "@jupyter-widgets/base",
            "_view_module_version": "1.2.0",
            "_view_name": "LayoutView",
            "align_content": null,
            "align_items": null,
            "align_self": null,
            "border": null,
            "bottom": null,
            "display": null,
            "flex": null,
            "flex_flow": null,
            "grid_area": null,
            "grid_auto_columns": null,
            "grid_auto_flow": null,
            "grid_auto_rows": null,
            "grid_column": null,
            "grid_gap": null,
            "grid_row": null,
            "grid_template_areas": null,
            "grid_template_columns": null,
            "grid_template_rows": null,
            "height": null,
            "justify_content": null,
            "justify_items": null,
            "left": null,
            "margin": null,
            "max_height": null,
            "max_width": null,
            "min_height": null,
            "min_width": null,
            "object_fit": null,
            "object_position": null,
            "order": null,
            "overflow": null,
            "overflow_x": null,
            "overflow_y": null,
            "padding": null,
            "right": null,
            "top": null,
            "visibility": null,
            "width": null
          }
        },
        "3774d1df50ee4be295af41f7506c99b8": {
          "model_module": "@jupyter-widgets/controls",
          "model_name": "DescriptionStyleModel",
          "model_module_version": "1.5.0",
          "state": {
            "_model_module": "@jupyter-widgets/controls",
            "_model_module_version": "1.5.0",
            "_model_name": "DescriptionStyleModel",
            "_view_count": null,
            "_view_module": "@jupyter-widgets/base",
            "_view_module_version": "1.2.0",
            "_view_name": "StyleView",
            "description_width": ""
          }
        }
      }
    }
  },
  "cells": [
    {
      "cell_type": "markdown",
      "source": [
        "# 0 - Load all the Necessary Modules"
      ],
      "metadata": {
        "id": "CILaN6ZBHr9H"
      }
    },
    {
      "cell_type": "code",
      "source": [
        "import numpy as np\n",
        "import torch\n",
        "from torch import nn\n",
        "from torch import optim\n",
        "import torch.nn.functional as F"
      ],
      "metadata": {
        "id": "DpyuUrVNIBg_"
      },
      "execution_count": 1,
      "outputs": []
    },
    {
      "cell_type": "markdown",
      "source": [
        "# 1 - Load and Process the Data"
      ],
      "metadata": {
        "id": "V3Dh5nGvGc5A"
      }
    },
    {
      "cell_type": "markdown",
      "source": [
        "Generally, when you have to deal with image, text, audio or video data, you can use standard python packages that load data into a numpy array. Then you can convert this array into a `torch.*Tensor`.\n",
        "\n",
        "*   For images, packages such as Pillow, OpenCV are useful\n",
        "*   For audio, packages such as scipy and librosa\n",
        "*   For text, either raw Python or Cython based loading, or NLTK and SpaCy are useful\n",
        "\n",
        "Specifically for vision, we have created a package called `torchvision`, that has data loaders for common datasets such as ImageNet, CIFAR10, MNIST, etc. and data transformers for images, viz., `torchvision.datasets` and `torch.utils.data.DataLoader`.\n",
        "\n",
        "This provides a huge convenience and avoids writing boilerplate code.\n",
        "\n",
        "For this tutorial, we will use the  [CIFAR10](https://www.cs.toronto.edu/~kriz/cifar.html) dataset. It has the classes: ‘airplane’, ‘automobile’, ‘bird’, ‘cat’, ‘deer’, ‘dog’, ‘frog’, ‘horse’, ‘ship’, ‘truck’. The images in CIFAR-10 are of size 3x32x32, i.e. 3-channel color images of 32x32 pixels in size."
      ],
      "metadata": {
        "id": "Gob042ezhpoy"
      }
    },
    {
      "cell_type": "markdown",
      "source": [
        "Using [torchvision](https://pytorch.org/vision/stable/index.html), it’s extremely easy to load CIFAR10. The output of torchvision datasets are PILImage images of range [0, 1]. We transform them to Tensors of normalized range [-1, 1].\n",
        "\n",
        "\n",
        "\n"
      ],
      "metadata": {
        "id": "5ywgLah5Isnp"
      }
    },
    {
      "cell_type": "code",
      "source": [
        "from torchvision import datasets, transforms\n",
        "\n",
        "# Define transformations on the data\n",
        "transform = transforms.Compose([transforms.ToTensor(), transforms.Normalize((0.5, 0.5, 0.5), (0.5, 0.5, 0.5))])\n",
        "\n",
        "batch_size = 8\n",
        "\n",
        "#Load the training data\n",
        "trainset = datasets.CIFAR10(root='CIFAR10_data/', train=True, download=True, transform=transform)\n",
        "trainloader = torch.utils.data.DataLoader(trainset, batch_size=batch_size, shuffle=True, num_workers=2)\n",
        "\n",
        "#Load the test data\n",
        "testset = datasets.CIFAR10(root='CIFAR10_data/', train=False, download=True, transform=transform)\n",
        "testloader = torch.utils.data.DataLoader(testset, batch_size=batch_size, shuffle=False, num_workers=2)\n",
        "\n",
        "classes = ('plane', 'car', 'bird', 'cat',\n",
        "           'deer', 'dog', 'frog', 'horse', 'ship', 'truck')"
      ],
      "metadata": {
        "colab": {
          "base_uri": "https://localhost:8080/",
          "height": 101,
          "referenced_widgets": [
            "27f78afa79e541b797951215403727d8",
            "f526275b642348848c49c1573746acea",
            "e9d68c080f75495c93d23804c7d6e4d4",
            "278e6cb6179845809ab99a77d384b743",
            "b1a95c3b797b4b32b7aa48e230fe2ef8",
            "ff9736b72ab54000a581446a6a9d9f4d",
            "50a50262bd7c4616a7b4eab5a3ecf6ac",
            "7893b443771543d791ce3f8c9336f8ab",
            "3af73775466c4d7686ec965fa3593826",
            "8d360b5a9d8247938670719ac0fe261e",
            "3774d1df50ee4be295af41f7506c99b8"
          ]
        },
        "id": "Kj7CsrEsHdTq",
        "outputId": "d55f6c51-e0d3-4b97-c8b2-fc7e723e1589"
      },
      "execution_count": 2,
      "outputs": [
        {
          "output_type": "stream",
          "name": "stdout",
          "text": [
            "Downloading https://www.cs.toronto.edu/~kriz/cifar-10-python.tar.gz to CIFAR10_data/cifar-10-python.tar.gz\n"
          ]
        },
        {
          "output_type": "display_data",
          "data": {
            "text/plain": [
              "  0%|          | 0/170498071 [00:00<?, ?it/s]"
            ],
            "application/vnd.jupyter.widget-view+json": {
              "version_major": 2,
              "version_minor": 0,
              "model_id": "27f78afa79e541b797951215403727d8"
            }
          },
          "metadata": {}
        },
        {
          "output_type": "stream",
          "name": "stdout",
          "text": [
            "Extracting CIFAR10_data/cifar-10-python.tar.gz to CIFAR10_data/\n",
            "Files already downloaded and verified\n"
          ]
        }
      ]
    },
    {
      "cell_type": "markdown",
      "source": [
        "Let us show some of the training images, for fun."
      ],
      "metadata": {
        "id": "XiL0GYOTj1Kp"
      }
    },
    {
      "cell_type": "code",
      "source": [
        "import matplotlib.pyplot as plt\n",
        "from torchvision import utils\n",
        "\n",
        "# functions to show an image\n",
        "def imshow(img):\n",
        "    img = img / 2 + 0.5     # unnormalize\n",
        "    npimg = img.numpy()\n",
        "    plt.figure(figsize = (16,4))\n",
        "    plt.imshow(np.transpose(npimg, (1, 2, 0)), interpolation='nearest')\n",
        "    plt.show()\n",
        "\n",
        "# get some random training images\n",
        "dataiter = iter(trainloader)\n",
        "images, labels = next(dataiter)\n",
        "\n",
        "# show images\n",
        "imshow(utils.make_grid(images))\n",
        "# print labels\n",
        "print(' '.join(f'{classes[labels[j]]:5s}' for j in range(batch_size)))"
      ],
      "metadata": {
        "colab": {
          "base_uri": "https://localhost:8080/",
          "height": 185
        },
        "id": "R7OTvbUrj2YI",
        "outputId": "99e0057b-eb9f-48e6-c597-9927d634b799"
      },
      "execution_count": 3,
      "outputs": [
        {
          "output_type": "display_data",
          "data": {
            "text/plain": [
              "<Figure size 1152x288 with 1 Axes>"
            ],
            "image/png": "[encoded data removed]"
          },
          "metadata": {
            "needs_background": "light"
          }
        },
        {
          "output_type": "stream",
          "name": "stdout",
          "text": [
            "car   dog   bird  dog   cat   deer  cat   horse\n"
          ]
        }
      ]
    },
    {
      "cell_type": "markdown",
      "source": [
        "# 2 - The Model of the Neural Network"
      ],
      "metadata": {
        "id": "eaNxmqZGGtx7"
      }
    },
    {
      "cell_type": "code",
      "source": [
        "class Net(nn.Module):\n",
        "    def __init__(self):\n",
        "        super().__init__()\n",
        "        self.conv1 = nn.Conv2d(3, 6, 5)\n",
        "        self.pool = nn.MaxPool2d(2, 2)\n",
        "        self.conv2 = nn.Conv2d(6, 16, 5)\n",
        "        self.fc1 = nn.Linear(16 * 5 * 5, 120)\n",
        "        self.fc2 = nn.Linear(120, 84)\n",
        "        self.fc3 = nn.Linear(84, 10)\n",
        "\n",
        "    def forward(self, x):\n",
        "        x = self.pool(F.relu(self.conv1(x)))\n",
        "        x = self.pool(F.relu(self.conv2(x)))\n",
        "        x = torch.flatten(x, 1) # flatten all dimensions except batch\n",
        "        x = F.relu(self.fc1(x))\n",
        "        x = F.relu(self.fc2(x))\n",
        "        x = self.fc3(x)\n",
        "        return x\n",
        "\n",
        "\n",
        "model = Net()\n",
        "model\n"
      ],
      "metadata": {
        "colab": {
          "base_uri": "https://localhost:8080/"
        },
        "id": "zimiGxvWLeBJ",
        "outputId": "c3f0ab0b-2247-45cb-d7c1-8ccf48191b3d"
      },
      "execution_count": 4,
      "outputs": [
        {
          "output_type": "execute_result",
          "data": {
            "text/plain": [
              "Net(\n",
              "  (conv1): Conv2d(3, 6, kernel_size=(5, 5), stride=(1, 1))\n",
              "  (pool): MaxPool2d(kernel_size=2, stride=2, padding=0, dilation=1, ceil_mode=False)\n",
              "  (conv2): Conv2d(6, 16, kernel_size=(5, 5), stride=(1, 1))\n",
              "  (fc1): Linear(in_features=400, out_features=120, bias=True)\n",
              "  (fc2): Linear(in_features=120, out_features=84, bias=True)\n",
              "  (fc3): Linear(in_features=84, out_features=10, bias=True)\n",
              ")"
            ]
          },
          "metadata": {},
          "execution_count": 4
        }
      ]
    },
    {
      "cell_type": "markdown",
      "source": [
        "Let's take a look at the summary of our ConvNet."
      ],
      "metadata": {
        "id": "u8ihzDDUnE3-"
      }
    },
    {
      "cell_type": "code",
      "source": [
        "!pip install torchsummary"
      ],
      "metadata": {
        "colab": {
          "base_uri": "https://localhost:8080/"
        },
        "id": "sg-u883anKRm",
        "outputId": "a92ca28f-9f98-4a7c-b183-2483bb1f5d95"
      },
      "execution_count": 5,
      "outputs": [
        {
          "output_type": "stream",
          "name": "stdout",
          "text": [
            "Looking in indexes: https://pypi.org/simple, https://us-python.pkg.dev/colab-wheels/public/simple/\n",
            "Requirement already satisfied: torchsummary in /usr/local/lib/python3.7/dist-packages (1.5.1)\n"
          ]
        }
      ]
    },
    {
      "cell_type": "code",
      "source": [
        "from torchsummary import summary\n",
        "summary(model, (3, 32, 32), batch_size)"
      ],
      "metadata": {
        "colab": {
          "base_uri": "https://localhost:8080/"
        },
        "id": "YANw8oNEnYat",
        "outputId": "4b4433d5-c9d9-498d-cc4b-3ac5ef862702"
      },
      "execution_count": 6,
      "outputs": [
        {
          "output_type": "stream",
          "name": "stdout",
          "text": [
            "----------------------------------------------------------------\n",
            "        Layer (type)               Output Shape         Param #\n",
            "================================================================\n",
            "            Conv2d-1             [8, 6, 28, 28]             456\n",
            "         MaxPool2d-2             [8, 6, 14, 14]               0\n",
            "            Conv2d-3            [8, 16, 10, 10]           2,416\n",
            "         MaxPool2d-4              [8, 16, 5, 5]               0\n",
            "            Linear-5                   [8, 120]          48,120\n",
            "            Linear-6                    [8, 84]          10,164\n",
            "            Linear-7                    [8, 10]             850\n",
            "================================================================\n",
            "Total params: 62,006\n",
            "Trainable params: 62,006\n",
            "Non-trainable params: 0\n",
            "----------------------------------------------------------------\n",
            "Input size (MB): 0.09\n",
            "Forward/backward pass size (MB): 0.49\n",
            "Params size (MB): 0.24\n",
            "Estimated Total Size (MB): 0.82\n",
            "----------------------------------------------------------------\n"
          ]
        }
      ]
    },
    {
      "cell_type": "markdown",
      "source": [
        "# 3 - Train the Model"
      ],
      "metadata": {
        "id": "16Km_6QWHAIF"
      }
    },
    {
      "cell_type": "code",
      "source": [
        "# Implement a function for the validation pass\n",
        "def validation(model, testloader, criterion):\n",
        "    test_loss = 0\n",
        "    accuracy = 0\n",
        "    for images, labels in testloader:\n",
        "\n",
        "        output = model.forward(images)\n",
        "        test_loss += criterion(output, labels).item()\n",
        "\n",
        "        ps = torch.exp(output)\n",
        "        equality = (labels.data == ps.max(dim=1)[1])\n",
        "        accuracy += equality.type(torch.FloatTensor).mean()\n",
        "    \n",
        "    return test_loss, accuracy"
      ],
      "metadata": {
        "id": "g9qe-FGflI_A"
      },
      "execution_count": 7,
      "outputs": []
    },
    {
      "cell_type": "code",
      "source": [
        "criterion = nn.CrossEntropyLoss()\n",
        "optimizer = optim.SGD(model.parameters(), lr=0.005)\n",
        "\n",
        "epochs = 5\n",
        "print_every = 1000\n",
        "steps = 0\n",
        "for e in range(epochs):\n",
        "  running_loss = 0\n",
        "  for images, labels in iter(trainloader):\n",
        "    steps += 1\n",
        "\n",
        "    optimizer.zero_grad()\n",
        "\n",
        "    output = model.forward(images)\n",
        "    loss = criterion(output, labels)\n",
        "    loss.backward()\n",
        "    optimizer.step()\n",
        "\n",
        "    running_loss += loss.item()\n",
        "\n",
        "    if steps % print_every == 0:\n",
        "      # Make sure network is in eval mode for inference\n",
        "      model.eval()\n",
        "      \n",
        "      # Turn off gradients for validation, saves memory and computations\n",
        "      with torch.no_grad():\n",
        "          test_loss, accuracy = validation(model, testloader, criterion)\n",
        "          \n",
        "      print(\"Epoch: {}/{}.. \".format(e+1, epochs),\n",
        "            \"Training Loss: {:.3f}.. \".format(running_loss/print_every),\n",
        "            \"Test Loss: {:.3f}.. \".format(test_loss/len(testloader)),\n",
        "            \"Test Accuracy: {:.3f}\".format(accuracy/len(testloader)))\n",
        "      \n",
        "      running_loss = 0\n",
        "      \n",
        "      # Make sure training is back on\n",
        "      model.train()\n",
        "\n",
        "\n",
        "\n",
        "\n"
      ],
      "metadata": {
        "colab": {
          "base_uri": "https://localhost:8080/"
        },
        "id": "0neziT7ER5Fs",
        "outputId": "44ec4453-f412-4607-d79d-f20bc284af8c"
      },
      "execution_count": 8,
      "outputs": [
        {
          "output_type": "stream",
          "name": "stdout",
          "text": [
            "Epoch: 1/5..  Training Loss: 2.301..  Test Loss: 2.295..  Test Accuracy: 0.103\n",
            "Epoch: 1/5..  Training Loss: 2.275..  Test Loss: 2.230..  Test Accuracy: 0.149\n",
            "Epoch: 1/5..  Training Loss: 2.166..  Test Loss: 2.092..  Test Accuracy: 0.233\n",
            "Epoch: 1/5..  Training Loss: 2.039..  Test Loss: 1.954..  Test Accuracy: 0.285\n",
            "Epoch: 1/5..  Training Loss: 1.923..  Test Loss: 1.841..  Test Accuracy: 0.317\n",
            "Epoch: 1/5..  Training Loss: 1.828..  Test Loss: 1.766..  Test Accuracy: 0.347\n",
            "Epoch: 2/5..  Training Loss: 1.313..  Test Loss: 1.706..  Test Accuracy: 0.385\n",
            "Epoch: 2/5..  Training Loss: 1.707..  Test Loss: 1.639..  Test Accuracy: 0.398\n",
            "Epoch: 2/5..  Training Loss: 1.644..  Test Loss: 1.638..  Test Accuracy: 0.408\n",
            "Epoch: 2/5..  Training Loss: 1.592..  Test Loss: 1.543..  Test Accuracy: 0.438\n",
            "Epoch: 2/5..  Training Loss: 1.558..  Test Loss: 1.519..  Test Accuracy: 0.449\n",
            "Epoch: 2/5..  Training Loss: 1.537..  Test Loss: 1.498..  Test Accuracy: 0.459\n",
            "Epoch: 3/5..  Training Loss: 0.738..  Test Loss: 1.469..  Test Accuracy: 0.463\n",
            "Epoch: 3/5..  Training Loss: 1.459..  Test Loss: 1.459..  Test Accuracy: 0.470\n",
            "Epoch: 3/5..  Training Loss: 1.456..  Test Loss: 1.464..  Test Accuracy: 0.462\n",
            "Epoch: 3/5..  Training Loss: 1.417..  Test Loss: 1.382..  Test Accuracy: 0.496\n",
            "Epoch: 3/5..  Training Loss: 1.398..  Test Loss: 1.386..  Test Accuracy: 0.491\n",
            "Epoch: 3/5..  Training Loss: 1.373..  Test Loss: 1.394..  Test Accuracy: 0.499\n",
            "Epoch: 4/5..  Training Loss: 0.333..  Test Loss: 1.332..  Test Accuracy: 0.519\n",
            "Epoch: 4/5..  Training Loss: 1.318..  Test Loss: 1.323..  Test Accuracy: 0.524\n",
            "Epoch: 4/5..  Training Loss: 1.312..  Test Loss: 1.361..  Test Accuracy: 0.510\n",
            "Epoch: 4/5..  Training Loss: 1.314..  Test Loss: 1.337..  Test Accuracy: 0.518\n",
            "Epoch: 4/5..  Training Loss: 1.301..  Test Loss: 1.296..  Test Accuracy: 0.533\n",
            "Epoch: 4/5..  Training Loss: 1.287..  Test Loss: 1.278..  Test Accuracy: 0.547\n",
            "Epoch: 4/5..  Training Loss: 1.275..  Test Loss: 1.263..  Test Accuracy: 0.544\n",
            "Epoch: 5/5..  Training Loss: 1.221..  Test Loss: 1.270..  Test Accuracy: 0.542\n",
            "Epoch: 5/5..  Training Loss: 1.239..  Test Loss: 1.274..  Test Accuracy: 0.543\n",
            "Epoch: 5/5..  Training Loss: 1.206..  Test Loss: 1.261..  Test Accuracy: 0.547\n",
            "Epoch: 5/5..  Training Loss: 1.223..  Test Loss: 1.246..  Test Accuracy: 0.562\n",
            "Epoch: 5/5..  Training Loss: 1.206..  Test Loss: 1.223..  Test Accuracy: 0.563\n",
            "Epoch: 5/5..  Training Loss: 1.195..  Test Loss: 1.191..  Test Accuracy: 0.572\n"
          ]
        }
      ]
    },
    {
      "cell_type": "markdown",
      "source": [
        "# 4 - Analyze the Results"
      ],
      "metadata": {
        "id": "BloSpo5WHLku"
      }
    },
    {
      "cell_type": "code",
      "source": [
        "images, labels = next(iter(testloader))\n",
        "\n",
        "with torch.no_grad():\n",
        "  logits = model.forward(images)\n",
        "\n",
        "probabilities = F.softmax(logits, dim=1)\n",
        "probabilities"
      ],
      "metadata": {
        "colab": {
          "base_uri": "https://localhost:8080/"
        },
        "id": "TNK4vAYnGjGc",
        "outputId": "7e6eb5a1-be23-402b-97f7-ab5bde0f83ea"
      },
      "execution_count": 11,
      "outputs": [
        {
          "output_type": "execute_result",
          "data": {
            "text/plain": [
              "tensor([[5.0073e-02, 2.7672e-03, 1.6645e-01, 3.4398e-01, 4.1615e-02, 2.4566e-01,\n",
              "         8.6580e-02, 1.2159e-02, 4.3236e-02, 7.4797e-03],\n",
              "        [5.0326e-02, 7.4109e-02, 1.4570e-04, 1.8828e-05, 2.0822e-05, 1.9586e-06,\n",
              "         5.0620e-06, 2.6697e-06, 8.6895e-01, 6.4222e-03],\n",
              "        [7.1198e-02, 1.6828e-01, 3.8549e-03, 1.4930e-03, 7.4712e-04, 2.6751e-04,\n",
              "         3.5183e-04, 5.5192e-04, 6.8764e-01, 6.5615e-02],\n",
              "        [1.9960e-01, 6.6168e-03, 5.3044e-03, 1.0012e-03, 2.7682e-03, 1.4810e-04,\n",
              "         2.3398e-04, 2.0254e-04, 7.8077e-01, 3.3616e-03],\n",
              "        [5.0351e-04, 6.4432e-04, 4.9184e-02, 1.7836e-01, 4.5277e-01, 9.7677e-02,\n",
              "         2.1666e-01, 3.6438e-03, 3.6643e-04, 1.8882e-04],\n",
              "        [1.0131e-02, 4.5072e-02, 1.9764e-02, 3.8060e-02, 2.5141e-02, 1.8700e-02,\n",
              "         8.0102e-01, 5.3619e-03, 3.4493e-03, 3.3304e-02],\n",
              "        [7.2266e-02, 5.6799e-01, 9.4730e-03, 5.6973e-02, 6.9858e-04, 7.8743e-02,\n",
              "         2.6606e-02, 1.0346e-03, 4.6064e-02, 1.4016e-01],\n",
              "        [9.2536e-03, 1.2429e-03, 1.6276e-01, 8.6452e-02, 1.6206e-01, 5.1637e-02,\n",
              "         4.9776e-01, 2.0271e-02, 6.2885e-03, 2.2654e-03]])"
            ]
          },
          "metadata": {},
          "execution_count": 11
        }
      ]
    },
    {
      "cell_type": "markdown",
      "source": [
        "The outputs are probabilities for the 10 classes. The higher the probability for a class, the more the network thinks that the image is of the particular class. So, let’s get the index of the highest probability:"
      ],
      "metadata": {
        "id": "_Ei7AzEAssz2"
      }
    },
    {
      "cell_type": "code",
      "source": [
        "_, predicted = torch.max(probabilities, 1)\n",
        "predicted"
      ],
      "metadata": {
        "colab": {
          "base_uri": "https://localhost:8080/"
        },
        "id": "cnenI7Y2r2E6",
        "outputId": "7c85651a-40e3-4206-ce9d-f674836ae226"
      },
      "execution_count": 12,
      "outputs": [
        {
          "output_type": "execute_result",
          "data": {
            "text/plain": [
              "tensor([3, 8, 8, 8, 4, 6, 1, 6])"
            ]
          },
          "metadata": {},
          "execution_count": 12
        }
      ]
    },
    {
      "cell_type": "code",
      "source": [
        "imshow(utils.make_grid(images))\n",
        "print('GroundTruth: ', ' '.join(f'{classes[labels[j]]:5s}' for j in range(batch_size)))\n",
        "print('Predicted: ', ' '.join(f'{classes[predicted[j]]:5s}' for j in range(batch_size)))"
      ],
      "metadata": {
        "colab": {
          "base_uri": "https://localhost:8080/",
          "height": 203
        },
        "id": "UAmI-yP5pohf",
        "outputId": "d1a94767-3135-4163-a46c-7e9037094fd8"
      },
      "execution_count": 13,
      "outputs": [
        {
          "output_type": "display_data",
          "data": {
            "text/plain": [
              "<Figure size 1152x288 with 1 Axes>"
            ],
            "image/png": "[encoded data removed]"
          },
          "metadata": {
            "needs_background": "light"
          }
        },
        {
          "output_type": "stream",
          "name": "stdout",
          "text": [
            "GroundTruth:  cat   ship  ship  plane frog  frog  car   frog \n",
            "Predicted:  cat   ship  ship  ship  deer  frog  car   frog \n"
          ]
        }
      ]
    },
    {
      "cell_type": "code",
      "source": [
        "# prepare to count predictions for each class\n",
        "correct_pred = {classname: 0 for classname in classes}\n",
        "total_pred = {classname: 0 for classname in classes}\n",
        "\n",
        "# again no gradients needed\n",
        "with torch.no_grad():\n",
        "    for data in testloader:\n",
        "        images, labels = data\n",
        "        logits = model(images)\n",
        "        probabilities = F.softmax(logits, dim=1)\n",
        "        _, predictions = torch.max(probabilities, 1)\n",
        "        # collect the correct predictions for each class\n",
        "        for label, prediction in zip(labels, predictions):\n",
        "            if label == prediction:\n",
        "                correct_pred[classes[label]] += 1\n",
        "            total_pred[classes[label]] += 1\n",
        "\n",
        "\n",
        "# print accuracy for each class\n",
        "for classname, correct_count in correct_pred.items():\n",
        "    accuracy = 100 * float(correct_count) / total_pred[classname]\n",
        "    print(f'Accuracy for class: {classname:5s} is {accuracy:.1f} %')"
      ],
      "metadata": {
        "colab": {
          "base_uri": "https://localhost:8080/"
        },
        "id": "RTl_MUMcso21",
        "outputId": "942017f5-92a7-4e80-db85-5cc391a6239d"
      },
      "execution_count": 14,
      "outputs": [
        {
          "output_type": "stream",
          "name": "stdout",
          "text": [
            "Accuracy for class: plane is 55.9 %\n",
            "Accuracy for class: car   is 74.6 %\n",
            "Accuracy for class: bird  is 40.2 %\n",
            "Accuracy for class: cat   is 33.5 %\n",
            "Accuracy for class: deer  is 34.4 %\n",
            "Accuracy for class: dog   is 58.1 %\n",
            "Accuracy for class: frog  is 73.6 %\n",
            "Accuracy for class: horse is 57.4 %\n",
            "Accuracy for class: ship  is 83.5 %\n",
            "Accuracy for class: truck is 59.5 %\n"
          ]
        }
      ]
    },
    {
      "cell_type": "markdown",
      "source": [
        "# Training on GPU\n",
        "\n",
        "Just like how you transfer a Tensor onto the GPU, you transfer the neural net onto the GPU.\n",
        "\n",
        "Let’s first define our device as the first visible cuda device if we have CUDA available:"
      ],
      "metadata": {
        "id": "4OSPxaL8obcs"
      }
    },
    {
      "cell_type": "code",
      "source": [
        "import torch\n",
        "\n",
        "device = torch.device('cuda:0' if torch.cuda.is_available() else 'cpu')\n",
        "\n",
        "# Assuming that we are on a CUDA machine, this should print a CUDA device:\n",
        "\n",
        "print(device)"
      ],
      "metadata": {
        "colab": {
          "base_uri": "https://localhost:8080/"
        },
        "id": "sknxElnZoMtN",
        "outputId": "ba45ba26-6180-436a-ac43-43160f33e8e3"
      },
      "execution_count": 2,
      "outputs": [
        {
          "output_type": "stream",
          "name": "stdout",
          "text": [
            "cuda:0\n"
          ]
        }
      ]
    },
    {
      "cell_type": "markdown",
      "source": [
        "Take a look at [here](https://pytorch.org/tutorials/beginner/blitz/cifar10_tutorial.html) for tips to train a model on GPU. "
      ],
      "metadata": {
        "id": "yt4cKOUpQHaa"
      }
    },
    {
      "cell_type": "markdown",
      "source": [
        "Take a look at [here](https://github.com/kuangliu/pytorch-cifar) to see what somebig ConvNets did on CIFAR10 data.\n"
      ],
      "metadata": {
        "id": "19Q5-4Rzoa27"
      }
    },
    {
      "cell_type": "code",
      "source": [],
      "metadata": {
        "id": "SuN2Z9ELWf3u"
      },
      "execution_count": null,
      "outputs": []
    }
  ]
}
