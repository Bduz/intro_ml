{
  "cells": [
    {
      "cell_type": "markdown",
      "metadata": {
        "id": "view-in-github",
        "colab_type": "text"
      },
      "source": [
        "<a href=\"https://colab.research.google.com/github/Bduz/intro_ml/blob/main/intro_pytorch/Part_3_Training_Neural_Networks.ipynb\" target=\"_parent\"><img src=\"https://colab.research.google.com/assets/colab-badge.svg\" alt=\"Open In Colab\"/></a>"
      ]
    },
    {
      "cell_type": "markdown",
      "metadata": {
        "id": "fUTQqANrvLWL"
      },
      "source": [
        "# Training Neural Networks\n",
        "\n",
        "The network we built in the previous part isn't so smart, it doesn't know anything about our handwritten digits. Neural networks with non-linear activations work like universal function approximators. There is some function that maps your input to the output. For example, images of handwritten digits to class probabilities. The power of neural networks is that we can train them to approximate this function, and basically any function given enough data and compute time.\n",
        "\n",
        "<img src=\"https://drive.google.com/uc?id=1qZoqg8po7-k3K24pKXRj2dKyqquyIdIA\" width=500px>\n",
        "\n",
        "At first the network is naive, it doesn't know the function mapping the inputs to the outputs. We train the network by showing it examples of real data, then adjusting the network parameters such that it approximates this function.\n",
        "\n",
        "To find these parameters, we need to know how poorly the network is predicting the real outputs. For this we calculate a **loss function** (also called the cost), a measure of our prediction error. For example, the mean squared loss is often used in regression and binary classification problems\n",
        "\n",
        "$$\n",
        "\\ell = \\frac{1}{2n}\\sum_i^n{\\left(y_i - \\hat{y}_i\\right)^2}\n",
        "$$\n",
        "\n",
        "where $n$ is the number of training examples, $y_i$ are the true labels, and $\\hat{y}_i$ are the predicted labels.\n",
        "\n",
        "By minimizing this loss with respect to the network parameters, we can find configurations where the loss is at a minimum and the network is able to predict the correct labels with high accuracy. We find this minimum using a process called **gradient descent**. The gradient is the slope of the loss function and points in the direction of fastest change. To get to the minimum in the least amount of time, we then want to follow the gradient (downwards). You can think of this like descending a mountain by following the steepest slope to the base.\n",
        "\n",
        "<img src='https://drive.google.com/uc?id=1b7Vby5polFQSxwNaOHXFnIQnwjlU5Nza' width=350px>"
      ]
    },
    {
      "cell_type": "markdown",
      "metadata": {
        "id": "_aYQ9v8dvLWN"
      },
      "source": [
        "## Backpropagation\n",
        "\n",
        "For single layer networks, gradient descent is simple to implement. However, it's more complicated for deeper, multilayer neural networks like the one we've built. Complicated enough that it took about 30 years before researchers figured out how to train multilayer networks, although it's straightforward once you learn about it.\n",
        "\n",
        "This is done through **backpropagation** which is really just an application of the chain rule from calculus. It's easiest to understand if we convert a two layer network into a graph representation.\n",
        "\n",
        "<img src='https://drive.google.com/uc?id=14n0ENe-gSNfUGQeQbMrzIMDgq0-psXmp' width=400px>\n",
        "\n",
        "In the forward pass through the network, our data and operations go from right to left here. To train the weights with gradient descent, we propagate the gradient of the cost backwards through the network. Mathematically, this is really just calculating the gradient of the loss with respect to the weights using the chain rule.\n",
        "\n",
        "$$\n",
        "\\frac{\\partial \\ell}{\\partial w_1} = \\frac{\\partial l_1}{\\partial w_1} \\frac{\\partial s}{\\partial l_1} \\frac{\\partial l_2}{\\partial s} \\frac{\\partial \\ell}{\\partial l_2}\n",
        "$$\n",
        "\n",
        "We update our weights using this gradient with some learning rate $\\alpha$.\n",
        "\n",
        "$$\n",
        "w^\\prime = w - \\alpha \\frac{\\partial \\ell}{\\partial w}\n",
        "$$\n",
        "\n",
        "The learning rate is set such that the weight update steps are small enough that the iterative method settles in a minimum.\n",
        "\n",
        "The first thing we need to do for training is define our loss function. In PyTorch, you'll usually see this as `criterion`. Here we're using softmax output, so we want to use `criterion = nn.CrossEntropyLoss()` as our loss. Later when training, you use `loss = criterion(output, targets)` to calculate the actual loss.\n",
        "\n",
        "We also need to define the optimizer we're using, SGD or Adam, or something along those lines. Here I'll just use SGD with `torch.optim.SGD`, passing in the network parameters and the learning rate."
      ]
    },
    {
      "cell_type": "markdown",
      "metadata": {
        "id": "DYF4HiPHvLWO"
      },
      "source": [
        "## Autograd\n",
        "\n",
        "Torch provides a module, `autograd`, for automatically calculating the gradient of tensors. It does this by keeping track of operations performed on tensors. To make sure PyTorch keeps track of operations on a tensor and calculates the gradients, you need to set `requires_grad` on a tensor. You can do this at creation with the `requires_grad` keyword, or at any time with `x.requires_grad_(True)`.\n",
        "\n",
        "You can turn off gradients for a block of code with the `torch.no_grad()` content:\n",
        "```python\n",
        "x = torch.zeros(1, requires_grad=True)\n",
        ">>> with torch.no_grad():\n",
        "...     y = x * 2\n",
        ">>> y.requires_grad\n",
        "False\n",
        "```\n",
        "\n",
        "Also, you can turn on or off gradients altogether with `torch.set_grad_enabled(True|False)`.\n",
        "\n",
        "The gradients are computed with respect to some variable `z` with `z.backward()`. This does a backward pass through the operations that created `z`."
      ]
    },
    {
      "cell_type": "markdown",
      "metadata": {
        "id": "5zsE4xUQu9gK"
      },
      "source": [
        "First we clone the git repository, and add it to our path"
      ]
    },
    {
      "cell_type": "code",
      "execution_count": 1,
      "metadata": {
        "colab": {
          "base_uri": "https://localhost:8080/"
        },
        "id": "ixvbQl1vu9gK",
        "outputId": "01137378-e34b-4ed1-cd7c-c6c8a3a82c8d"
      },
      "outputs": [
        {
          "output_type": "stream",
          "name": "stdout",
          "text": [
            "Cloning into 'intro_ml'...\n",
            "remote: Enumerating objects: 433, done.\u001b[K\n",
            "remote: Counting objects: 100% (143/143), done.\u001b[K\n",
            "remote: Compressing objects: 100% (139/139), done.\u001b[K\n",
            "remote: Total 433 (delta 65), reused 0 (delta 0), pack-reused 290\u001b[K\n",
            "Receiving objects: 100% (433/433), 51.88 MiB | 42.36 MiB/s, done.\n",
            "Resolving deltas: 100% (211/211), done.\n"
          ]
        }
      ],
      "source": [
        "!git clone https://github.com/Bduz/intro_ml.git"
      ]
    },
    {
      "cell_type": "code",
      "execution_count": 2,
      "metadata": {
        "id": "p0jB5OFEu9gL"
      },
      "outputs": [],
      "source": [
        "import sys\n",
        "sys.path.insert(0, '/content/intro_ml/intro_pytorch/')"
      ]
    },
    {
      "cell_type": "code",
      "execution_count": 3,
      "metadata": {
        "id": "WDpnSMt-vLWP"
      },
      "outputs": [],
      "source": [
        "%matplotlib inline\n",
        "%config InlineBackend.figure_format = 'retina'\n",
        "\n",
        "from collections import OrderedDict\n",
        "\n",
        "import numpy as np\n",
        "import time\n",
        "\n",
        "import torch\n",
        "from torch import nn\n",
        "from torch import optim\n",
        "import torch.nn.functional as F\n",
        "\n",
        "import helperfuncs"
      ]
    },
    {
      "cell_type": "code",
      "execution_count": 4,
      "metadata": {
        "id": "BQ_izIUZvLWQ",
        "colab": {
          "base_uri": "https://localhost:8080/"
        },
        "outputId": "8f58c657-2d88-4942-d98d-e5f501c4576e"
      },
      "outputs": [
        {
          "output_type": "stream",
          "name": "stdout",
          "text": [
            "tensor([[-1.5772,  1.8014],\n",
            "        [ 0.7024, -0.3018]], requires_grad=True)\n"
          ]
        }
      ],
      "source": [
        "x = torch.randn(2,2, requires_grad=True)\n",
        "print(x)"
      ]
    },
    {
      "cell_type": "code",
      "execution_count": 5,
      "metadata": {
        "id": "0TmRwK16vLWR",
        "colab": {
          "base_uri": "https://localhost:8080/"
        },
        "outputId": "31308833-a14e-439e-f327-01b45ad8085f"
      },
      "outputs": [
        {
          "output_type": "stream",
          "name": "stdout",
          "text": [
            "tensor([[2.4875, 3.2449],\n",
            "        [0.4934, 0.0911]], grad_fn=<PowBackward0>)\n"
          ]
        }
      ],
      "source": [
        "y = x**2\n",
        "print(y)"
      ]
    },
    {
      "cell_type": "markdown",
      "metadata": {
        "id": "mhbLi8dJvLWR"
      },
      "source": [
        "Below we can see the operation that created `y`, a power operation `PowBackward0`."
      ]
    },
    {
      "cell_type": "code",
      "execution_count": 6,
      "metadata": {
        "id": "Goj_Ocp7vLWS",
        "colab": {
          "base_uri": "https://localhost:8080/"
        },
        "outputId": "10620724-7c66-4fe0-d73b-c9ae302673f6"
      },
      "outputs": [
        {
          "output_type": "stream",
          "name": "stdout",
          "text": [
            "<PowBackward0 object at 0x7872c98cffd0>\n"
          ]
        }
      ],
      "source": [
        "## grad_fn shows the function that generated this variable\n",
        "print(y.grad_fn)"
      ]
    },
    {
      "cell_type": "markdown",
      "metadata": {
        "id": "1I0l2pogvLWS"
      },
      "source": [
        "The autgrad module keeps track of these operations and knows how to calculate the gradient for each one. In this way, it's able to calculate the gradients for a chain of operations, with respect to any one tensor. Let's reduce the tensor `y` to a scalar value, the mean."
      ]
    },
    {
      "cell_type": "code",
      "execution_count": 7,
      "metadata": {
        "id": "Sfs8FSgovLWT",
        "colab": {
          "base_uri": "https://localhost:8080/"
        },
        "outputId": "c606f162-596d-4742-c181-7d8d59ffafa5"
      },
      "outputs": [
        {
          "output_type": "stream",
          "name": "stdout",
          "text": [
            "tensor(1.5792, grad_fn=<MeanBackward0>)\n"
          ]
        }
      ],
      "source": [
        "z = y.mean()\n",
        "print(z)"
      ]
    },
    {
      "cell_type": "markdown",
      "metadata": {
        "id": "lOpoVHPxvLWT"
      },
      "source": [
        "You can check the gradients for `x` and `y` but they are empty currently."
      ]
    },
    {
      "cell_type": "code",
      "execution_count": 8,
      "metadata": {
        "id": "3HbSb_ZjvLWU",
        "colab": {
          "base_uri": "https://localhost:8080/"
        },
        "outputId": "9a21fee2-846f-4c26-d485-2f6dd590c35f"
      },
      "outputs": [
        {
          "output_type": "stream",
          "name": "stdout",
          "text": [
            "None\n"
          ]
        }
      ],
      "source": [
        "print(x.grad)"
      ]
    },
    {
      "cell_type": "markdown",
      "metadata": {
        "id": "56Dp9cSbvLWU"
      },
      "source": [
        "To calculate the gradients, you need to run the `.backward` method on a Variable, `z` for example. This will calculate the gradient for `z` with respect to `x`\n",
        "\n",
        "$$\n",
        "\\frac{\\partial z}{\\partial x} = \\frac{\\partial}{\\partial x}\\left[\\frac{1}{n}\\sum_i^n x_i^2\\right] = \\frac{x}{2}\n",
        "$$"
      ]
    },
    {
      "cell_type": "code",
      "execution_count": 9,
      "metadata": {
        "id": "36w3-djDvLWU",
        "colab": {
          "base_uri": "https://localhost:8080/"
        },
        "outputId": "4836a87b-3ffa-44d6-b476-9176a47364ea"
      },
      "outputs": [
        {
          "output_type": "stream",
          "name": "stdout",
          "text": [
            "tensor([[-0.7886,  0.9007],\n",
            "        [ 0.3512, -0.1509]])\n",
            "tensor([[-0.7886,  0.9007],\n",
            "        [ 0.3512, -0.1509]], grad_fn=<DivBackward0>)\n"
          ]
        }
      ],
      "source": [
        "z.backward()\n",
        "print(x.grad)\n",
        "print(x/2)"
      ]
    },
    {
      "cell_type": "markdown",
      "metadata": {
        "id": "YklCLYaLvLWU"
      },
      "source": [
        "These gradients calculations are particularly useful for neural networks. For training we need the gradients of the weights with respect to the cost. With PyTorch, we run data forward through the network to calculate the cost, then, go backwards to calculate the gradients with respect to the cost. Once we have the gradients we can make a gradient descent step."
      ]
    },
    {
      "cell_type": "markdown",
      "metadata": {
        "id": "tmve4MIMvLWV"
      },
      "source": [
        "## Get the data and define the network\n",
        "\n",
        "The same as we saw in part 3, we'll load the MNIST dataset and define our network."
      ]
    },
    {
      "cell_type": "code",
      "execution_count": 10,
      "metadata": {
        "id": "_zFZD162vLWV",
        "colab": {
          "base_uri": "https://localhost:8080/"
        },
        "outputId": "3485a168-0c0a-40eb-adff-9bce3bb802ae"
      },
      "outputs": [
        {
          "output_type": "stream",
          "name": "stdout",
          "text": [
            "Downloading http://yann.lecun.com/exdb/mnist/train-images-idx3-ubyte.gz\n",
            "Downloading http://yann.lecun.com/exdb/mnist/train-images-idx3-ubyte.gz to MNIST_data/MNIST/raw/train-images-idx3-ubyte.gz\n"
          ]
        },
        {
          "output_type": "stream",
          "name": "stderr",
          "text": [
            "100%|██████████| 9912422/9912422 [00:00<00:00, 157575076.63it/s]"
          ]
        },
        {
          "output_type": "stream",
          "name": "stdout",
          "text": [
            "Extracting MNIST_data/MNIST/raw/train-images-idx3-ubyte.gz to MNIST_data/MNIST/raw\n"
          ]
        },
        {
          "output_type": "stream",
          "name": "stderr",
          "text": [
            "\n"
          ]
        },
        {
          "output_type": "stream",
          "name": "stdout",
          "text": [
            "\n",
            "Downloading http://yann.lecun.com/exdb/mnist/train-labels-idx1-ubyte.gz\n",
            "Downloading http://yann.lecun.com/exdb/mnist/train-labels-idx1-ubyte.gz to MNIST_data/MNIST/raw/train-labels-idx1-ubyte.gz\n"
          ]
        },
        {
          "output_type": "stream",
          "name": "stderr",
          "text": [
            "100%|██████████| 28881/28881 [00:00<00:00, 45902119.68it/s]\n"
          ]
        },
        {
          "output_type": "stream",
          "name": "stdout",
          "text": [
            "Extracting MNIST_data/MNIST/raw/train-labels-idx1-ubyte.gz to MNIST_data/MNIST/raw\n",
            "\n",
            "Downloading http://yann.lecun.com/exdb/mnist/t10k-images-idx3-ubyte.gz\n",
            "Downloading http://yann.lecun.com/exdb/mnist/t10k-images-idx3-ubyte.gz to MNIST_data/MNIST/raw/t10k-images-idx3-ubyte.gz\n"
          ]
        },
        {
          "output_type": "stream",
          "name": "stderr",
          "text": [
            "100%|██████████| 1648877/1648877 [00:00<00:00, 65372536.64it/s]"
          ]
        },
        {
          "output_type": "stream",
          "name": "stdout",
          "text": [
            "Extracting MNIST_data/MNIST/raw/t10k-images-idx3-ubyte.gz to MNIST_data/MNIST/raw\n",
            "\n",
            "Downloading http://yann.lecun.com/exdb/mnist/t10k-labels-idx1-ubyte.gz\n"
          ]
        },
        {
          "output_type": "stream",
          "name": "stderr",
          "text": [
            "\n"
          ]
        },
        {
          "output_type": "stream",
          "name": "stdout",
          "text": [
            "Downloading http://yann.lecun.com/exdb/mnist/t10k-labels-idx1-ubyte.gz to MNIST_data/MNIST/raw/t10k-labels-idx1-ubyte.gz\n"
          ]
        },
        {
          "output_type": "stream",
          "name": "stderr",
          "text": [
            "100%|██████████| 4542/4542 [00:00<00:00, 21772032.88it/s]\n"
          ]
        },
        {
          "output_type": "stream",
          "name": "stdout",
          "text": [
            "Extracting MNIST_data/MNIST/raw/t10k-labels-idx1-ubyte.gz to MNIST_data/MNIST/raw\n",
            "\n"
          ]
        }
      ],
      "source": [
        "from torchvision import datasets, transforms\n",
        "\n",
        "# Define a transform to normalize the data\n",
        "transform = transforms.Compose([transforms.ToTensor(),\n",
        "                              transforms.Normalize((0.5), (0.5)),\n",
        "                             ])\n",
        "# Download and load the training data\n",
        "trainset = datasets.MNIST('MNIST_data/', download=True, train=True, transform=transform)\n",
        "trainloader = torch.utils.data.DataLoader(trainset, batch_size=64, shuffle=True)"
      ]
    },
    {
      "cell_type": "markdown",
      "metadata": {
        "id": "W2kkmAwnvLWV"
      },
      "source": [
        "I'll build a network with `nn.Sequential` here. Only difference from the last part is I'm not actually using softmax on the output, but instead just using the raw output from the last layer. This is because the output from softmax is a probability distribution. Often, the output will have values really close to zero or really close to one. Due to [inaccuracies with representing numbers as floating points](https://docs.python.org/3/tutorial/floatingpoint.html), computations with a softmax output can lose accuracy and become unstable. To get around this, we'll use the raw output, called the **logits**, to calculate the loss."
      ]
    },
    {
      "cell_type": "code",
      "execution_count": 11,
      "metadata": {
        "id": "2ztuSDQovLWV"
      },
      "outputs": [],
      "source": [
        "# Hyperparameters for our network\n",
        "input_size = 784\n",
        "hidden_sizes = [128, 64]\n",
        "output_size = 10\n",
        "\n",
        "# Build a feed-forward network\n",
        "model = nn.Sequential(OrderedDict([\n",
        "                      ('fc1', nn.Linear(input_size, hidden_sizes[0])),\n",
        "                      ('relu1', nn.ReLU()),\n",
        "                      ('fc2', nn.Linear(hidden_sizes[0], hidden_sizes[1])),\n",
        "                      ('relu2', nn.ReLU()),\n",
        "                      ('logits', nn.Linear(hidden_sizes[1], output_size))]))"
      ]
    },
    {
      "cell_type": "markdown",
      "metadata": {
        "id": "wjt5VBsIvLWW"
      },
      "source": [
        "## Training the network!\n",
        "\n",
        "The first thing we need to do for training is define our loss function. In PyTorch, you'll usually see this as `criterion`. Here we're using softmax output, so we want to use `criterion = nn.CrossEntropyLoss()` as our loss. Later when training, you use `loss = criterion(output, targets)` to calculate the actual loss.\n",
        "\n",
        "We also need to define the optimizer we're using, SGD or Adam, or something along those lines. Here I'll just use SGD with `torch.optim.SGD`, passing in the network parameters and the learning rate."
      ]
    },
    {
      "cell_type": "code",
      "execution_count": 12,
      "metadata": {
        "id": "6RhDUl-dvLWW"
      },
      "outputs": [],
      "source": [
        "criterion = nn.CrossEntropyLoss()\n",
        "optimizer = optim.SGD(model.parameters(), lr=0.01)"
      ]
    },
    {
      "cell_type": "markdown",
      "metadata": {
        "id": "3KPAtHN6vLWW"
      },
      "source": [
        "First, let's consider just one learning step before looping through all the data. The general process with PyTorch:\n",
        "\n",
        "* Make a forward pass through the network to get the logits\n",
        "* Use the logits to calculate the loss\n",
        "* Perform a backward pass through the network with `loss.backward()` to calculate the gradients\n",
        "* Take a step with the optimizer to update the weights\n",
        "\n",
        "Below I'll go through one training step and print out the weights and gradients so you can see how it changes."
      ]
    },
    {
      "cell_type": "code",
      "execution_count": 13,
      "metadata": {
        "id": "nWsVjm9svLWW",
        "colab": {
          "base_uri": "https://localhost:8080/"
        },
        "outputId": "4ab2aeab-b130-48de-ea71-12beb3f8ba60"
      },
      "outputs": [
        {
          "output_type": "stream",
          "name": "stdout",
          "text": [
            "Initial weights -  Parameter containing:\n",
            "tensor([[ 0.0189,  0.0335,  0.0225,  ..., -0.0224,  0.0074,  0.0061],\n",
            "        [-0.0036,  0.0034,  0.0043,  ..., -0.0348, -0.0182, -0.0085],\n",
            "        [-0.0079, -0.0208,  0.0069,  ..., -0.0048,  0.0189,  0.0280],\n",
            "        ...,\n",
            "        [-0.0133, -0.0289, -0.0298,  ...,  0.0130,  0.0222, -0.0094],\n",
            "        [-0.0309, -0.0101,  0.0324,  ..., -0.0284, -0.0319, -0.0352],\n",
            "        [-0.0306,  0.0145, -0.0156,  ...,  0.0092, -0.0123, -0.0031]],\n",
            "       requires_grad=True)\n",
            "Gradient - tensor([[-0.0015, -0.0015, -0.0015,  ..., -0.0015, -0.0015, -0.0015],\n",
            "        [-0.0024, -0.0024, -0.0024,  ..., -0.0024, -0.0024, -0.0024],\n",
            "        [-0.0013, -0.0013, -0.0013,  ..., -0.0013, -0.0013, -0.0013],\n",
            "        ...,\n",
            "        [ 0.0003,  0.0003,  0.0003,  ...,  0.0003,  0.0003,  0.0003],\n",
            "        [ 0.0018,  0.0018,  0.0018,  ...,  0.0018,  0.0018,  0.0018],\n",
            "        [ 0.0014,  0.0014,  0.0014,  ...,  0.0014,  0.0014,  0.0014]])\n"
          ]
        }
      ],
      "source": [
        "print('Initial weights - ', model.fc1.weight)\n",
        "\n",
        "images, labels = next(iter(trainloader))\n",
        "images.resize_(64, 784)\n",
        "\n",
        "# Clear the gradients, do this because gradients are accumulated\n",
        "optimizer.zero_grad()\n",
        "\n",
        "# Forward pass, then backward pass, then update weights\n",
        "output = model.forward(images)\n",
        "loss = criterion(output, labels)\n",
        "loss.backward()\n",
        "print('Gradient -', model.fc1.weight.grad)\n",
        "optimizer.step()"
      ]
    },
    {
      "cell_type": "code",
      "execution_count": 14,
      "metadata": {
        "id": "Tuo5k9p-vLWX",
        "colab": {
          "base_uri": "https://localhost:8080/"
        },
        "outputId": "9d179c18-60df-447b-a162-09101e5d4126"
      },
      "outputs": [
        {
          "output_type": "stream",
          "name": "stdout",
          "text": [
            "Updated weights -  Parameter containing:\n",
            "tensor([[ 0.0189,  0.0335,  0.0225,  ..., -0.0224,  0.0074,  0.0061],\n",
            "        [-0.0035,  0.0034,  0.0044,  ..., -0.0348, -0.0182, -0.0085],\n",
            "        [-0.0079, -0.0207,  0.0069,  ..., -0.0048,  0.0189,  0.0280],\n",
            "        ...,\n",
            "        [-0.0133, -0.0289, -0.0298,  ...,  0.0130,  0.0222, -0.0094],\n",
            "        [-0.0309, -0.0102,  0.0324,  ..., -0.0284, -0.0319, -0.0352],\n",
            "        [-0.0306,  0.0145, -0.0156,  ...,  0.0091, -0.0123, -0.0031]],\n",
            "       requires_grad=True)\n"
          ]
        }
      ],
      "source": [
        "print('Updated weights - ', model.fc1.weight)"
      ]
    },
    {
      "cell_type": "markdown",
      "metadata": {
        "id": "SK4gY8umvLWX"
      },
      "source": [
        "### Training for real\n",
        "\n",
        "Now we'll put this algorithm into a loop so we can go through all the images. This is fairly straightforward. We'll loop through the mini-batches in our dataset, pass the data through the network to calculate the losses, get the gradients, then run the optimizer."
      ]
    },
    {
      "cell_type": "code",
      "execution_count": 15,
      "metadata": {
        "id": "ESMsTCqEvLWX"
      },
      "outputs": [],
      "source": [
        "optimizer = optim.SGD(model.parameters(), lr=0.003)"
      ]
    },
    {
      "cell_type": "code",
      "execution_count": 16,
      "metadata": {
        "id": "rxG7Xw7-vLWX",
        "colab": {
          "base_uri": "https://localhost:8080/"
        },
        "outputId": "5cf797e2-50fb-48f4-89be-8f55d492b12e"
      },
      "outputs": [
        {
          "output_type": "stream",
          "name": "stdout",
          "text": [
            "Epoch: 1/3...  Loss: 2.2993\n",
            "Epoch: 1/3...  Loss: 2.2844\n",
            "Epoch: 1/3...  Loss: 2.2743\n",
            "Epoch: 1/3...  Loss: 2.2543\n",
            "Epoch: 1/3...  Loss: 2.2390\n",
            "Epoch: 1/3...  Loss: 2.2193\n",
            "Epoch: 1/3...  Loss: 2.1946\n",
            "Epoch: 1/3...  Loss: 2.1777\n",
            "Epoch: 1/3...  Loss: 2.1470\n",
            "Epoch: 1/3...  Loss: 2.1182\n",
            "Epoch: 1/3...  Loss: 2.0880\n",
            "Epoch: 1/3...  Loss: 2.0454\n",
            "Epoch: 1/3...  Loss: 2.0150\n",
            "Epoch: 1/3...  Loss: 1.9681\n",
            "Epoch: 1/3...  Loss: 1.9219\n",
            "Epoch: 1/3...  Loss: 1.8673\n",
            "Epoch: 1/3...  Loss: 1.8219\n",
            "Epoch: 1/3...  Loss: 1.7561\n",
            "Epoch: 1/3...  Loss: 1.6902\n",
            "Epoch: 1/3...  Loss: 1.6198\n",
            "Epoch: 1/3...  Loss: 1.5577\n",
            "Epoch: 1/3...  Loss: 1.4967\n",
            "Epoch: 1/3...  Loss: 1.4297\n",
            "Epoch: 2/3...  Loss: 0.7337\n",
            "Epoch: 2/3...  Loss: 1.3050\n",
            "Epoch: 2/3...  Loss: 1.2288\n",
            "Epoch: 2/3...  Loss: 1.1736\n",
            "Epoch: 2/3...  Loss: 1.1166\n",
            "Epoch: 2/3...  Loss: 1.0604\n",
            "Epoch: 2/3...  Loss: 1.0209\n",
            "Epoch: 2/3...  Loss: 0.9840\n",
            "Epoch: 2/3...  Loss: 0.9315\n",
            "Epoch: 2/3...  Loss: 0.8964\n",
            "Epoch: 2/3...  Loss: 0.8522\n",
            "Epoch: 2/3...  Loss: 0.8455\n",
            "Epoch: 2/3...  Loss: 0.8169\n",
            "Epoch: 2/3...  Loss: 0.7758\n",
            "Epoch: 2/3...  Loss: 0.7669\n",
            "Epoch: 2/3...  Loss: 0.7262\n",
            "Epoch: 2/3...  Loss: 0.7231\n",
            "Epoch: 2/3...  Loss: 0.6954\n",
            "Epoch: 2/3...  Loss: 0.6754\n",
            "Epoch: 2/3...  Loss: 0.6588\n",
            "Epoch: 2/3...  Loss: 0.6572\n",
            "Epoch: 2/3...  Loss: 0.6442\n",
            "Epoch: 2/3...  Loss: 0.6000\n",
            "Epoch: 3/3...  Loss: 0.0631\n",
            "Epoch: 3/3...  Loss: 0.6057\n",
            "Epoch: 3/3...  Loss: 0.5812\n",
            "Epoch: 3/3...  Loss: 0.5767\n",
            "Epoch: 3/3...  Loss: 0.5481\n",
            "Epoch: 3/3...  Loss: 0.5433\n",
            "Epoch: 3/3...  Loss: 0.5734\n",
            "Epoch: 3/3...  Loss: 0.5235\n",
            "Epoch: 3/3...  Loss: 0.5325\n",
            "Epoch: 3/3...  Loss: 0.5437\n",
            "Epoch: 3/3...  Loss: 0.5125\n",
            "Epoch: 3/3...  Loss: 0.5449\n",
            "Epoch: 3/3...  Loss: 0.5307\n",
            "Epoch: 3/3...  Loss: 0.4898\n",
            "Epoch: 3/3...  Loss: 0.5018\n",
            "Epoch: 3/3...  Loss: 0.5254\n",
            "Epoch: 3/3...  Loss: 0.5126\n",
            "Epoch: 3/3...  Loss: 0.4942\n",
            "Epoch: 3/3...  Loss: 0.4909\n",
            "Epoch: 3/3...  Loss: 0.4696\n",
            "Epoch: 3/3...  Loss: 0.4823\n",
            "Epoch: 3/3...  Loss: 0.4712\n",
            "Epoch: 3/3...  Loss: 0.4952\n",
            "Epoch: 3/3...  Loss: 0.4559\n"
          ]
        }
      ],
      "source": [
        "epochs = 3\n",
        "print_every = 40\n",
        "steps = 0\n",
        "for e in range(epochs):\n",
        "    running_loss = 0\n",
        "    for images, labels in iter(trainloader):\n",
        "        steps += 1\n",
        "        # Flatten MNIST images into a 784 long vector\n",
        "        images.resize_(images.size()[0], 784)\n",
        "\n",
        "        optimizer.zero_grad()\n",
        "\n",
        "        # Forward and backward passes\n",
        "        output = model.forward(images)\n",
        "        loss = criterion(output, labels)\n",
        "        loss.backward()\n",
        "        optimizer.step()\n",
        "\n",
        "        running_loss += loss.item()\n",
        "\n",
        "        if steps % print_every == 0:\n",
        "            print(\"Epoch: {}/{}... \".format(e+1, epochs),\n",
        "                  \"Loss: {:.4f}\".format(running_loss/print_every))\n",
        "\n",
        "            running_loss = 0"
      ]
    },
    {
      "cell_type": "markdown",
      "metadata": {
        "id": "bGqlckQ7vLWY"
      },
      "source": [
        "With the network trained, we can check out it's predictions."
      ]
    },
    {
      "cell_type": "code",
      "execution_count": 17,
      "metadata": {
        "id": "wBCHXnncvLWY",
        "colab": {
          "base_uri": "https://localhost:8080/",
          "height": 344
        },
        "outputId": "b68729b7-fa4d-40a3-9470-4baa5f3f1e6c"
      },
      "outputs": [
        {
          "output_type": "display_data",
          "data": {
            "text/plain": [
              "<Figure size 600x900 with 2 Axes>"
            ],
            "image/png": "[encoded data removed]"
          },
          "metadata": {
            "image/png": {
              "width": 589,
              "height": 327
            }
          }
        }
      ],
      "source": [
        "images, labels = next(iter(trainloader))\n",
        "\n",
        "img = images[0].view(1, 784)\n",
        "# Turn off gradients to speed up this part\n",
        "with torch.no_grad():\n",
        "    logits = model.forward(img)\n",
        "\n",
        "# Output of the network are logits, need to take softmax for probabilities\n",
        "ps = F.softmax(logits, dim=1)\n",
        "helperfuncs.view_classify(img.view(1, 28, 28), ps)"
      ]
    },
    {
      "cell_type": "markdown",
      "metadata": {
        "id": "mLbaIWPJvLWY"
      },
      "source": [
        "Now our network is brilliant. It can accurately predict the digits in our images. Next up you'll write the code for training a neural network on a more complex dataset."
      ]
    }
  ],
  "metadata": {
    "colab": {
      "provenance": [],
      "include_colab_link": true
    },
    "kernelspec": {
      "display_name": "drlnd",
      "language": "python",
      "name": "drlnd"
    },
    "language_info": {
      "codemirror_mode": {
        "name": "ipython",
        "version": 3
      },
      "file_extension": ".py",
      "mimetype": "text/x-python",
      "name": "python",
      "nbconvert_exporter": "python",
      "pygments_lexer": "ipython3",
      "version": "3.6.13"
    }
  },
  "nbformat": 4,
  "nbformat_minor": 0
}