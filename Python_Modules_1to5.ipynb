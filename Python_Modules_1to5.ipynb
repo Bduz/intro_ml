{
  "nbformat": 4,
  "nbformat_minor": 0,
  "metadata": {
    "colab": {
      "provenance": [],
      "authorship_tag": "ABX9TyOvwEoMuYmLSteBE3efR1V6",
      "include_colab_link": true
    },
    "kernelspec": {
      "name": "python3",
      "display_name": "Python 3"
    },
    "language_info": {
      "name": "python"
    }
  },
  "cells": [
    {
      "cell_type": "markdown",
      "metadata": {
        "id": "view-in-github",
        "colab_type": "text"
      },
      "source": [
        "<a href=\"https://colab.research.google.com/github/Bduz/intro_ml/blob/main/Python_Modules_1to5.ipynb\" target=\"_parent\"><img src=\"https://colab.research.google.com/assets/colab-badge.svg\" alt=\"Open In Colab\"/></a>"
      ]
    },
    {
      "cell_type": "markdown",
      "source": [
        "# Pyhton Programming Language"
      ],
      "metadata": {
        "id": "5Im3XAIEZzU0"
      }
    },
    {
      "cell_type": "markdown",
      "source": [
        "\n",
        "\n",
        "1.   Introduction\n",
        "2.   Elementary data types\n",
        "3.   Elementary statements\n",
        "4.   Lists, Strings and Tuples\n",
        "5.   Dictionaries, Sets and Frozensets\n",
        "6.   Files\n",
        "7.   Functions\n",
        "8.   Modules\n",
        "9.   Introduction to classes\n",
        "10.  Python classes\n",
        "11.  Exceptions\n",
        "12.  Python Standard Library\n",
        "\n"
      ],
      "metadata": {
        "id": "LaQzCZfaZ3MT"
      }
    },
    {
      "cell_type": "markdown",
      "source": [
        "Before we start ...\n",
        "\n",
        "This introduction to Python is not covering all topics you could find in a programming course but,\n",
        "\n",
        "it includes the basic necessary concepts. Read more and practice!\n",
        "\n",
        "*   If you are an experienced Python user, be patient, things will get more complicated later...\n",
        "*   If you are not, no worries, we start from the really beginning ...\n"
      ],
      "metadata": {
        "id": "pZTXrrbqi9fl"
      }
    },
    {
      "cell_type": "markdown",
      "source": [
        "## 1. Introduction"
      ],
      "metadata": {
        "id": "TCmdOFx8jeYq"
      }
    },
    {
      "cell_type": "markdown",
      "source": [
        "\n",
        "\n",
        "---\n",
        "\n",
        "### Python's Properties\n",
        "\n",
        "*   object oriented\n",
        "*   portable\n",
        "*   powerful\n",
        "*   easy to use\n",
        "*   easy to learn\n",
        "*   open source (obtain and distribute freely)\n",
        "*   not fast\n",
        "*   can be mixed with other languages\n",
        "*   available for UNIX, MS Windows, MAC OS/X, Raspberry Pi\n",
        "*   multi-paradigm: procedural, object-oriented and functional programming\n",
        "\n",
        "<br>\n",
        "\n",
        "General:        www.python.org  \n",
        "Documentation:  https://docs.python.org\n",
        "\n",
        "---\n",
        "\n"
      ],
      "metadata": {
        "id": "FyeogJLyrxzM"
      }
    },
    {
      "cell_type": "markdown",
      "source": [
        "\n",
        "---\n",
        "### Applications\n",
        "\n",
        "*   System management scripts\n",
        "*   GUI\n",
        "*   Internet scripting\n",
        "*   Database programming\n",
        "*   Prototyping\n",
        "*   Production-ready software development\n",
        "\n",
        "<br>\n",
        "\n",
        "### Famous Applications\n",
        "\n",
        "\n",
        "*   Youtube\n",
        "*   Dropbox\n",
        "*   Spotify\n",
        "*   Instagram\n",
        "*   Quora\n",
        "*   Pinterest\n",
        "*   parts of Google\n",
        "*   ...\n",
        "\n",
        "<br>\n",
        "\n",
        "### Component integration\n",
        "*   Python Standard Library\n",
        "*   Python Package Index (https://pypi.org)\n",
        "---"
      ],
      "metadata": {
        "id": "TP4lxKtbuLfj"
      }
    },
    {
      "cell_type": "markdown",
      "source": [
        "\n",
        "\n",
        "---\n",
        "### Installation\n",
        "\n",
        "\n",
        "1.   Via python.org\n",
        "\n",
        "\n",
        "> *   Install python from www.python.org/downloads/\n",
        "> *   Use **pip** (package installer for python) to install packages\n",
        "\n",
        "\n",
        "2.   Via anaconda.com\n",
        "\n",
        "> *   Install **anaconda** from www.anaconda.com/products/distribution\n",
        "> *   Use **conda** to install packages (**pip** can also be used here, but **conda** is recommended)\n",
        "---\n",
        "\n"
      ],
      "metadata": {
        "id": "xYsl78tzhiK7"
      }
    },
    {
      "cell_type": "markdown",
      "source": [
        "---\n",
        "### Generation and execution of a Python program\n",
        "On MS Windows\n",
        "*   Use a text editor to generate the source file **helloworld.py**\n",
        "*   Execute the code\n",
        " - click on icon or type in command box `> python helloworld.py`\n",
        "\n",
        "Interactive startup of Python interpreter: python shell\n",
        "\n",
        "```\n",
        "$ python\n",
        "Python 3.7.4 (default, Aug  9 2019, 18:34:13) [MSC v.1915 64 bit (AMD64)] :: Anaconda, Inc. on win32\n",
        "Type \"help\", \"copyright\", \"credits\" or \"license\" for more information.\n",
        ">>>\n",
        "```\n",
        "Enter Python command behind prompt `>>>`\n",
        "\n",
        "```\n",
        ">>> print('Hello World!')\n",
        "Hello World!\n",
        ">>> x = 2\n",
        ">>> print(x)\n",
        "2\n",
        "```\n",
        "\n",
        "<br>\n",
        "\n",
        "During the development phase of a program, usually an Integrated Development Environment (IDE) is used. IDE keeps track of the entire project with many source files. The source files can be edited and executed using the IDE.\n",
        "\n",
        "Several IDEs are available for python:\n",
        "*   IDLE - https://docs.python.org/3/library/idle.html\n",
        "*   Spyder - https://www.spyder-ide.org\n",
        "*   PyCharm - https://www.jetbrains.com/pycharm/\n",
        "*   Visual Studio Code - https://code.visualstudio.com\n",
        "\n",
        "<br>\n",
        "\n",
        "There is also a web-based interactive development environment:\n",
        "*   Jupyter - https://jupyter.org\n",
        "*   Google Colab - https://colab.research.google.com    \n",
        "Note: Colab notebooks are Jupyter notebooks that are hosted by Colab.\n",
        "\n",
        "---"
      ],
      "metadata": {
        "id": "F82Ozp9b4oGp"
      }
    },
    {
      "cell_type": "markdown",
      "source": [
        "---\n",
        "### Python compilation\n",
        "\n",
        "---"
      ],
      "metadata": {
        "id": "ZcQGwv6u4s24"
      }
    },
    {
      "cell_type": "markdown",
      "source": [
        "## 2. Elementary data types\n",
        "\n",
        "\n"
      ],
      "metadata": {
        "id": "6IJl1mylTGEx"
      }
    },
    {
      "cell_type": "markdown",
      "source": [
        "---\n",
        "### Data types\n",
        "\n",
        "*   All values have a *type*\n",
        "\n",
        "\n",
        "<br>\n",
        "\n",
        "Type  | Example | Property\n",
        "-------------------|------------------ |------------------\n",
        "Number       |**3.1415,  1526, 3+4j**     | Immutable\n",
        "Text (String)       | **'Hello'**, **\"Guido's\"**      | Immutable\n",
        "Data (byte)      |**b'Hello', b'\\x00\\xff'**      |  Immutable\n",
        "List      |  **[3, 5, 'Ali']**     |  Mutable\n",
        "Tuple      | **(7, 8, 'U')**     |  Immutable\n",
        "Dictionary      | **{'Tom': 5, 'Jerry': 8}**      |   Mutable\n",
        "Set      | **set([4, 7, 11])**      |   Mutable\n",
        "Boolean      | **True**, **False**    |   Immutable\n",
        "NoneType      | **None**      |\n",
        "File      |  **f = open('myfile.txt', 'r')**     |\n",
        "\n",
        "<br>\n",
        "        \n",
        "\n",
        "*   *Type* determined by *value*, hence Python is a **dynamically-typed language**\n",
        "\n",
        "```\n",
        "b = 5            # now b is number\n",
        "b = \"Hello\"      # now b is string\n",
        "print(type(b))   # this will print <class 'str'>\n",
        "```\n",
        "---"
      ],
      "metadata": {
        "id": "pEqU9OGR4s54"
      }
    },
    {
      "cell_type": "markdown",
      "source": [
        "---\n",
        "### Numbers\n",
        "\n",
        "*   Integers  \n",
        "  **-25, 9, 112355655223556625**\n",
        "*   Floats  \n",
        "  **6.2543, 3.89e-23, 4E6**\n",
        "*   Complex numbers  \n",
        "  **4+2j, 2.1+5.8j, 6j**\n",
        "\n",
        "\n",
        "---"
      ],
      "metadata": {
        "id": "nyErujj74s9Y"
      }
    },
    {
      "cell_type": "markdown",
      "source": [
        "---\n",
        "### Operators\n",
        "Most operators behave as expected...\n",
        "\n",
        "\n",
        "*   division:   `a / b`\n",
        "```\n",
        "                                    11.0 / 3.0  =  3.66666...\n",
        "                                    11   / 3    =  3.66666...\n",
        "```\n",
        "*  floor division:   `a // b`\n",
        "```\n",
        "                                    11.0 // 3.0  =  3.0\n",
        "                                    11   // 3    =  3\n",
        "```\n",
        "*   modulo:   `a % b`\n",
        "```\n",
        "                                    11.0 % 3.0  =  2.0\n",
        "                                    11   % 3    =  2\n",
        "```\n",
        "*   exponentiation:   `a ** b`\n",
        "```\n",
        "                                    11.0 ** 3.0  =  1331.0\n",
        "                                    11   ** 3    =  1331\n",
        "```\n",
        "\n",
        "*   addition, subtraction, multiplication:\n",
        "```\n",
        "                                    1.0 + 4.0 = 5.0\n",
        "                                    5.0 - 1.0 = 4.0\n",
        "                                    5 * 3     = 15\n",
        "```\n",
        "\n",
        "---"
      ],
      "metadata": {
        "id": "-X79etQzcjYp"
      }
    },
    {
      "cell_type": "markdown",
      "source": [
        "---\n",
        "### Assignment Operators\n",
        "\n",
        "\n",
        "\n",
        "*   assign values to variables\n",
        "```\n",
        "                     b  = 5           \n",
        "                     b += 4            # b is now 9\n",
        "                     b *= 3            # b is now 27\n",
        "```\n",
        "\n",
        "*   similar:\n",
        "```\n",
        "                    +=   -=   **=    /=   //=   %=\n",
        "                    &=   |=    ^=   <<=   >>=\n",
        "```\n",
        "\n",
        "*   in general\n",
        "```\n",
        "                    c[7] += 15 instead of c[7] = c[7] + 15\n",
        "```\n",
        "is faster  \n",
        "is more readable                    \n",
        "---"
      ],
      "metadata": {
        "id": "YD4CCHUFoJKv"
      }
    },
    {
      "cell_type": "markdown",
      "source": [
        "---\n",
        "### Logical Operators\n",
        "\n",
        "\n",
        "*   Logical operators: **and**, **or**, **not**\n",
        "```\n",
        "                     expr1 and expr2          # returns True if both statements are True         \n",
        "                     expr1 or expr2           # returns True if at least one statement is True\n",
        "                     not expr1                # reverses the result\n",
        "```\n",
        "\n",
        "*   *expr2* only calculated if needed\n",
        "\n",
        "<br>\n",
        "\n",
        "### Comparisons\n",
        "\n",
        "*   Equal to, unequal to: &emsp;&emsp;&emsp;&ensp;`if a == b:` &emsp;&emsp;&emsp; `if a != b`\n",
        "*   Reference to same object: &emsp;`if a is b:` &emsp;&emsp;&emsp; `if a is not b`\n",
        "*   Combi comparison:  &emsp;&emsp;&emsp;&ensp; `if a < b and d <= e and r > f:`\n",
        "---"
      ],
      "metadata": {
        "id": "hdhsaceYoKUZ"
      }
    },
    {
      "cell_type": "markdown",
      "source": [
        "## 3. Elemantary Statements"
      ],
      "metadata": {
        "id": "EkdWdP1bhkoy"
      }
    },
    {
      "cell_type": "markdown",
      "source": [
        "---\n",
        "### Program structures\n",
        "\n",
        "\n",
        "*   Statements are executed one by one\n",
        "*   End of statement: end of line or **;**\n",
        "*   Construction between brackets **( ) [ ] { }** can be multiline, otherwise use **\\ Enter**\n",
        "\n",
        "```\n",
        "           verylongvariable = (1 + 2 + 3 +\n",
        "                               5 + 6 + 7 + 8)\n",
        "           verylongvariable = 1 + 2 + 3 + \\ Enter\n",
        "                              5 + 6 + 7 + 8                    \n",
        "```\n",
        "\n",
        "<br>\n",
        "\n",
        "Change flow of program:   \n",
        "*   **if-else**    \n",
        "*   **for-else**\n",
        "*   **while-else**\n",
        "*   **break** or **continue**\n",
        "*   **pass**\n",
        "*   **try-except-else-finally**\n",
        "---"
      ],
      "metadata": {
        "id": "35zg0DL9oK0_"
      }
    },
    {
      "cell_type": "markdown",
      "source": [
        "---\n",
        "### Block structures\n",
        "\n",
        "*   Visual indication is the only indication (also for compiler)\n",
        "*   No confusion possible\n",
        "\n",
        "```\n",
        "if condition1:                    if condition1:\n",
        "    if condition2:                    if condition2:\n",
        "        statement1                        statement1\n",
        "else:                                 else:\n",
        "    statement2                            statement2\n",
        "```\n",
        "\n",
        "\n",
        "*   Use spaces for indentation\n",
        "---"
      ],
      "metadata": {
        "id": "80DqkiA5oLKn"
      }
    },
    {
      "cell_type": "markdown",
      "source": [
        "---\n",
        "### Coding style\n",
        "\n",
        "Style guide for Pyhton Code is PEP8\n",
        "*   comment: &emsp;&emsp;&emsp;&emsp;&emsp; `# this is comment`     \n",
        "*   indentation: &emsp;&emsp;&emsp;&emsp;&ensp; 4 spaces\n",
        "*   line length: &emsp;&emsp;&emsp; &emsp;&ensp; maximum 79 characters\n",
        "*   names:&emsp;&emsp;&emsp;&emsp;&emsp;&emsp;&ensp;  **[A-Za-z_][A-Za-z0-9_]***\n",
        " *   case-sensitive\n",
        " *   naming conventions  \n",
        "     *  functions:&emsp;&emsp;&emsp;&emsp;&emsp;&nbsp;lower case or digits only\n",
        "     *  global variables: &emsp;&emsp;&nbsp;lower case or digits only, however capitals when used as constant (**MAXBUF=256**)\n",
        "     *  package/module: &emsp;&ensp;&nbsp;lower case or digits only\n",
        "     *  class: &emsp;&emsp;&emsp;&emsp;&emsp;&emsp;&emsp;**CapWords**\n",
        "---"
      ],
      "metadata": {
        "id": "cdUSZMm-oLcX"
      }
    },
    {
      "cell_type": "markdown",
      "source": [
        "---\n",
        "### Statement **if**\n",
        "*  General format\n",
        "\n",
        "```\n",
        "     if condition1:                    \n",
        "         statement1\n",
        "     elif condition2:\n",
        "         statement2                         \n",
        "     else:                               \n",
        "         statement3                        \n",
        "```\n",
        "\n",
        "<br>\n",
        "\n",
        "*   **elif** and **else** optional\n",
        "*   **if** statements cannot be empty, put in the **pass** statement to avoid getting an error\n",
        "\n",
        "```\n",
        "     if b > a:\n",
        "         pass\n",
        "```\n",
        "\n",
        "*  example:\n",
        "\n",
        "```\n",
        "     if x < 0:                    \n",
        "         print(\"x is negative\")\n",
        "     elif x > 0:\n",
        "         print(\"x is positive\")                         \n",
        "     else:                               \n",
        "         print(\"x is zero\")\n",
        "```\n",
        "---"
      ],
      "metadata": {
        "id": "1_5VyHUwoLs5"
      }
    },
    {
      "cell_type": "markdown",
      "source": [
        "---\n",
        "### Statement **while**\n",
        "*  General format\n",
        "\n",
        "```\n",
        "     while condition:                    \n",
        "         statement1\n",
        "     else:                               \n",
        "         statement2                        \n",
        "```\n",
        "\n",
        "<br>\n",
        "\n",
        "*   **else** optional (executed once after end of **while** loop)\n",
        "*  example:\n",
        "\n",
        "```\n",
        "     n = 5\n",
        "\n",
        "     while n >= 0:                    \n",
        "         print(\"n is non-negative\")\n",
        "         n -= 1\n",
        "     else:                               \n",
        "         print(\"n is negative\")\n",
        "```\n",
        "---"
      ],
      "metadata": {
        "id": "SxU3GPCvoL8_"
      }
    },
    {
      "cell_type": "markdown",
      "source": [
        "---\n",
        "### Statement **for**\n",
        "*  Loop through elements in a sequence\n",
        "*  General format\n",
        "\n",
        "```\n",
        "     for elem in sequence:                    \n",
        "         statement1\n",
        "     else:                               \n",
        "         statement2                        \n",
        "```\n",
        "\n",
        "<br>\n",
        "\n",
        "*   **else** optional (executed once after end of **for** loop)\n",
        "*  example:\n",
        "\n",
        "```\n",
        "     b = [1, 3, 5, 7]\n",
        "\n",
        "     for e in b:                    \n",
        "         print(e, end=' ')      # output: 1 3 5 7\n",
        "```\n",
        "---"
      ],
      "metadata": {
        "id": "nj66RTAjoMMP"
      }
    },
    {
      "cell_type": "markdown",
      "source": [
        "---\n",
        "### Statement **for** (2)\n",
        "*  Iterator **range()**: generate series of numbers\n",
        "\n",
        "```\n",
        "     for n in range(5):                    \n",
        "         print(n, end=' - ')      # output: 0 - 1 - 2 - 3 - 4 -                       \n",
        "```\n",
        "\n",
        "*   possible calls:\n",
        "\n",
        "```\n",
        "     range(6)               # numbers from 0 till 6 (excluding 6)\n",
        "     range(1, 11)           # numbers from 1 till 11 (excluding 11)\n",
        "     range(3, 20, 5)        # numbers from 3 till 20 with the interval of 5 (3, 8, 13, 18)\n",
        "     range(5, 0, -1)        # numbers 5, 4, 3, 2, 1               \n",
        "```\n",
        "\n",
        "*   Iterator **enumerate()**: generate element number for every value in a  sequence\n",
        "\n",
        "```\n",
        "     names = ['ian', 'peter', 'mary']\n",
        "\n",
        "     for num, person in enumerate(names):                    \n",
        "         print(num, person)      # output: 0 ian\n",
        "                                           1 peter\n",
        "                                           2 mary\n",
        "```\n",
        "---"
      ],
      "metadata": {
        "id": "IDI2VKsooMa4"
      }
    },
    {
      "cell_type": "markdown",
      "source": [
        "---\n",
        "### Statements **break** and **continue**\n",
        "\n",
        "*   Jump out of the loop (closest enclosing): **break**\n",
        "\n",
        "```\n",
        "     names = ['eric', 'mary', 'john', 'ann']\n",
        "     search = input('Give name: ')\n",
        "\n",
        "     for persnum, persname in enumerate(names):                    \n",
        "         if persname == search:\n",
        "             print(search, 'has number', persnum)\n",
        "             break\n",
        "     else:\n",
        "         print(search, 'not found!')        \n",
        "```\n",
        "\n",
        "*   Jump to the top of the loop (closest enclosing): **continue**\n",
        "\n",
        "```\n",
        "     tot = 0\n",
        "\n",
        "     for num in range(1, 101):                    \n",
        "         if num % 13 == 0:\n",
        "             continue\n",
        "         tot += num\n",
        "\n",
        "     print(tot)        \n",
        "```\n",
        "\n",
        "---"
      ],
      "metadata": {
        "id": "log9Pv-voMp-"
      }
    },
    {
      "cell_type": "markdown",
      "source": [
        "---\n",
        "### Statement **pass**\n",
        "\n",
        "At some locations in your code, a statement is mandatory.\n",
        "While there is nothing to do...\n",
        "\n",
        "*   dummy statement **pass**\n",
        "\n",
        "```\n",
        "     thing = True\n",
        "     if thing:\n",
        "         print (\"that thing is true\")\n",
        "     else:\n",
        "         pass    # I will decide later what to do here\n",
        "```\n",
        "\n",
        "---"
      ],
      "metadata": {
        "id": "asT5ZIAsNPZ8"
      }
    },
    {
      "cell_type": "markdown",
      "source": [
        "---\n",
        "### Exceptions\n",
        "Pyhton is strict\n",
        "```\n",
        "     i = 5\n",
        "     j = 0\n",
        "     print(i / j)\n",
        "     Traceback (most recent call last):\n",
        "     ZeroDivisionErrror: division by zero\n",
        "```\n",
        "Program execution stops...\n",
        "\n",
        "*   test on beforehand? &emsp;&emsp;&emsp;&emsp;&emsp;&emsp;&emsp;   no, then tests are performed twice\n",
        "*   catch and recover exceptions? &emsp;&emsp;&ensp; yes!\n",
        "\n",
        "*   Python motto: \"Easier to Ask for Forgiveness than ask for Permission (EAFP)\"\n",
        "\n",
        "---"
      ],
      "metadata": {
        "id": "pjMkOccXMvlj"
      }
    },
    {
      "cell_type": "markdown",
      "source": [
        "---\n",
        "### Exceptions (2)\n",
        "\n",
        "Catch exceptions\n",
        "\n",
        "```\n",
        "     i = 5\n",
        "     j = 0\n",
        "     try:\n",
        "         print(i / j)\n",
        "     except Exception:\n",
        "         print(\"Oops! That was very naughty.\")\n",
        "     else:\n",
        "         print(\"This was OK!\")       \n",
        "     \n",
        "     print(\"We always pass here...\")\n",
        "```\n",
        "\n",
        "Force exceptions in your code\n",
        "\n",
        "```\n",
        "     if i < 0:\n",
        "         raise Exception(\"i is negative\")\n",
        "     else:\n",
        "         print(\"We are happy with this i...\")       \n",
        "```\n",
        "\n",
        "---"
      ],
      "metadata": {
        "id": "5-GYDpVhN5ab"
      }
    },
    {
      "cell_type": "markdown",
      "source": [
        "## 4. Lists, Strings and Tuples"
      ],
      "metadata": {
        "id": "2dMKT9r4ME5z"
      }
    },
    {
      "cell_type": "markdown",
      "source": [
        "---\n",
        "### Lists\n",
        "\n",
        "List: list of values whose types can be different\n",
        "\n",
        "```\n",
        "     u = []                     # empty list\n",
        "     v = [1, 2, 'hi']           # 3 elements\n",
        "     w = [1, [5, 7], 7]         # 3 elements; int, list, int\n",
        "\n",
        "     w[0]                       # 1\n",
        "     w[1]                       # [5, 7]\n",
        "     w[0:2]                     # [1, [5, 7]]\n",
        "     w[1:]                      # [[5, 7], 7]\n",
        "     w[1][0]                    # 5\n",
        "\n",
        "     if 5 in w:                 # False\n",
        "         ...\n",
        "\n",
        "     if 5 in w[1]:              # True\n",
        "         ...    \n",
        "\n",
        "```\n",
        "---"
      ],
      "metadata": {
        "id": "P-q_SqJUNPtm"
      }
    },
    {
      "cell_type": "markdown",
      "source": [
        "---\n",
        "### Lists (2)\n",
        "\n",
        "Use of operators in Lists\n",
        "\n",
        "```\n",
        "     g = [\"ha\"]                 \n",
        "     h = g * 3                  # [\"ha\", \"ha\", \"ha\"]\n",
        "\n",
        "     k = [\"hello\"]              # 3 elements; int, list, int\n",
        "     p = h + k                  # [\"ha\", \"ha\", \"ha\", \"hello\"]\n",
        "```\n",
        "\n",
        "<br>\n",
        "\n",
        "Copying pitfall\n",
        "\n",
        "```\n",
        "     b = [1, 2, 3]              \n",
        "     c = b                      # c points to the same object in memory as b\n",
        "     c[1] = 7                   # b[1] is now 7 too\n",
        "\n",
        "     import copy\n",
        "     c = copy.deepcopy(b)       # c is now a deep copy\n",
        "```\n",
        "\n",
        "---"
      ],
      "metadata": {
        "id": "mZrGiX2gNP8O"
      }
    },
    {
      "cell_type": "markdown",
      "source": [
        "---\n",
        "### List methods and functions\n",
        "\n",
        "```\n",
        "     v = [1, 2, 3]              \n",
        "     v.reverse()                # [3, 2, 1]\n",
        "     v.append(4)                # [3, 2, 1, 4]\n",
        "     v.insert(1, 6)             # [3, 6, 2, 1, 4]\n",
        "     v.sort()                   # [1, 2, 3, 4, 6]\n",
        "\n",
        "     i = v.index(2)             # i = 1  (v[1]==2)\n",
        "     v.extend([0, 7])           # [1, 2, 3, 4, 6, 0, 7]\n",
        "\n",
        "     del v[4]                   # [1, 2, 3, 4, 0, 7]\n",
        "     a = v.pop()                # a = 7, v = [1, 2, 3, 4, 0]\n",
        "     t = sum(v)                 # t = 10\n",
        "```\n",
        "\n",
        "*   methods **sort()** and **reverse()** operate in-place (no return value)\n",
        "---"
      ],
      "metadata": {
        "id": "QYZgIDA_NQKe"
      }
    },
    {
      "cell_type": "markdown",
      "source": [
        "---\n",
        "### List comprehension\n",
        "\n",
        "Build list:\n",
        "\n",
        "```\n",
        "     a = []\n",
        "     for i in range(100):\n",
        "         a.append(2**i)                 # fill list a with powers of 2\n",
        "```\n",
        "Possible in one line:\n",
        "```\n",
        "     a = [2**i for i in range(100)]\n",
        "```\n",
        "Also possible:\n",
        "```\n",
        "     a = [2**i for i in range(100) if i % 13 == 0]\n",
        "```\n",
        "Even this is possible:\n",
        "```\n",
        "     b = [1, 2, 3]\n",
        "     c = [4, 5]\n",
        "     a = [(i, j) for i in b for j in c]\n",
        "     print(a)                 # [(1, 4), (1, 5), (2, 4), (2, 5), (3, 4), (3, 5)]\n",
        "```\n",
        "---"
      ],
      "metadata": {
        "id": "f3yfNNFVNQXW"
      }
    },
    {
      "cell_type": "markdown",
      "source": [
        "---\n",
        "### Strings\n",
        "\n",
        "Make strings\n",
        "\n",
        "```\n",
        "     a = 'air'\n",
        "     b = \"co\"\n",
        "     c = \"\"\"long\n",
        "     string\"\"\"\n",
        "```\n",
        "\n",
        "Strings and operators\n",
        "```\n",
        "     cool = a + b                 # cool is 'airco'\n",
        "     tasty = b * 2 + 'nut'        # tasty is 'coconut'\n",
        "\n",
        "              0  1  2  3  4  5  6\n",
        "      tasty = c  o  c  o  n  u  t\n",
        "             -7 -6 -5 -4 -3 -2 -1\n",
        "```\n",
        "\n",
        "Indexing and Slicing\n",
        "```\n",
        "     fifth  = tasty[4]             # fifth is 'n'\n",
        "     right  = tasty[-1]            # right is 't'\n",
        "     switch = tasty[3:5]           # switch is 'on'  -> slicing\n",
        "     fancy  = tasty[0:5:2]         # fancy is 'ccn'\n",
        "     invers = tasty[::-1]          # invers is 'tunococ'\n",
        "\n",
        "```\n",
        "\n",
        "String length\n",
        "```\n",
        "     len1   = len(tasty)           # len1 is 7\n",
        "     len2   = len(c)               # 11\n",
        "```\n",
        "\n",
        "---"
      ],
      "metadata": {
        "id": "QXMyaULjNRE1"
      }
    },
    {
      "cell_type": "markdown",
      "source": [
        "---\n",
        "### Strings (2)\n",
        "\n",
        "Test strings\n",
        "\n",
        "```\n",
        "     if 'on' in tasty:           # tasty contains 'on', so True\n",
        "         print('on')\n",
        "     if 'apple' < 'ball':        # True, lexicographical order (dictionary order)\n",
        "         print('apple comes before ball in dictionary')    \n",
        "```\n",
        "\n",
        "String is not a number\n",
        "```\n",
        "     a = \"123\"                   \n",
        "     x = a * 3                   # x is '123123123'\n",
        "     x = a + 3                   # 'Exception'  No + for int and string\n",
        "```\n",
        "\n",
        "Conversions\n",
        "```\n",
        "     a = \"123\"                   \n",
        "     b = int(a) + 3              # b is 126\n",
        "     c = str(b) * 3              # c is '126126126'\n",
        "```\n",
        "\n",
        "<br>\n",
        "\n",
        "Notes: Apart from the conversion functions **int()** and **str()**, other conversions are also possible:\n",
        "```                   \n",
        "     str(42)                           # \"42\"\n",
        "     int(\"42\")                         # 42\n",
        "     float(\"1.52\")                     # 1.52\n",
        "     chr(65)                           # 'A'  (get the character that represents the unicode 65)\n",
        "     ord('A')                          # 65 (get the integer that represents the character 'A')\n",
        "     list('air')                       # ['a', 'i', 'r']\n",
        "     tuple('air')                      # ('a', 'i', 'r')\n",
        "     dict([('air': 3), ('hey': 7)])    # {'air': 3, 'hey': 7}\n",
        "```\n",
        "---"
      ],
      "metadata": {
        "id": "xEOduJS9dKH7"
      }
    },
    {
      "cell_type": "markdown",
      "source": [
        "---\n",
        "### String methods\n",
        "\n",
        "Strings have - apart from sequence methods - several extra methods\n",
        "\n",
        "```\n",
        "     s = \"!Always Look on the Bright Side of Life!!\"  \n",
        "\n",
        "     c = s.count(' o')              # 2 times ' o'\n",
        "\n",
        "     i = s.find('ok')               # 10\n",
        "     i = s.find('zzz')              # -1 not found\n",
        "\n",
        "     i = s.index('ok')              # 10\n",
        "     i = s.index('zzz')             # Exception!\n",
        "\n",
        "     u = s.upper()                  # u is \"!ALWAYS LOOK ON THE ...\"\n",
        "     z = s.strip('!')               # z is \"Always Look on the Bright Side of Life\"\n",
        "\n",
        "     p = s.replace('Always', 'Never')   # p is \"!Never Look on the ...\"\n",
        "\n",
        "     t = s.split()                  # ['!Always', 'Look', 'on', ...]\n",
        "\n",
        "     v = \"=\".join(t)                # \"!Always=Look=on=the=Bright=Side=of=Life!!\"\n",
        "```\n",
        "\n",
        "<br>\n",
        "\n",
        "Beware: string is immutable, so methods return new string!\n",
        "\n",
        "String formatting: https://pythoninoffice.com/python-f-string-formatting/\n",
        "\n",
        "---"
      ],
      "metadata": {
        "id": "YSbYdtkrdKfq"
      }
    },
    {
      "cell_type": "markdown",
      "source": [
        "---\n",
        "### Tuples\n",
        "\n",
        "Similar to lists, but cannot be changed (immutable)\n",
        "\n",
        "```\n",
        "     s = (1, 2, 3, 'ho')         # 4 elements\n",
        "\n",
        "     t = (1, (5, 7), 7)          # 3 elements\n",
        "\n",
        "     u = t[0]                    # 1\n",
        "     v = t[1]                    # (5, 7)\n",
        "     w = t[0:2]                  # (1, (5, 7))\n",
        "\n",
        "     if 5 in t:                  # False\n",
        "         ...\n",
        "\n",
        "     if 5 in t[1]:               # True\n",
        "         ...  \n",
        "\n",
        "     for elem in s:\n",
        "         print(elem)\n",
        "\n",
        "     k = 1, 2, 3                 # parantheses may be omitted as long as it is unambiguous          \n",
        "```\n",
        "\n",
        "---"
      ],
      "metadata": {
        "id": "REsCoFdBdKua"
      }
    },
    {
      "cell_type": "markdown",
      "source": [
        "---\n",
        "### Tuples (2)\n",
        "\n",
        "```\n",
        "     i = (\"ha\")                  # 'ha'  (Beware: parantheses always allowed)\n",
        "     j = 3 * i                   # 'hahaha'\n",
        "\n",
        "     u = (\"ha\",)                 # 1\n",
        "     v = 3 * u                   # ('ha', 'ha', 'ha')\n",
        "\n",
        "     w = tuple('hah')            # ('h', 'a', 'h')\n",
        "     l = [1, 2, 3]\n",
        "     t = tuple(l)                # (1, 2, 3)\n",
        "\n",
        "     a = 4\n",
        "     b = 3\n",
        "     (c, d) = (a, b)\n",
        "     c, d = a, b\n",
        "     a, b = b, a\n",
        "```\n",
        "\n",
        "---"
      ],
      "metadata": {
        "id": "eDuTDh2xdK8D"
      }
    },
    {
      "cell_type": "markdown",
      "source": [
        "---\n",
        "### Sequence\n",
        "\n",
        "Datatypes **string**, **list** and **tuple** have a lot in common: sequences\n",
        "\n",
        "```\n",
        "     x in s                      # test if s contains element x\n",
        "     x not in s\n",
        "\n",
        "     s + t                       # s concatenated with t\n",
        "\n",
        "     s * n                       # n units of s\n",
        "     n * s                       # n units of s\n",
        "\n",
        "     s[i]                        # element i of s, counted from 0\n",
        "     s[i:j]                      # slice of s from i till j\n",
        "     s[i:]                       # slice of s from i till end\n",
        "     s[i:j:k]                    # slice of s from i till j with stepsize k\n",
        "     \n",
        "     len(s)                      # length of s\n",
        "     min(s)                      # smallest element of s\n",
        "     max(s)                      # largest element of s\n",
        "\n",
        "```\n",
        "\n",
        "---"
      ],
      "metadata": {
        "id": "hPxyX6BodLHD"
      }
    },
    {
      "cell_type": "markdown",
      "source": [
        "## 5. Dictionaries, Sets and Frozensets"
      ],
      "metadata": {
        "id": "ItCscu3QRPzl"
      }
    },
    {
      "cell_type": "markdown",
      "source": [
        "---\n",
        "### Dictionaries\n",
        "\n",
        "Dictionary: collection of key-value pairs (in undefined order)\n",
        "\n",
        "```\n",
        "     d1 = {}                            # empty dict\n",
        "     d2 = {'ian': 42, 'mary': 38}       \n",
        "\n",
        "     d1[\"hey\"] = \"Bonjour\"              # make a new entry\n",
        "     s = d1[\"hey\"]                      # s = \"Bonjour\"\n",
        "     s = d1[\"hello\"]                    # Exception!\n",
        "\n",
        "     if \"hey\" in d1:                    # True\n",
        "     if \"hello\" in d1:                  # False\n",
        "\n",
        "     for key in d1:                     # loop over keys (random order)\n",
        "         print(key, d1[key])\n",
        "     \n",
        "     # in key order\n",
        "     for key in sorted(d1):             # returns sorted list\n",
        "         print(key, 'has value', d1[key])\n",
        "```\n",
        "\n",
        "Keys:\n",
        "\n",
        "*   cannot be modified\n",
        "*   allowed: number, string, tuple, frozenset (so *not* list and set)\n",
        "\n",
        "---"
      ],
      "metadata": {
        "id": "FgNlGB12dLSK"
      }
    },
    {
      "cell_type": "markdown",
      "source": [
        "---\n",
        "### Dictionaries (2)\n",
        "\n",
        "More details about dictionaries\n",
        "\n",
        "```\n",
        "     a = {'first': 3, 'second': 99}\n",
        "\n",
        "     # get elements\n",
        "     b = a.get('many')                    # b = None\n",
        "     b = a.get('many', 17)                # b = 17\n",
        "     b = a.setdefault('many', 17)         # b = 17, a['many'] = 17\n",
        "\n",
        "     # random storage order\n",
        "     ka = a.keys()                        # dict_keys(['second', 'many', 'first'])\n",
        "     va = a.values()                      # dict_values([99, 17, 3])\n",
        "\n",
        "     del a['many']                        # remove element with key 'many'\n",
        "     a.clear()                            # empty the dict, a = {}\n",
        "\n",
        "```\n",
        "\n",
        "---"
      ],
      "metadata": {
        "id": "JPwB1QBMdLcM"
      }
    },
    {
      "cell_type": "markdown",
      "source": [
        "---\n",
        "### Set and Frozenset\n",
        "\n",
        "Set:\n",
        "\n",
        "*   only contains unique values\n",
        "*   fast search due to hashing (faster than lists)\n",
        "*   random order (no indices)\n",
        "*   **frozenset** cannot be changed\n",
        "\n",
        "```\n",
        "     a = set(['a', 'b', 'a', 'c', 'a', 'd', 'a', 'b', 'r', 'a'])                          \n",
        "     a = {'a', 'b', 'a', 'c', 'a', 'd', 'a', 'b', 'r', 'a'}       \n",
        "                     # {'a', 'b', 'c', 'd', 'r'}\n",
        "\n",
        "     if z in a:                         # False\n",
        "\n",
        "     b = {'a', 'l', 'c', 'z', 'm'}  \n",
        "\n",
        "     x = a - b                          # elements in a that are not in b                   \n",
        "                                        # {'b', 'd', 'r'}\n",
        "\n",
        "     x = a | b                          # elements in a or b\n",
        "                                        # {'a', 'b', 'c', 'd', 'r', 'l', 'c', 'z', 'm}  \n",
        "\n",
        "     b.remove('m')                      # b = {'a', 'l', 'c', 'z'}    \n",
        "\n",
        "     f = frozenset(['a', 'b', 'c'])\n",
        "     f.remove('a')                      # Exception!\n",
        "```\n",
        "\n",
        "---"
      ],
      "metadata": {
        "id": "T7O4FOb0dLmK"
      }
    },
    {
      "cell_type": "code",
      "source": [
        "def sum2(a, b):\n",
        "  s = a + b\n",
        "  return s, a, b\n",
        "\n",
        "x, y, z = sum2(4, 4)\n",
        "print(x, y, z)\n",
        "a = 4\n",
        "print(isinstance(a, int))"
      ],
      "metadata": {
        "colab": {
          "base_uri": "https://localhost:8080/"
        },
        "id": "HgGiwG1LSYf2",
        "outputId": "0566db03-dd8d-439e-8df5-f05e3e3f2c53"
      },
      "execution_count": null,
      "outputs": [
        {
          "output_type": "stream",
          "name": "stdout",
          "text": [
            "8 4 4\n",
            "True\n"
          ]
        }
      ]
    },
    {
      "cell_type": "code",
      "source": [
        "import numpy as np"
      ],
      "metadata": {
        "id": "TyP7MWR1o8cz"
      },
      "execution_count": null,
      "outputs": []
    },
    {
      "cell_type": "code",
      "source": [
        "np.zeros((3, 4))\n"
      ],
      "metadata": {
        "id": "AfM3FfNxo-Hd",
        "outputId": "6639cc5f-9206-46ea-c8ef-0fb27168970b",
        "colab": {
          "base_uri": "https://localhost:8080/"
        }
      },
      "execution_count": null,
      "outputs": [
        {
          "output_type": "execute_result",
          "data": {
            "text/plain": [
              "array([[0., 0., 0., 0.],\n",
              "       [0., 0., 0., 0.],\n",
              "       [0., 0., 0., 0.]])"
            ]
          },
          "metadata": {},
          "execution_count": 10
        }
      ]
    }
  ]
}